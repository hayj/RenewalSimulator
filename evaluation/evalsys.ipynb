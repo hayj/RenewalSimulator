{
 "cells": [
  {
   "cell_type": "markdown",
   "metadata": {},
   "source": [
    "# Renewal benchmark\n",
    "\n",
    "This notebook allows to benchmark Renewal competitors. It can be enhanced and made real-time compatible.\n",
    "We use TrueSkill as the eval system. We access buckt in MongoDB, hence you need to create an SSH tunnel:\n",
    "\n",
    "    ssh -L 27017:localhost:27017 renewal@renewal01\n",
    "\n",
    "To install dependencies, you can use this script: https://github.com/hayj/Bash/blob/master/hjupdate.sh"
   ]
  },
  {
   "cell_type": "markdown",
   "metadata": {},
   "source": [
    "## Importing all packages"
   ]
  },
  {
   "cell_type": "code",
   "execution_count": 1,
   "metadata": {},
   "outputs": [],
   "source": [
    "from systemtools.basics import *\n",
    "from systemtools.file import *\n",
    "from systemtools.printer import *\n",
    "from databasetools.mongo import *"
   ]
  },
  {
   "cell_type": "code",
   "execution_count": 2,
   "metadata": {},
   "outputs": [],
   "source": [
    "from datetime import datetime as pdtime\n",
    "import numpy as np\n",
    "from scipy.signal import savgol_filter\n",
    "import matplotlib.pyplot as plt"
   ]
  },
  {
   "cell_type": "code",
   "execution_count": 3,
   "metadata": {},
   "outputs": [],
   "source": [
    "sys.path.append('../')\n",
    "from renewalsimulator.utils import *"
   ]
  },
  {
   "cell_type": "markdown",
   "metadata": {},
   "source": [
    "## Getting the records from the Mongo database"
   ]
  },
  {
   "cell_type": "code",
   "execution_count": 4,
   "metadata": {},
   "outputs": [],
   "source": [
    "config = \\\n",
    "{\n",
    "    # \"start_time\": \"2021-09-16\", # 2021-09-09\n",
    "    \"start_time\": \"2021-11-11\", # Started the Wed, 10 Nov 2021 20:35:53\n",
    "    \"end_time\": pdtime.now(), # pdtime.now()\n",
    "}\n",
    "config[\"start_time\"] = convertDate(config[\"start_time\"], DATE_FORMAT.datetime)\n",
    "config[\"end_time\"] = convertDate(config[\"end_time\"], DATE_FORMAT.datetime)"
   ]
  },
  {
   "cell_type": "code",
   "execution_count": 5,
   "metadata": {},
   "outputs": [
    {
     "name": "stdout",
     "output_type": "stream",
     "text": [
      "Competition duration: 370h 12m 44.894s\n",
      "{ end_time: 2021-11-26 11:12:44.894139, start_time: 2021-11-11 00:00:00+00:00 }\n"
     ]
    }
   ],
   "source": [
    "print(\"Competition duration: \" + secondsToHumanReadableDuration(convertDate(config[\"end_time\"], DATE_FORMAT.timestamp) - convertDate(config[\"start_time\"], DATE_FORMAT.timestamp)))\n",
    "bp(config)"
   ]
  },
  {
   "cell_type": "code",
   "execution_count": 6,
   "metadata": {},
   "outputs": [
    {
     "name": "stdout",
     "output_type": "stream",
     "text": [
      "renewal recommendation_buckets initialised.\n"
     ]
    }
   ],
   "source": [
    "bucketsCol = MongoCollection(\"renewal\", \"recommendation_buckets\")"
   ]
  },
  {
   "cell_type": "code",
   "execution_count": 7,
   "metadata": {
    "scrolled": true
   },
   "outputs": [
    {
     "name": "stdout",
     "output_type": "stream",
     "text": [
      "[\n",
      "  {\n",
      "    _id: 618cbef51763b365bf7cccde,\n",
      "    bucket_id: 1848,\n",
      "    interleaving: \n",
      "    {\n",
      "      interleaved_recommendations: [ 977577, 983005, ..., 974702, 981197 ],\n",
      "      interleaving_method: team-draft,\n",
      "      recsystems: \n",
      "      [\n",
      "        {\n",
      "          recommendations: [ 979776, 983073, ..., 981532, 980383 ],\n",
      "          recsystem_id: 6149ad143f9819ee0c435b8f\n",
      "        },\n",
      "        {\n",
      "          recommendations: [ 978816, 975812, ..., 983005, 982335 ],\n",
      "          recsystem_id: 60bddeef82145624b8a06523\n",
      "        }\n",
      "      ]\n",
      "    },\n",
      "    recommendations: \n",
      "    [\n",
      "      {\n",
      "        recommendations: [ 810274, 975056, ..., 1001350, 1001349 ],\n",
      "        recsystem_id: 5fae9ec12573bc71bec43bcc,\n",
      "        response_time: 167.55,\n",
      "        warning: duplicates\n",
      "      },\n",
      "      {\n",
      "        recommendations: [ 983005, 976487, ..., 982165, 980573 ],\n",
      "        recsystem_id: 60bddeef82145624b8a06523,\n",
      "        response_time: 1257.06,\n",
      "        warning: duplicates\n",
      "      },\n",
      "      {\n",
      "        recommendations: [ 977577, 980383, ..., 976931, 976930 ],\n",
      "        recsystem_id: 6149ad143f9819ee0c435b8f,\n",
      "        response_time: 2323.05,\n",
      "        warning: duplicates\n",
      "      },\n",
      "      {\n",
      "        recommendations: [ 1001268, 982115, ..., 1001223, 1001351 ],\n",
      "        recsystem_id: 5fae9ebf2573bc71bec43bca,\n",
      "        response_time: 34.82,\n",
      "        warning: duplicates\n",
      "      }\n",
      "    ],\n",
      "    timestamp: 2021-11-11 06:57:54.739000,\n",
      "    user_id: eu5jv2XxGqUpACPibwRoxnjjTHq1\n",
      "  },\n",
      "  {\n",
      "    _id: 618cbf8f1763b365bf7cccfe,\n",
      "    bucket_id: 1849,\n",
      "    interleaving: \n",
      "    {\n",
      "      interleaved_recommendations: [ 1001502, 810274, ..., 1001697, 1001606 ],\n",
      "      interleaving_method: team-draft,\n",
      "      recsystems: \n",
      "      [\n",
      "        {\n",
      "          recommendations: [ 810274, 1001606, ..., 1001619, 984543 ],\n",
      "          recsystem_id: 5fae9ec12573bc71bec43bcc\n",
      "        },\n",
      "        {\n",
      "          recommendations: [ 1001440, 1001633, ..., 1001213, 1001502 ],\n",
      "          recsystem_id: 5fae9ebf2573bc71bec43bca\n",
      "        }\n",
      "      ]\n",
      "    },\n",
      "    recommendations: \n",
      "    [\n",
      "      {\n",
      "        recommendations: [ 810274, 984543, ..., 1001560, 1001561 ],\n",
      "        recsystem_id: 5fae9ec12573bc71bec43bcc,\n",
      "        response_time: 130.38,\n",
      "        warning: duplicates\n",
      "      },\n",
      "      { error: too-few, recommendations: [ ], recsystem_id: 60bddeef82145624b8a06523, response_time: 16.26, warning: duplicates },\n",
      "      { error: too-few, recommendations: [ ], recsystem_id: 6149ad143f9819ee0c435b8f, response_time: 15.94, warning: duplicates },\n",
      "      {\n",
      "        recommendations: [ 1001502, 1001465, ..., 1001480, 1000598 ],\n",
      "        recsystem_id: 5fae9ebf2573bc71bec43bca,\n",
      "        response_time: 34.83,\n",
      "        warning: duplicates\n",
      "      }\n",
      "    ],\n",
      "    timestamp: 2021-11-11 07:00:31.750000,\n",
      "    user_id: eu5jv2XxGqUpACPibwRoxnjjTHq1\n",
      "  },\n",
      "  ...,\n",
      "  {\n",
      "    _id: 61a09cbd1763b365bf7cee3a,\n",
      "    bucket_id: 2111,\n",
      "    interleaving: \n",
      "    {\n",
      "      interleaved_recommendations: [ 979619, 1035204, ..., 978014, 1035126 ],\n",
      "      interleaving_method: team-draft,\n",
      "      recsystems: \n",
      "      [\n",
      "        {\n",
      "          recommendations: [ 1035200, 1035201, ..., 1035198, 1035199 ],\n",
      "          recsystem_id: 60bde68382145624b8a06526\n",
      "        },\n",
      "        {\n",
      "          recommendations: [ 975008, 979619, ..., 978013, 982206 ],\n",
      "          recsystem_id: 6149ad143f9819ee0c435b8f\n",
      "        }\n",
      "      ]\n",
      "    },\n",
      "    recommendations: \n",
      "    [\n",
      "      {\n",
      "        recommendations: [ 1035204, 1028534, ..., 1028346, 1028345 ],\n",
      "        recsystem_id: 5fae9ec12573bc71bec43bcc,\n",
      "        response_time: 938.41\n",
      "      },\n",
      "      {\n",
      "        recommendations: [ 1028396, 1030962, ..., 1034331, 1029370 ],\n",
      "        recsystem_id: 5fae9ebf2573bc71bec43bca,\n",
      "        response_time: 156.42\n",
      "      },\n",
      "      {\n",
      "        recommendations: [ 979619, 978003, ..., 978308, 978309 ],\n",
      "        recsystem_id: 6149ad143f9819ee0c435b8f,\n",
      "        response_time: 2322.47\n",
      "      },\n",
      "      {\n",
      "        recommendations: [ 1035204, 1035203, ..., 1034818, 1034817 ],\n",
      "        recsystem_id: 60bde68382145624b8a06526,\n",
      "        response_time: 1507.23\n",
      "      }\n",
      "    ],\n",
      "    timestamp: 2021-11-26 08:37:15.213000,\n",
      "    user_id: wYhvbbA4E3PMXs1yhFSOrGHE26P2\n",
      "  },\n",
      "  {\n",
      "    _id: 61a0a04a1763b365bf7cee64,\n",
      "    bucket_id: 2112,\n",
      "    interleaving: \n",
      "    {\n",
      "      interleaved_recommendations: [ 1030597, 1035244, ..., 1025362, 1035230 ],\n",
      "      interleaving_method: team-draft,\n",
      "      recsystems: \n",
      "      [\n",
      "        {\n",
      "          recommendations: [ 1035232, 1035233, ..., 1035230, 1035231 ],\n",
      "          recsystem_id: 60bde68382145624b8a06526\n",
      "        },\n",
      "        {\n",
      "          recommendations: [ 1028224, 1026433, ..., 1026494, 1029695 ],\n",
      "          recsystem_id: 5fae9ebf2573bc71bec43bca\n",
      "        }\n",
      "      ]\n",
      "    },\n",
      "    recommendations: \n",
      "    [\n",
      "      { error: timeout, recommendations: [ ], recsystem_id: 60bde65882145624b8a06525, response_time: None },\n",
      "      {\n",
      "        recommendations: [ 1035244, 1028574, ..., 1028386, 1028385 ],\n",
      "        recsystem_id: 5fae9ec12573bc71bec43bcc,\n",
      "        response_time: 1035.8,\n",
      "        warning: duplicates\n",
      "      },\n",
      "      {\n",
      "        recommendations: [ 1030597, 1026494, ..., 1034379, 1027108 ],\n",
      "        recsystem_id: 5fae9ebf2573bc71bec43bca,\n",
      "        response_time: 206.63,\n",
      "        warning: duplicates\n",
      "      },\n",
      "      {\n",
      "        recommendations: [ 1035244, 1035243, ..., 1034812, 1034811 ],\n",
      "        recsystem_id: 60bde68382145624b8a06526,\n",
      "        response_time: 1547.8\n",
      "      }\n",
      "    ],\n",
      "    timestamp: 2021-11-26 08:52:21.835000,\n",
      "    user_id: tQ4DKUGSfvOZtuU81uvfINrh4y83\n",
      "  }\n",
      "]\n",
      "Found 262 buckets\n"
     ]
    }
   ],
   "source": [
    "buckets = list(bucketsCol.find({\"timestamp\": {\"$gt\": config[\"start_time\"], \"$lt\": config[\"end_time\"]}}))\n",
    "buckets = [b for b in buckets if \"interleaving\" in b]\n",
    "bp(buckets)\n",
    "print(\"Found \" + str(len(buckets)) + \" buckets\")"
   ]
  },
  {
   "cell_type": "code",
   "execution_count": 8,
   "metadata": {},
   "outputs": [],
   "source": [
    "def getClicksCursor(test=False):\n",
    "    clicksCol = MongoCollection(\"renewal\", \"articles.events\", verbose=False)\n",
    "    return clicksCol.find\\\n",
    "    (\n",
    "        {\n",
    "            'clicked': None if test else True,\n",
    "            \"timestamp\":\n",
    "            {\n",
    "                \"$gt\": config[\"start_time\"],\n",
    "                \"$lt\": config[\"end_time\"]\n",
    "            }\n",
    "        },\n",
    "        sort=[('timestamp', pymongo.ASCENDING)],\n",
    "    )"
   ]
  },
  {
   "cell_type": "code",
   "execution_count": 9,
   "metadata": {},
   "outputs": [],
   "source": [
    "recsysNameCache = dict()\n",
    "def getRecsysName(objid):\n",
    "    if objid in recsysNameCache:\n",
    "        result = recsysNameCache[objid]\n",
    "    else:\n",
    "        col = MongoCollection(\"renewal\", \"recsystems\", verbose=False)\n",
    "        result = col.findOne(ObjectId(objid))[\"name\"]\n",
    "        recsysNameCache[objid] = result\n",
    "    if result == \"g0\":\n",
    "        return \"baseline-keywords\"\n",
    "    elif result.startswith(\"baseline-random\"):\n",
    "        return \"baseline-random\"\n",
    "    elif result.startswith(\"baseline-popular\"):\n",
    "        return \"baseline-popular\"\n",
    "    elif result.startswith(\"g3\"):\n",
    "        return \"team-1\"\n",
    "    elif result.startswith(\"g6\"):\n",
    "        return \"team-2\"\n",
    "    elif result.startswith(\"g11\"):\n",
    "        return \"team-3\"\n",
    "    else:\n",
    "        return result"
   ]
  },
  {
   "cell_type": "markdown",
   "metadata": {},
   "source": [
    "Currently, we consider a user as active if he clicked on, at least, 3 news. In the future, we'll consider a user as active knowing the number of buckets or the number of days he got a new bucket..."
   ]
  },
  {
   "cell_type": "code",
   "execution_count": 10,
   "metadata": {},
   "outputs": [
    {
     "name": "stdout",
     "output_type": "stream",
     "text": [
      "Here all users (including not active):\n",
      "eu5jv2XxGqUpACPibwRoxnjjTHq1: 75\n",
      "tQ4DKUGSfvOZtuU81uvfINrh4y83: 108\n",
      "SnIlEEVDzzewFaXkUydr2K6vEpU2: 5\n",
      "5J1RfJiTq0OJA6b5UFUeTBgX06j1: 11\n",
      "zY1q2k013nOFlEjHDz5eliGGMNZ2: 4\n",
      "UC5W7D1OuiN0YkHNsGoewjBViRI2: 44\n",
      "XkqRfUiFmwUb48NqMuqi5urj3LF3: 48\n",
      "S3oxvJ9rUiMLNGl4YmZ2bGBsmD92: 1\n",
      "Mhkc4xuaFPWnmbFomIv8drAtsn13: 1\n",
      "C88Z7JqrqoRnO7uvJtBBvBD3oTY2: 3\n",
      "4rlAJaP6AchXCkPEX8TZeqOLUuN2: 10\n",
      "7P3QOs9x5lgnQuQgGzIGTJK1f3A3: 2\n",
      "A1f1TXyxTFWUJxrietIUIg6wgtd2: 1\n",
      "N1UkpI2c6ZddzCI9oXprweB3TNo2: 1\n",
      "A604UnXcaLhwXXM4DeufZUXlfG83: 1\n",
      "H2iybE0qvDeEuwVZmKHtINw7uBv1: 1\n",
      "9Y0byFS0bogPhE4Oit02qEL5oYm2: 1\n",
      "QU9LGpl0ziOI4LfZYC0YSR3gRGh1: 4\n",
      "OE2v74G9RhXqn7Wp5nl649qAEhr2: 7\n",
      "YOgF8ICD2yXVLmqtJIdQrCHMYiD2: 1\n",
      "d2M0BHxGcBSsGRuLXpCvJ8E3FTI2: 2\n",
      "HOR220HHMLfKbsVwallfDGQk31K2: 1\n",
      "CAGeiYJ4DiSJ38OEtRcKTWi27qj2: 3\n",
      "fSFK5HdAhCNri8qBY3pmh09TgUL2: 1\n",
      "JnlyPC82aeVM8ZkHkkMlJEJHDLg1: 5\n",
      "x7XwhYsieTb7AaxvrU6KCdUj8AF3: 1\n",
      "lphfFTeWfMWVfnp8xuUPQMavxZw1: 2\n"
     ]
    }
   ],
   "source": [
    "min_clicked_news = 3\n",
    "clickedNews = dict()\n",
    "for current in getClicksCursor(test=False):\n",
    "    if current['user_id'] not in clickedNews:\n",
    "        clickedNews[current['user_id']] = set()\n",
    "    clickedNews[current['user_id']].add(current['article_id'])\n",
    "users_count = len(clickedNews)\n",
    "print(\"Here all users (including not active):\")\n",
    "for user, clicks in clickedNews.items():\n",
    "    print(user + \": \" + str(len(clicks)))\n",
    "for user in list(clickedNews.keys()):\n",
    "    if len(clickedNews[user]) < min_clicked_news:\n",
    "        del clickedNews[user]\n",
    "active_users_count = len(clickedNews)"
   ]
  },
  {
   "cell_type": "code",
   "execution_count": 11,
   "metadata": {},
   "outputs": [
    {
     "name": "stdout",
     "output_type": "stream",
     "text": [
      "Here every active users:\n",
      "eu5jv2XxGqUpACPibwRoxnjjTHq1: 75\n",
      "tQ4DKUGSfvOZtuU81uvfINrh4y83: 108\n",
      "SnIlEEVDzzewFaXkUydr2K6vEpU2: 5\n",
      "5J1RfJiTq0OJA6b5UFUeTBgX06j1: 11\n",
      "zY1q2k013nOFlEjHDz5eliGGMNZ2: 4\n",
      "UC5W7D1OuiN0YkHNsGoewjBViRI2: 44\n",
      "XkqRfUiFmwUb48NqMuqi5urj3LF3: 48\n",
      "C88Z7JqrqoRnO7uvJtBBvBD3oTY2: 3\n",
      "4rlAJaP6AchXCkPEX8TZeqOLUuN2: 10\n",
      "QU9LGpl0ziOI4LfZYC0YSR3gRGh1: 4\n",
      "OE2v74G9RhXqn7Wp5nl649qAEhr2: 7\n",
      "CAGeiYJ4DiSJ38OEtRcKTWi27qj2: 3\n",
      "JnlyPC82aeVM8ZkHkkMlJEJHDLg1: 5\n"
     ]
    }
   ],
   "source": [
    "print(\"Here every active users:\")\n",
    "for user, clicks in clickedNews.items():\n",
    "    print(user + \": \" + str(len(clicks)))"
   ]
  },
  {
   "cell_type": "code",
   "execution_count": null,
   "metadata": {},
   "outputs": [],
   "source": []
  },
  {
   "cell_type": "code",
   "execution_count": null,
   "metadata": {},
   "outputs": [],
   "source": []
  },
  {
   "cell_type": "markdown",
   "metadata": {},
   "source": [
    "## Creating all outcomes that will feed a RenewalRanking instance"
   ]
  },
  {
   "cell_type": "code",
   "execution_count": 12,
   "metadata": {},
   "outputs": [
    {
     "name": "stdout",
     "output_type": "stream",
     "text": [
      "team-3 won against baseline-keywords (2021-11-11 06:57:54.739000)\n",
      "baseline-popular won against baseline-random (2021-11-11 07:00:31.750000)\n",
      "baseline-random won against team-2 (2021-11-11 07:02:11.070000)\n",
      "It's a draw for baseline-keywords and baseline-random (2021-11-11 09:33:01.250000)\n",
      "baseline-popular won against team-2 (2021-11-11 13:32:22.903000)\n",
      "baseline-random won against baseline-popular (2021-11-11 14:18:28.199000)\n",
      "It's a draw for baseline-keywords and baseline-popular (2021-11-11 14:54:43.387000)\n",
      "baseline-random won against baseline-keywords (2021-11-11 14:54:47.147000)\n",
      "team-2 won against baseline-keywords (2021-11-11 15:56:24.889000)\n",
      "team-3 won against baseline-keywords (2021-11-11 16:02:32.463000)\n",
      "baseline-keywords won against baseline-popular (2021-11-11 16:12:34.300000)\n",
      "team-3 won against team-2 (2021-11-11 18:20:36.654000)\n",
      "team-3 won against baseline-random (2021-11-12 11:07:48.586000)\n",
      "team-2 won against baseline-keywords (2021-11-12 13:16:28.803000)\n",
      "It's a draw for baseline-keywords and baseline-popular (2021-11-12 16:57:51.895000)\n",
      "baseline-keywords won against team-2 (2021-11-12 18:33:40.465000)\n",
      "baseline-popular won against team-2 (2021-11-12 20:26:16.447000)\n",
      "team-2 won against baseline-random (2021-11-12 20:27:43.221000)\n",
      "baseline-random won against baseline-keywords (2021-11-12 20:29:13.041000)\n",
      "It's a draw for team-2 and baseline-popular (2021-11-12 20:29:25.694000)\n",
      "team-3 won against baseline-popular (2021-11-13 15:24:31.565000)\n",
      "team-3 won against team-2 (2021-11-13 20:12:02.154000)\n",
      "team-3 won against baseline-random (2021-11-13 21:16:01.070000)\n",
      "team-3 won against team-2 (2021-11-13 22:47:37.335000)\n",
      "team-3 won against team-2 (2021-11-13 22:52:00.321000)\n",
      "baseline-popular won against team-2 (2021-11-13 23:00:18.929000)\n",
      "team-2 won against baseline-keywords (2021-11-14 08:40:10.363000)\n",
      "baseline-popular won against team-2 (2021-11-14 08:58:34.545000)\n",
      "baseline-keywords won against team-3 (2021-11-14 10:50:24.300000)\n",
      "baseline-popular won against team-2 (2021-11-14 13:52:26.607000)\n",
      "baseline-popular won against team-3 (2021-11-14 13:59:06.472000)\n",
      "baseline-random won against team-2 (2021-11-14 14:00:54.286000)\n",
      "baseline-random won against baseline-popular (2021-11-14 14:01:08.422000)\n",
      "team-2 won against baseline-popular (2021-11-14 14:01:54.278000)\n",
      "baseline-random won against team-2 (2021-11-14 14:02:22.585000)\n",
      "team-2 won against team-3 (2021-11-14 15:59:55.150000)\n",
      "team-2 won against baseline-popular (2021-11-14 16:02:38.056000)\n",
      "baseline-popular won against team-2 (2021-11-14 16:10:57.416000)\n",
      "team-3 won against team-2 (2021-11-14 20:16:03.859000)\n",
      "baseline-keywords won against baseline-popular (2021-11-14 20:50:00.556000)\n",
      "team-3 won against baseline-random (2021-11-15 12:30:40.559000)\n",
      "baseline-popular won against baseline-random (2021-11-15 12:33:17.585000)\n",
      "It's a draw for baseline-random and baseline-popular (2021-11-16 08:11:01.382000)\n",
      "team-3 won against baseline-random (2021-11-16 10:03:33.628000)\n",
      "team-3 won against baseline-popular (2021-11-16 13:33:23.322000)\n",
      "team-3 won against baseline-keywords (2021-11-16 14:08:22.862000)\n",
      "baseline-keywords won against baseline-random (2021-11-16 18:05:14.556000)\n",
      "baseline-random won against team-2 (2021-11-16 19:18:13.122000)\n",
      "baseline-random won against team-3 (2021-11-16 19:22:52.193000)\n",
      "team-2 won against baseline-random (2021-11-16 20:55:22.846000)\n",
      "baseline-popular won against team-3 (2021-11-17 00:48:00.835000)\n",
      "baseline-keywords won against baseline-random (2021-11-17 05:31:33.631000)\n",
      "baseline-keywords won against baseline-popular (2021-11-17 07:59:53.787000)\n",
      "baseline-random won against baseline-popular (2021-11-17 08:27:20.519000)\n",
      "team-2 won against baseline-random (2021-11-17 09:54:27.170000)\n",
      "team-1 won against team-2 (2021-11-17 09:56:16.234000)\n",
      "baseline-random won against team-2 (2021-11-17 09:57:50.979000)\n",
      "team-3 won against baseline-popular (2021-11-17 09:59:03.826000)\n",
      "baseline-random won against baseline-popular (2021-11-17 09:59:37.027000)\n",
      "baseline-popular won against team-3 (2021-11-17 10:58:12.284000)\n",
      "team-3 won against team-2 (2021-11-17 11:57:28.726000)\n",
      "baseline-random won against team-2 (2021-11-17 16:43:44.104000)\n",
      "baseline-keywords won against baseline-random (2021-11-17 17:49:59.175000)\n",
      "It's a draw for team-2 and team-3 (2021-11-17 18:56:57.306000)\n",
      "team-1 won against team-2 (2021-11-17 20:02:30.953000)\n",
      "It's a draw for team-2 and baseline-random (2021-11-18 07:26:48.791000)\n",
      "team-3 won against team-2 (2021-11-18 07:55:02.605000)\n",
      "team-3 won against team-2 (2021-11-18 07:58:59.990000)\n",
      "baseline-keywords won against team-3 (2021-11-18 08:12:59.100000)\n",
      "team-2 won against baseline-keywords (2021-11-18 08:17:10.674000)\n",
      "baseline-popular won against team-2 (2021-11-18 08:19:17.687000)\n",
      "team-3 won against baseline-popular (2021-11-18 08:24:52.896000)\n",
      "team-2 won against baseline-random (2021-11-18 09:05:14.079000)\n",
      "team-3 won against baseline-keywords (2021-11-18 11:03:11.621000)\n",
      "baseline-popular won against baseline-random (2021-11-18 11:04:23.918000)\n",
      "baseline-popular won against baseline-keywords (2021-11-18 16:04:34.214000)\n",
      "team-3 won against baseline-keywords (2021-11-18 16:28:25.521000)\n",
      "baseline-random won against team-2 (2021-11-18 16:46:20.767000)\n",
      "team-2 won against baseline-popular (2021-11-19 07:50:15.332000)\n",
      "It's a draw for team-1 and baseline-keywords (2021-11-19 11:14:06.707000)\n",
      "team-1 won against baseline-random (2021-11-19 11:16:34.958000)\n",
      "baseline-keywords won against baseline-popular (2021-11-19 16:40:48.622000)\n",
      "team-1 won against baseline-random (2021-11-19 16:43:47.527000)\n",
      "It's a draw for team-3 and team-2 (2021-11-19 17:05:27.588000)\n",
      "team-2 won against baseline-popular (2021-11-19 22:22:46.582000)\n",
      "It's a draw for team-2 and baseline-popular (2021-11-20 08:45:43.416000)\n",
      "team-2 won against team-1 (2021-11-20 08:50:07.440000)\n",
      "It's a draw for baseline-keywords and baseline-random (2021-11-20 15:00:15.984000)\n",
      "It's a draw for baseline-keywords and baseline-random (2021-11-20 18:16:45.802000)\n",
      "team-3 won against team-2 (2021-11-20 18:21:46.870000)\n",
      "team-3 won against baseline-random (2021-11-20 18:23:44.920000)\n",
      "baseline-random won against team-1 (2021-11-20 18:27:33.185000)\n",
      "team-1 won against team-3 (2021-11-20 20:24:16.395000)\n",
      "team-1 won against team-3 (2021-11-20 20:27:38.337000)\n",
      "team-2 won against baseline-popular (2021-11-20 20:28:43.381000)\n",
      "team-2 won against team-3 (2021-11-21 06:15:36.347000)\n",
      "team-3 won against team-2 (2021-11-21 07:09:33.770000)\n",
      "team-2 won against baseline-popular (2021-11-21 09:34:59.111000)\n",
      "team-2 won against baseline-popular (2021-11-21 12:36:18.475000)\n",
      "It's a draw for baseline-random and baseline-popular (2021-11-21 22:09:21.589000)\n",
      "baseline-random won against baseline-popular (2021-11-22 07:07:20.104000)\n",
      "team-3 won against team-2 (2021-11-22 07:41:11.052000)\n",
      "team-2 won against baseline-popular (2021-11-22 07:43:21.594000)\n",
      "team-2 won against team-3 (2021-11-22 07:49:11.757000)\n",
      "It's a draw for baseline-keywords and team-2 (2021-11-22 12:10:09.154000)\n",
      "team-3 won against baseline-random (2021-11-22 15:36:51.714000)\n",
      "team-2 won against team-3 (2021-11-22 21:50:22.802000)\n",
      "team-3 won against team-2 (2021-11-22 22:15:02.665000)\n",
      "baseline-popular won against team-3 (2021-11-23 07:45:07.875000)\n",
      "baseline-popular won against team-2 (2021-11-23 09:54:52.045000)\n",
      "It's a draw for baseline-keywords and baseline-random (2021-11-23 18:05:58.455000)\n",
      "baseline-keywords won against team-2 (2021-11-23 18:31:47.836000)\n",
      "It's a draw for team-2 and baseline-popular (2021-11-23 18:36:14.592000)\n",
      "baseline-random won against baseline-popular (2021-11-23 18:38:02.848000)\n",
      "baseline-popular won against team-3 (2021-11-23 18:40:07.381000)\n",
      "baseline-random won against team-1 (2021-11-24 07:48:32.832000)\n",
      "It's a draw for team-2 and baseline-popular (2021-11-24 08:27:45.817000)\n",
      "team-3 won against baseline-keywords (2021-11-24 08:55:09.058000)\n",
      "baseline-popular won against team-2 (2021-11-24 14:01:13.780000)\n",
      "baseline-random won against baseline-popular (2021-11-24 16:24:15.355000)\n",
      "team-2 won against team-3 (2021-11-24 17:15:24.295000)\n",
      "team-2 won against team-3 (2021-11-24 21:06:13.743000)\n",
      "baseline-random won against baseline-keywords (2021-11-25 07:22:56.181000)\n",
      "baseline-random won against team-2 (2021-11-25 07:47:25.746000)\n",
      "team-1 won against team-2 (2021-11-25 07:51:08.353000)\n",
      "team-2 won against baseline-random (2021-11-25 12:33:52.965000)\n",
      "team-3 won against team-2 (2021-11-25 16:49:11.594000)\n",
      "team-2 won against baseline-keywords (2021-11-25 18:09:28.882000)\n",
      "baseline-random won against team-3 (2021-11-25 19:24:25.109000)\n",
      "baseline-popular won against baseline-random (2021-11-25 19:30:10.074000)\n",
      "baseline-random won against team-2 (2021-11-25 19:35:56.809000)\n",
      "team-3 won against baseline-random (2021-11-25 20:06:40.328000)\n",
      "baseline-keywords won against team-3 (2021-11-25 20:11:26.171000)\n",
      "It's a draw for baseline-popular and baseline-random (2021-11-25 20:12:50.083000)\n",
      "It's a draw for team-2 and team-1 (2021-11-25 20:18:53.612000)\n",
      "team-3 won against team-2 (2021-11-25 22:20:51.902000)\n",
      "It's a draw for baseline-keywords and baseline-random (2021-11-25 22:28:40.938000)\n",
      "baseline-popular won against team-2 (2021-11-26 08:04:03.599000)\n",
      "baseline-random won against baseline-popular (2021-11-26 08:24:22.599000)\n",
      "team-2 won against team-3 (2021-11-26 08:30:55.721000)\n",
      "team-2 won against baseline-popular (2021-11-26 08:32:43.249000)\n",
      "[ 60bddeef82145624b8a06523, 5fae9ec12573bc71bec43bcc, 60bde65882145624b8a06525, 60bde68382145624b8a06526, 6149ad143f9819ee0c435b8f, 5fae9ebf2573bc71bec43bca ]\n",
      "[\n",
      "  ( 6149ad143f9819ee0c435b8f, 60bddeef82145624b8a06523, 1, 2021-11-11 06:57:54.739000 ),\n",
      "  ( 5fae9ec12573bc71bec43bcc, 5fae9ebf2573bc71bec43bca, -1, 2021-11-11 07:00:31.750000 ),\n",
      "  ( 60bde68382145624b8a06526, 5fae9ebf2573bc71bec43bca, 1, 2021-11-11 07:02:11.070000 ),\n",
      "  ( 6149ad143f9819ee0c435b8f, 5fae9ebf2573bc71bec43bca, 0, 2021-11-11 09:33:01.250000 ),\n",
      "  ( 60bde68382145624b8a06526, 5fae9ec12573bc71bec43bcc, 1, 2021-11-11 13:32:22.903000 ),\n",
      "  ( 5fae9ec12573bc71bec43bcc, 5fae9ebf2573bc71bec43bca, 1, 2021-11-11 14:18:28.199000 ),\n",
      "  ( 6149ad143f9819ee0c435b8f, 5fae9ec12573bc71bec43bcc, 0, 2021-11-11 14:54:43.387000 ),\n",
      "  ( 6149ad143f9819ee0c435b8f, 5fae9ebf2573bc71bec43bca, 1, 2021-11-11 14:54:47.147000 ),\n",
      "  ( 6149ad143f9819ee0c435b8f, 60bde68382145624b8a06526, 1, 2021-11-11 15:56:24.889000 ),\n",
      "  ( 6149ad143f9819ee0c435b8f, 60bddeef82145624b8a06523, 1, 2021-11-11 16:02:32.463000 ),\n",
      "  ...,\n",
      "  ( 60bddeef82145624b8a06523, 5fae9ebf2573bc71bec43bca, -1, 2021-11-25 20:06:40.328000 ),\n",
      "  ( 6149ad143f9819ee0c435b8f, 60bddeef82145624b8a06523, -1, 2021-11-25 20:11:26.171000 ),\n",
      "  ( 5fae9ec12573bc71bec43bcc, 5fae9ebf2573bc71bec43bca, 0, 2021-11-25 20:12:50.083000 ),\n",
      "  ( 60bde68382145624b8a06526, 60bde65882145624b8a06525, 0, 2021-11-25 20:18:53.612000 ),\n",
      "  ( 60bde68382145624b8a06526, 60bddeef82145624b8a06523, 1, 2021-11-25 22:20:51.902000 ),\n",
      "  ( 6149ad143f9819ee0c435b8f, 5fae9ebf2573bc71bec43bca, 0, 2021-11-25 22:28:40.938000 ),\n",
      "  ( 60bde68382145624b8a06526, 5fae9ec12573bc71bec43bcc, 1, 2021-11-26 08:04:03.599000 ),\n",
      "  ( 5fae9ebf2573bc71bec43bca, 5fae9ec12573bc71bec43bcc, -1, 2021-11-26 08:24:22.599000 ),\n",
      "  ( 60bde68382145624b8a06526, 60bddeef82145624b8a06523, -1, 2021-11-26 08:30:55.721000 ),\n",
      "  ( 60bde68382145624b8a06526, 5fae9ec12573bc71bec43bcc, -1, 2021-11-26 08:32:43.249000 )\n",
      "]\n",
      "no_match_count: 121\n",
      "match_count: 141\n"
     ]
    }
   ],
   "source": [
    "outcomes = []\n",
    "competitors = set()\n",
    "no_match_count = 0\n",
    "match_count = 0\n",
    "for bucket in buckets:\n",
    "    try:\n",
    "        del bucket['articles']\n",
    "    except: pass\n",
    "    user_id = bucket[\"user_id\"]\n",
    "    if user_id not in clickedNews:\n",
    "        clickedNews[user_id] = set()\n",
    "    timestamp = bucket[\"timestamp\"]\n",
    "    interleaved_list = bucket[\"interleaving\"][\"interleaved_recommendations\"]\n",
    "    recommendations = dict()\n",
    "    for current in bucket['interleaving']['recsystems']:\n",
    "        recommendations[current['recsystem_id']] = current['recommendations']\n",
    "    assert len(recommendations) == 2\n",
    "    recsys_a, recsys_b = tuple(recommendations.keys())\n",
    "    competitors.add(recsys_a)\n",
    "    competitors.add(recsys_b)\n",
    "    recs_a, recs_b = recommendations[recsys_a], recommendations[recsys_b]\n",
    "    assert recsys_a != recsys_b\n",
    "    a_clicks = 0\n",
    "    b_clicks = 0\n",
    "    for article_id in interleaved_list:\n",
    "        if article_id in clickedNews[user_id]:\n",
    "            if article_id in recs_a:\n",
    "                a_clicks += 1\n",
    "            if article_id in recs_b:\n",
    "                b_clicks += 1\n",
    "    if a_clicks == 0 and b_clicks == 0:\n",
    "        pass\n",
    "        no_match_count += 1\n",
    "        # print(\"No match\")\n",
    "    elif a_clicks > b_clicks:\n",
    "        match_count += 1\n",
    "        print(getRecsysName(recsys_a) + \" won against \" + getRecsysName(recsys_b) + \" (\" + str(timestamp) + \")\")\n",
    "        outcomes.append((recsys_a, recsys_b, -1, timestamp))\n",
    "    elif a_clicks < b_clicks:\n",
    "        match_count += 1\n",
    "        print(getRecsysName(recsys_b) + \" won against \" + getRecsysName(recsys_a) + \" (\" + str(timestamp) + \")\")\n",
    "        outcomes.append((recsys_a, recsys_b, 1, timestamp))\n",
    "    else:\n",
    "        match_count += 1\n",
    "        print(\"It's a draw for \" + getRecsysName(recsys_a) + \" and \" + getRecsysName(recsys_b) + \" (\" + str(timestamp) + \")\")\n",
    "        outcomes.append((recsys_a, recsys_b, 0, timestamp))\n",
    "competitors = list(competitors)\n",
    "bp(competitors, 4)\n",
    "bp(outcomes, 4)\n",
    "print(\"no_match_count: \" + str(no_match_count))\n",
    "print(\"match_count: \" + str(match_count))"
   ]
  },
  {
   "cell_type": "code",
   "execution_count": null,
   "metadata": {},
   "outputs": [],
   "source": []
  },
  {
   "cell_type": "code",
   "execution_count": null,
   "metadata": {},
   "outputs": [],
   "source": []
  },
  {
   "cell_type": "markdown",
   "metadata": {},
   "source": [
    "## Evaluation using the `RenewalRanking` class"
   ]
  },
  {
   "cell_type": "code",
   "execution_count": 13,
   "metadata": {},
   "outputs": [
    {
     "name": "stdout",
     "output_type": "stream",
     "text": [
      "[\n",
      "  (\n",
      "    [ ( 60bddeef82145624b8a06523, 29.3, 7.17 ), ( 5fae9ec12573bc71bec43bcc, 25.0, 8.33 ), ..., ( 5fae9ebf2573bc71bec43bca, 25.0, 8.33 ), ( 6149ad143f9819ee0c435b8f, 20.6, 7.17 ) ],\n",
      "    2021-11-11 06:57:54.739000\n",
      "  ),\n",
      "  (\n",
      "    [ ( 60bddeef82145624b8a06523, 29.3, 7.17 ), ( 5fae9ec12573bc71bec43bcc, 29.3, 7.17 ), ..., ( 6149ad143f9819ee0c435b8f, 20.6, 7.17 ), ( 5fae9ebf2573bc71bec43bca, 20.6, 7.17 ) ],\n",
      "    2021-11-11 07:00:31.750000\n",
      "  ),\n",
      "  ...,\n",
      "  (\n",
      "    [ ( 60bde65882145624b8a06525, 26.4, 2.15 ), ( 60bddeef82145624b8a06523, 24.9, 1.16 ), ..., ( 60bde68382145624b8a06526, 23.7, 0.98 ), ( 5fae9ec12573bc71bec43bcc, 23.2, 1.08 ) ],\n",
      "    2021-11-26 08:30:55.721000\n",
      "  ),\n",
      "  (\n",
      "    [ ( 60bde65882145624b8a06525, 26.4, 2.15 ), ( 60bddeef82145624b8a06523, 24.9, 1.16 ), ..., ( 60bde68382145624b8a06526, 23.9, 0.98 ), ( 5fae9ec12573bc71bec43bcc, 23.1, 1.07 ) ],\n",
      "    2021-11-26 08:32:43.249000\n",
      "  )\n",
      "]\n"
     ]
    }
   ],
   "source": [
    "rr = RenewalRanking(competitors, float_precision=1)\n",
    "rankings = []\n",
    "for a, b, result, timestamp in outcomes:\n",
    "    if result == 1:\n",
    "        winner = b\n",
    "    elif result == -1:\n",
    "        winner = a\n",
    "    else:\n",
    "        winner = None\n",
    "    rr.match(a, b, winner=winner)\n",
    "    rankings.append((rr.get_ranking_stats(), timestamp))\n",
    "bp(rankings)"
   ]
  },
  {
   "cell_type": "code",
   "execution_count": 14,
   "metadata": {},
   "outputs": [
    {
     "name": "stdout",
     "output_type": "stream",
     "text": [
      "[\n",
      "  {\n",
      "    ranking: [ ( 60bddeef82145624b8a06523, 29.3, 7.17 ), ( 5fae9ec12573bc71bec43bcc, 25.0, 8.33 ), ..., ( 5fae9ebf2573bc71bec43bca, 25.0, 8.33 ), ( 6149ad143f9819ee0c435b8f, 20.6, 7.17 ) ],\n",
      "    recsys_a: 6149ad143f9819ee0c435b8f,\n",
      "    recsys_b: 60bddeef82145624b8a06523,\n",
      "    result: 1,\n",
      "    timestamp: 2021-11-11 06:57:54.739000\n",
      "  },\n",
      "  {\n",
      "    ranking: [ ( 60bddeef82145624b8a06523, 29.3, 7.17 ), ( 5fae9ec12573bc71bec43bcc, 29.3, 7.17 ), ..., ( 6149ad143f9819ee0c435b8f, 20.6, 7.17 ), ( 5fae9ebf2573bc71bec43bca, 20.6, 7.17 ) ],\n",
      "    recsys_a: 5fae9ec12573bc71bec43bcc,\n",
      "    recsys_b: 5fae9ebf2573bc71bec43bca,\n",
      "    result: -1,\n",
      "    timestamp: 2021-11-11 07:00:31.750000\n",
      "  },\n",
      "  ...,\n",
      "  {\n",
      "    ranking: [ ( 60bde65882145624b8a06525, 26.4, 2.15 ), ( 60bddeef82145624b8a06523, 24.9, 1.16 ), ..., ( 60bde68382145624b8a06526, 23.7, 0.98 ), ( 5fae9ec12573bc71bec43bcc, 23.2, 1.08 ) ],\n",
      "    recsys_a: 60bde68382145624b8a06526,\n",
      "    recsys_b: 60bddeef82145624b8a06523,\n",
      "    result: -1,\n",
      "    timestamp: 2021-11-26 08:30:55.721000\n",
      "  },\n",
      "  {\n",
      "    ranking: [ ( 60bde65882145624b8a06525, 26.4, 2.15 ), ( 60bddeef82145624b8a06523, 24.9, 1.16 ), ..., ( 60bde68382145624b8a06526, 23.9, 0.98 ), ( 5fae9ec12573bc71bec43bcc, 23.1, 1.07 ) ],\n",
      "    recsys_a: 60bde68382145624b8a06526,\n",
      "    recsys_b: 5fae9ec12573bc71bec43bcc,\n",
      "    result: -1,\n",
      "    timestamp: 2021-11-26 08:32:43.249000\n",
      "  }\n",
      "]\n"
     ]
    }
   ],
   "source": [
    "# Converting it in dict:\n",
    "rk = []\n",
    "for i in range(len(outcomes)):\n",
    "    current = dict()\n",
    "    current[\"recsys_a\"] = outcomes[i][0]\n",
    "    current[\"recsys_b\"] = outcomes[i][1]\n",
    "    current[\"result\"] = outcomes[i][2]\n",
    "    current[\"timestamp\"] = outcomes[i][3]\n",
    "    current[\"ranking\"] = rankings[i][0]\n",
    "    rk.append(current)\n",
    "bp(rk)"
   ]
  },
  {
   "cell_type": "code",
   "execution_count": 15,
   "metadata": {},
   "outputs": [
    {
     "name": "stdout",
     "output_type": "stream",
     "text": [
      "[\n",
      "  {\n",
      "    5fae9ebf2573bc71bec43bca: { confidence: 8.33, score: 25.0 },\n",
      "    5fae9ec12573bc71bec43bcc: { confidence: 8.33, score: 25.0 },\n",
      "    60bddeef82145624b8a06523: { confidence: 7.17, score: 29.3 },\n",
      "    60bde65882145624b8a06525: { confidence: 8.33, score: 25.0 },\n",
      "    60bde68382145624b8a06526: { confidence: 8.33, score: 25.0 },\n",
      "    6149ad143f9819ee0c435b8f: { confidence: 7.17, score: 20.6 }\n",
      "  },\n",
      "  {\n",
      "    5fae9ebf2573bc71bec43bca: { confidence: 7.17, score: 20.6 },\n",
      "    5fae9ec12573bc71bec43bcc: { confidence: 7.17, score: 29.3 },\n",
      "    60bddeef82145624b8a06523: { confidence: 7.17, score: 29.3 },\n",
      "    60bde65882145624b8a06525: { confidence: 8.33, score: 25.0 },\n",
      "    60bde68382145624b8a06526: { confidence: 8.33, score: 25.0 },\n",
      "    6149ad143f9819ee0c435b8f: { confidence: 7.17, score: 20.6 }\n",
      "  },\n",
      "  ...,\n",
      "  {\n",
      "    5fae9ebf2573bc71bec43bca: { confidence: 1.09, score: 24.6 },\n",
      "    5fae9ec12573bc71bec43bcc: { confidence: 1.08, score: 23.2 },\n",
      "    60bddeef82145624b8a06523: { confidence: 1.16, score: 24.9 },\n",
      "    60bde65882145624b8a06525: { confidence: 2.15, score: 26.4 },\n",
      "    60bde68382145624b8a06526: { confidence: 0.98, score: 23.7 },\n",
      "    6149ad143f9819ee0c435b8f: { confidence: 1.3, score: 24.2 }\n",
      "  },\n",
      "  {\n",
      "    5fae9ebf2573bc71bec43bca: { confidence: 1.09, score: 24.6 },\n",
      "    5fae9ec12573bc71bec43bcc: { confidence: 1.07, score: 23.1 },\n",
      "    60bddeef82145624b8a06523: { confidence: 1.16, score: 24.9 },\n",
      "    60bde65882145624b8a06525: { confidence: 2.15, score: 26.4 },\n",
      "    60bde68382145624b8a06526: { confidence: 0.98, score: 23.9 },\n",
      "    6149ad143f9819ee0c435b8f: { confidence: 1.3, score: 24.2 }\n",
      "  }\n",
      "]\n"
     ]
    }
   ],
   "source": [
    "rk = []\n",
    "for ranking, timestamp in rankings:\n",
    "    current_rk = dict()\n",
    "    for current_competitor in ranking:\n",
    "        current_rk[current_competitor[0]] = dict()\n",
    "        current_rk[current_competitor[0]][\"score\"] = current_competitor[1]\n",
    "        current_rk[current_competitor[0]][\"confidence\"] = current_competitor[2]\n",
    "    rk.append(current_rk)\n",
    "bp(rk)"
   ]
  },
  {
   "cell_type": "code",
   "execution_count": null,
   "metadata": {},
   "outputs": [],
   "source": []
  },
  {
   "cell_type": "code",
   "execution_count": null,
   "metadata": {},
   "outputs": [],
   "source": []
  },
  {
   "cell_type": "markdown",
   "metadata": {},
   "source": [
    "## Creating intermediare plots"
   ]
  },
  {
   "cell_type": "code",
   "execution_count": 16,
   "metadata": {},
   "outputs": [
    {
     "name": "stdout",
     "output_type": "stream",
     "text": [
      "[ 2021-11-11 06:57:54.739000, 2021-11-11 07:00:31.750000, ..., 2021-11-26 08:30:55.721000, 2021-11-26 08:32:43.249000 ]\n",
      "{ 1636610274.739: 2021-11-11 06:57:54.739000, 1636610431.75: 2021-11-11 07:00:31.750000, 1636610531.07: 2021-11-11 07:02:11.070000, 1636619581.25: 2021-11-11 09:33:01.250000, 1636633942.903: 2021-11-11 13:32:22.903000, ..., 1637875720.938: 2021-11-25 22:28:40.938000, 1637910243.599: 2021-11-26 08:04:03.599000, 1637911462.599: 2021-11-26 08:24:22.599000, 1637911855.721: 2021-11-26 08:30:55.721000, 1637911963.249: 2021-11-26 08:32:43.249000 }\n"
     ]
    }
   ],
   "source": [
    "x = []\n",
    "x_translation = dict()\n",
    "for ranking_stats, dtime in rankings:\n",
    "    timestamp = convertDate(dtime, DATE_FORMAT.timestamp)\n",
    "    x.append(dtime)\n",
    "    x_translation[timestamp] = str(dtime)\n",
    "bp(x)\n",
    "bp(x_translation)"
   ]
  },
  {
   "cell_type": "code",
   "execution_count": 17,
   "metadata": {},
   "outputs": [
    {
     "name": "stdout",
     "output_type": "stream",
     "text": [
      "{\n",
      "  5fae9ebf2573bc71bec43bca: [ 25.0, 20.6, ..., 24.6, 24.6 ],\n",
      "  5fae9ec12573bc71bec43bcc: [ 25.0, 29.3, ..., 23.2, 23.1 ],\n",
      "  60bddeef82145624b8a06523: [ 29.3, 29.3, ..., 24.9, 24.9 ],\n",
      "  60bde65882145624b8a06525: [ 25.0, 25.0, ..., 26.4, 26.4 ],\n",
      "  60bde68382145624b8a06526: [ 25.0, 25.0, ..., 23.7, 23.9 ],\n",
      "  6149ad143f9819ee0c435b8f: [ 20.6, 20.6, ..., 24.2, 24.2 ]\n",
      "}\n"
     ]
    }
   ],
   "source": [
    "scores = dict()\n",
    "for competitor in competitors:\n",
    "    current_scores = []\n",
    "    for ranking in rankings:\n",
    "        for current in ranking[0]:\n",
    "            if current[0] == competitor:\n",
    "                current_scores.append(current[1])\n",
    "                break\n",
    "    scores[str(competitor)] = current_scores\n",
    "bp(scores)"
   ]
  },
  {
   "cell_type": "code",
   "execution_count": 18,
   "metadata": {},
   "outputs": [
    {
     "name": "stdout",
     "output_type": "stream",
     "text": [
      "{\n",
      "  5fae9ebf2573bc71bec43bca: [ 25.0, 20.6, ..., 24.6, 24.6 ],\n",
      "  5fae9ec12573bc71bec43bcc: [ 25.0, 29.3, ..., 23.2, 23.1 ],\n",
      "  60bddeef82145624b8a06523: [ 29.3, 29.3, ..., 24.9, 24.9 ],\n",
      "  60bde65882145624b8a06525: [ 25.0, 25.0, ..., 26.4, 26.4 ],\n",
      "  60bde68382145624b8a06526: [ 25.0, 25.0, ..., 23.7, 23.9 ],\n",
      "  6149ad143f9819ee0c435b8f: [ 20.6, 20.6, ..., 24.2, 24.2 ],\n",
      "  x: [ 2021-11-11 06:57:54.739000, 2021-11-11 07:00:31.750000, ..., 2021-11-26 08:30:55.721000, 2021-11-26 08:32:43.249000 ]\n",
      "}\n"
     ]
    }
   ],
   "source": [
    "data = mergeDicts(scores, dict(x=x))\n",
    "original_data = copy.deepcopy(data)\n",
    "bp(data)"
   ]
  },
  {
   "cell_type": "code",
   "execution_count": 19,
   "metadata": {},
   "outputs": [],
   "source": [
    "from bokeh.models import ColumnDataSource\n",
    "from bokeh.plotting import figure, output_notebook, show"
   ]
  },
  {
   "cell_type": "code",
   "execution_count": 20,
   "metadata": {},
   "outputs": [
    {
     "data": {
      "text/html": [
       "\n",
       "    <div class=\"bk-root\">\n",
       "        <a href=\"https://bokeh.org\" target=\"_blank\" class=\"bk-logo bk-logo-small bk-logo-notebook\"></a>\n",
       "        <span id=\"1001\">Loading BokehJS ...</span>\n",
       "    </div>"
      ]
     },
     "metadata": {},
     "output_type": "display_data"
    },
    {
     "data": {
      "application/javascript": [
       "\n",
       "(function(root) {\n",
       "  function now() {\n",
       "    return new Date();\n",
       "  }\n",
       "\n",
       "  var force = true;\n",
       "\n",
       "  if (typeof root._bokeh_onload_callbacks === \"undefined\" || force === true) {\n",
       "    root._bokeh_onload_callbacks = [];\n",
       "    root._bokeh_is_loading = undefined;\n",
       "  }\n",
       "\n",
       "  var JS_MIME_TYPE = 'application/javascript';\n",
       "  var HTML_MIME_TYPE = 'text/html';\n",
       "  var EXEC_MIME_TYPE = 'application/vnd.bokehjs_exec.v0+json';\n",
       "  var CLASS_NAME = 'output_bokeh rendered_html';\n",
       "\n",
       "  /**\n",
       "   * Render data to the DOM node\n",
       "   */\n",
       "  function render(props, node) {\n",
       "    var script = document.createElement(\"script\");\n",
       "    node.appendChild(script);\n",
       "  }\n",
       "\n",
       "  /**\n",
       "   * Handle when an output is cleared or removed\n",
       "   */\n",
       "  function handleClearOutput(event, handle) {\n",
       "    var cell = handle.cell;\n",
       "\n",
       "    var id = cell.output_area._bokeh_element_id;\n",
       "    var server_id = cell.output_area._bokeh_server_id;\n",
       "    // Clean up Bokeh references\n",
       "    if (id != null && id in Bokeh.index) {\n",
       "      Bokeh.index[id].model.document.clear();\n",
       "      delete Bokeh.index[id];\n",
       "    }\n",
       "\n",
       "    if (server_id !== undefined) {\n",
       "      // Clean up Bokeh references\n",
       "      var cmd = \"from bokeh.io.state import curstate; print(curstate().uuid_to_server['\" + server_id + \"'].get_sessions()[0].document.roots[0]._id)\";\n",
       "      cell.notebook.kernel.execute(cmd, {\n",
       "        iopub: {\n",
       "          output: function(msg) {\n",
       "            var id = msg.content.text.trim();\n",
       "            if (id in Bokeh.index) {\n",
       "              Bokeh.index[id].model.document.clear();\n",
       "              delete Bokeh.index[id];\n",
       "            }\n",
       "          }\n",
       "        }\n",
       "      });\n",
       "      // Destroy server and session\n",
       "      var cmd = \"import bokeh.io.notebook as ion; ion.destroy_server('\" + server_id + \"')\";\n",
       "      cell.notebook.kernel.execute(cmd);\n",
       "    }\n",
       "  }\n",
       "\n",
       "  /**\n",
       "   * Handle when a new output is added\n",
       "   */\n",
       "  function handleAddOutput(event, handle) {\n",
       "    var output_area = handle.output_area;\n",
       "    var output = handle.output;\n",
       "\n",
       "    // limit handleAddOutput to display_data with EXEC_MIME_TYPE content only\n",
       "    if ((output.output_type != \"display_data\") || (!output.data.hasOwnProperty(EXEC_MIME_TYPE))) {\n",
       "      return\n",
       "    }\n",
       "\n",
       "    var toinsert = output_area.element.find(\".\" + CLASS_NAME.split(' ')[0]);\n",
       "\n",
       "    if (output.metadata[EXEC_MIME_TYPE][\"id\"] !== undefined) {\n",
       "      toinsert[toinsert.length - 1].firstChild.textContent = output.data[JS_MIME_TYPE];\n",
       "      // store reference to embed id on output_area\n",
       "      output_area._bokeh_element_id = output.metadata[EXEC_MIME_TYPE][\"id\"];\n",
       "    }\n",
       "    if (output.metadata[EXEC_MIME_TYPE][\"server_id\"] !== undefined) {\n",
       "      var bk_div = document.createElement(\"div\");\n",
       "      bk_div.innerHTML = output.data[HTML_MIME_TYPE];\n",
       "      var script_attrs = bk_div.children[0].attributes;\n",
       "      for (var i = 0; i < script_attrs.length; i++) {\n",
       "        toinsert[toinsert.length - 1].firstChild.setAttribute(script_attrs[i].name, script_attrs[i].value);\n",
       "        toinsert[toinsert.length - 1].firstChild.textContent = bk_div.children[0].textContent\n",
       "      }\n",
       "      // store reference to server id on output_area\n",
       "      output_area._bokeh_server_id = output.metadata[EXEC_MIME_TYPE][\"server_id\"];\n",
       "    }\n",
       "  }\n",
       "\n",
       "  function register_renderer(events, OutputArea) {\n",
       "\n",
       "    function append_mime(data, metadata, element) {\n",
       "      // create a DOM node to render to\n",
       "      var toinsert = this.create_output_subarea(\n",
       "        metadata,\n",
       "        CLASS_NAME,\n",
       "        EXEC_MIME_TYPE\n",
       "      );\n",
       "      this.keyboard_manager.register_events(toinsert);\n",
       "      // Render to node\n",
       "      var props = {data: data, metadata: metadata[EXEC_MIME_TYPE]};\n",
       "      render(props, toinsert[toinsert.length - 1]);\n",
       "      element.append(toinsert);\n",
       "      return toinsert\n",
       "    }\n",
       "\n",
       "    /* Handle when an output is cleared or removed */\n",
       "    events.on('clear_output.CodeCell', handleClearOutput);\n",
       "    events.on('delete.Cell', handleClearOutput);\n",
       "\n",
       "    /* Handle when a new output is added */\n",
       "    events.on('output_added.OutputArea', handleAddOutput);\n",
       "\n",
       "    /**\n",
       "     * Register the mime type and append_mime function with output_area\n",
       "     */\n",
       "    OutputArea.prototype.register_mime_type(EXEC_MIME_TYPE, append_mime, {\n",
       "      /* Is output safe? */\n",
       "      safe: true,\n",
       "      /* Index of renderer in `output_area.display_order` */\n",
       "      index: 0\n",
       "    });\n",
       "  }\n",
       "\n",
       "  // register the mime type if in Jupyter Notebook environment and previously unregistered\n",
       "  if (root.Jupyter !== undefined) {\n",
       "    var events = require('base/js/events');\n",
       "    var OutputArea = require('notebook/js/outputarea').OutputArea;\n",
       "\n",
       "    if (OutputArea.prototype.mime_types().indexOf(EXEC_MIME_TYPE) == -1) {\n",
       "      register_renderer(events, OutputArea);\n",
       "    }\n",
       "  }\n",
       "\n",
       "  \n",
       "  if (typeof (root._bokeh_timeout) === \"undefined\" || force === true) {\n",
       "    root._bokeh_timeout = Date.now() + 5000;\n",
       "    root._bokeh_failed_load = false;\n",
       "  }\n",
       "\n",
       "  var NB_LOAD_WARNING = {'data': {'text/html':\n",
       "     \"<div style='background-color: #fdd'>\\n\"+\n",
       "     \"<p>\\n\"+\n",
       "     \"BokehJS does not appear to have successfully loaded. If loading BokehJS from CDN, this \\n\"+\n",
       "     \"may be due to a slow or bad network connection. Possible fixes:\\n\"+\n",
       "     \"</p>\\n\"+\n",
       "     \"<ul>\\n\"+\n",
       "     \"<li>re-rerun `output_notebook()` to attempt to load from CDN again, or</li>\\n\"+\n",
       "     \"<li>use INLINE resources instead, as so:</li>\\n\"+\n",
       "     \"</ul>\\n\"+\n",
       "     \"<code>\\n\"+\n",
       "     \"from bokeh.resources import INLINE\\n\"+\n",
       "     \"output_notebook(resources=INLINE)\\n\"+\n",
       "     \"</code>\\n\"+\n",
       "     \"</div>\"}};\n",
       "\n",
       "  function display_loaded() {\n",
       "    var el = document.getElementById(\"1001\");\n",
       "    if (el != null) {\n",
       "      el.textContent = \"BokehJS is loading...\";\n",
       "    }\n",
       "    if (root.Bokeh !== undefined) {\n",
       "      if (el != null) {\n",
       "        el.textContent = \"BokehJS \" + root.Bokeh.version + \" successfully loaded.\";\n",
       "      }\n",
       "    } else if (Date.now() < root._bokeh_timeout) {\n",
       "      setTimeout(display_loaded, 100)\n",
       "    }\n",
       "  }\n",
       "\n",
       "\n",
       "  function run_callbacks() {\n",
       "    try {\n",
       "      root._bokeh_onload_callbacks.forEach(function(callback) {\n",
       "        if (callback != null)\n",
       "          callback();\n",
       "      });\n",
       "    } finally {\n",
       "      delete root._bokeh_onload_callbacks\n",
       "    }\n",
       "    console.debug(\"Bokeh: all callbacks have finished\");\n",
       "  }\n",
       "\n",
       "  function load_libs(css_urls, js_urls, callback) {\n",
       "    if (css_urls == null) css_urls = [];\n",
       "    if (js_urls == null) js_urls = [];\n",
       "\n",
       "    root._bokeh_onload_callbacks.push(callback);\n",
       "    if (root._bokeh_is_loading > 0) {\n",
       "      console.debug(\"Bokeh: BokehJS is being loaded, scheduling callback at\", now());\n",
       "      return null;\n",
       "    }\n",
       "    if (js_urls == null || js_urls.length === 0) {\n",
       "      run_callbacks();\n",
       "      return null;\n",
       "    }\n",
       "    console.debug(\"Bokeh: BokehJS not loaded, scheduling load and callback at\", now());\n",
       "    root._bokeh_is_loading = css_urls.length + js_urls.length;\n",
       "\n",
       "    function on_load() {\n",
       "      root._bokeh_is_loading--;\n",
       "      if (root._bokeh_is_loading === 0) {\n",
       "        console.debug(\"Bokeh: all BokehJS libraries/stylesheets loaded\");\n",
       "        run_callbacks()\n",
       "      }\n",
       "    }\n",
       "\n",
       "    function on_error() {\n",
       "      console.error(\"failed to load \" + url);\n",
       "    }\n",
       "\n",
       "    for (var i = 0; i < css_urls.length; i++) {\n",
       "      var url = css_urls[i];\n",
       "      const element = document.createElement(\"link\");\n",
       "      element.onload = on_load;\n",
       "      element.onerror = on_error;\n",
       "      element.rel = \"stylesheet\";\n",
       "      element.type = \"text/css\";\n",
       "      element.href = url;\n",
       "      console.debug(\"Bokeh: injecting link tag for BokehJS stylesheet: \", url);\n",
       "      document.body.appendChild(element);\n",
       "    }\n",
       "\n",
       "    const hashes = {\"https://cdn.bokeh.org/bokeh/release/bokeh-2.2.3.min.js\": \"T2yuo9Oe71Cz/I4X9Ac5+gpEa5a8PpJCDlqKYO0CfAuEszu1JrXLl8YugMqYe3sM\", \"https://cdn.bokeh.org/bokeh/release/bokeh-widgets-2.2.3.min.js\": \"98GDGJ0kOMCUMUePhksaQ/GYgB3+NH9h996V88sh3aOiUNX3N+fLXAtry6xctSZ6\", \"https://cdn.bokeh.org/bokeh/release/bokeh-tables-2.2.3.min.js\": \"89bArO+nlbP3sgakeHjCo1JYxYR5wufVgA3IbUvDY+K7w4zyxJqssu7wVnfeKCq8\"};\n",
       "\n",
       "    for (var i = 0; i < js_urls.length; i++) {\n",
       "      var url = js_urls[i];\n",
       "      var element = document.createElement('script');\n",
       "      element.onload = on_load;\n",
       "      element.onerror = on_error;\n",
       "      element.async = false;\n",
       "      element.src = url;\n",
       "      if (url in hashes) {\n",
       "        element.crossOrigin = \"anonymous\";\n",
       "        element.integrity = \"sha384-\" + hashes[url];\n",
       "      }\n",
       "      console.debug(\"Bokeh: injecting script tag for BokehJS library: \", url);\n",
       "      document.head.appendChild(element);\n",
       "    }\n",
       "  };\n",
       "\n",
       "  function inject_raw_css(css) {\n",
       "    const element = document.createElement(\"style\");\n",
       "    element.appendChild(document.createTextNode(css));\n",
       "    document.body.appendChild(element);\n",
       "  }\n",
       "\n",
       "  \n",
       "  var js_urls = [\"https://cdn.bokeh.org/bokeh/release/bokeh-2.2.3.min.js\", \"https://cdn.bokeh.org/bokeh/release/bokeh-widgets-2.2.3.min.js\", \"https://cdn.bokeh.org/bokeh/release/bokeh-tables-2.2.3.min.js\"];\n",
       "  var css_urls = [];\n",
       "  \n",
       "\n",
       "  var inline_js = [\n",
       "    function(Bokeh) {\n",
       "      Bokeh.set_log_level(\"info\");\n",
       "    },\n",
       "    function(Bokeh) {\n",
       "    \n",
       "    \n",
       "    }\n",
       "  ];\n",
       "\n",
       "  function run_inline_js() {\n",
       "    \n",
       "    if (root.Bokeh !== undefined || force === true) {\n",
       "      \n",
       "    for (var i = 0; i < inline_js.length; i++) {\n",
       "      inline_js[i].call(root, root.Bokeh);\n",
       "    }\n",
       "    if (force === true) {\n",
       "        display_loaded();\n",
       "      }} else if (Date.now() < root._bokeh_timeout) {\n",
       "      setTimeout(run_inline_js, 100);\n",
       "    } else if (!root._bokeh_failed_load) {\n",
       "      console.log(\"Bokeh: BokehJS failed to load within specified timeout.\");\n",
       "      root._bokeh_failed_load = true;\n",
       "    } else if (force !== true) {\n",
       "      var cell = $(document.getElementById(\"1001\")).parents('.cell').data().cell;\n",
       "      cell.output_area.append_execute_result(NB_LOAD_WARNING)\n",
       "    }\n",
       "\n",
       "  }\n",
       "\n",
       "  if (root._bokeh_is_loading === 0) {\n",
       "    console.debug(\"Bokeh: BokehJS loaded, going straight to plotting\");\n",
       "    run_inline_js();\n",
       "  } else {\n",
       "    load_libs(css_urls, js_urls, function() {\n",
       "      console.debug(\"Bokeh: BokehJS plotting callback run at\", now());\n",
       "      run_inline_js();\n",
       "    });\n",
       "  }\n",
       "}(window));"
      ],
      "application/vnd.bokehjs_load.v0+json": "\n(function(root) {\n  function now() {\n    return new Date();\n  }\n\n  var force = true;\n\n  if (typeof root._bokeh_onload_callbacks === \"undefined\" || force === true) {\n    root._bokeh_onload_callbacks = [];\n    root._bokeh_is_loading = undefined;\n  }\n\n  \n\n  \n  if (typeof (root._bokeh_timeout) === \"undefined\" || force === true) {\n    root._bokeh_timeout = Date.now() + 5000;\n    root._bokeh_failed_load = false;\n  }\n\n  var NB_LOAD_WARNING = {'data': {'text/html':\n     \"<div style='background-color: #fdd'>\\n\"+\n     \"<p>\\n\"+\n     \"BokehJS does not appear to have successfully loaded. If loading BokehJS from CDN, this \\n\"+\n     \"may be due to a slow or bad network connection. Possible fixes:\\n\"+\n     \"</p>\\n\"+\n     \"<ul>\\n\"+\n     \"<li>re-rerun `output_notebook()` to attempt to load from CDN again, or</li>\\n\"+\n     \"<li>use INLINE resources instead, as so:</li>\\n\"+\n     \"</ul>\\n\"+\n     \"<code>\\n\"+\n     \"from bokeh.resources import INLINE\\n\"+\n     \"output_notebook(resources=INLINE)\\n\"+\n     \"</code>\\n\"+\n     \"</div>\"}};\n\n  function display_loaded() {\n    var el = document.getElementById(\"1001\");\n    if (el != null) {\n      el.textContent = \"BokehJS is loading...\";\n    }\n    if (root.Bokeh !== undefined) {\n      if (el != null) {\n        el.textContent = \"BokehJS \" + root.Bokeh.version + \" successfully loaded.\";\n      }\n    } else if (Date.now() < root._bokeh_timeout) {\n      setTimeout(display_loaded, 100)\n    }\n  }\n\n\n  function run_callbacks() {\n    try {\n      root._bokeh_onload_callbacks.forEach(function(callback) {\n        if (callback != null)\n          callback();\n      });\n    } finally {\n      delete root._bokeh_onload_callbacks\n    }\n    console.debug(\"Bokeh: all callbacks have finished\");\n  }\n\n  function load_libs(css_urls, js_urls, callback) {\n    if (css_urls == null) css_urls = [];\n    if (js_urls == null) js_urls = [];\n\n    root._bokeh_onload_callbacks.push(callback);\n    if (root._bokeh_is_loading > 0) {\n      console.debug(\"Bokeh: BokehJS is being loaded, scheduling callback at\", now());\n      return null;\n    }\n    if (js_urls == null || js_urls.length === 0) {\n      run_callbacks();\n      return null;\n    }\n    console.debug(\"Bokeh: BokehJS not loaded, scheduling load and callback at\", now());\n    root._bokeh_is_loading = css_urls.length + js_urls.length;\n\n    function on_load() {\n      root._bokeh_is_loading--;\n      if (root._bokeh_is_loading === 0) {\n        console.debug(\"Bokeh: all BokehJS libraries/stylesheets loaded\");\n        run_callbacks()\n      }\n    }\n\n    function on_error() {\n      console.error(\"failed to load \" + url);\n    }\n\n    for (var i = 0; i < css_urls.length; i++) {\n      var url = css_urls[i];\n      const element = document.createElement(\"link\");\n      element.onload = on_load;\n      element.onerror = on_error;\n      element.rel = \"stylesheet\";\n      element.type = \"text/css\";\n      element.href = url;\n      console.debug(\"Bokeh: injecting link tag for BokehJS stylesheet: \", url);\n      document.body.appendChild(element);\n    }\n\n    const hashes = {\"https://cdn.bokeh.org/bokeh/release/bokeh-2.2.3.min.js\": \"T2yuo9Oe71Cz/I4X9Ac5+gpEa5a8PpJCDlqKYO0CfAuEszu1JrXLl8YugMqYe3sM\", \"https://cdn.bokeh.org/bokeh/release/bokeh-widgets-2.2.3.min.js\": \"98GDGJ0kOMCUMUePhksaQ/GYgB3+NH9h996V88sh3aOiUNX3N+fLXAtry6xctSZ6\", \"https://cdn.bokeh.org/bokeh/release/bokeh-tables-2.2.3.min.js\": \"89bArO+nlbP3sgakeHjCo1JYxYR5wufVgA3IbUvDY+K7w4zyxJqssu7wVnfeKCq8\"};\n\n    for (var i = 0; i < js_urls.length; i++) {\n      var url = js_urls[i];\n      var element = document.createElement('script');\n      element.onload = on_load;\n      element.onerror = on_error;\n      element.async = false;\n      element.src = url;\n      if (url in hashes) {\n        element.crossOrigin = \"anonymous\";\n        element.integrity = \"sha384-\" + hashes[url];\n      }\n      console.debug(\"Bokeh: injecting script tag for BokehJS library: \", url);\n      document.head.appendChild(element);\n    }\n  };\n\n  function inject_raw_css(css) {\n    const element = document.createElement(\"style\");\n    element.appendChild(document.createTextNode(css));\n    document.body.appendChild(element);\n  }\n\n  \n  var js_urls = [\"https://cdn.bokeh.org/bokeh/release/bokeh-2.2.3.min.js\", \"https://cdn.bokeh.org/bokeh/release/bokeh-widgets-2.2.3.min.js\", \"https://cdn.bokeh.org/bokeh/release/bokeh-tables-2.2.3.min.js\"];\n  var css_urls = [];\n  \n\n  var inline_js = [\n    function(Bokeh) {\n      Bokeh.set_log_level(\"info\");\n    },\n    function(Bokeh) {\n    \n    \n    }\n  ];\n\n  function run_inline_js() {\n    \n    if (root.Bokeh !== undefined || force === true) {\n      \n    for (var i = 0; i < inline_js.length; i++) {\n      inline_js[i].call(root, root.Bokeh);\n    }\n    if (force === true) {\n        display_loaded();\n      }} else if (Date.now() < root._bokeh_timeout) {\n      setTimeout(run_inline_js, 100);\n    } else if (!root._bokeh_failed_load) {\n      console.log(\"Bokeh: BokehJS failed to load within specified timeout.\");\n      root._bokeh_failed_load = true;\n    } else if (force !== true) {\n      var cell = $(document.getElementById(\"1001\")).parents('.cell').data().cell;\n      cell.output_area.append_execute_result(NB_LOAD_WARNING)\n    }\n\n  }\n\n  if (root._bokeh_is_loading === 0) {\n    console.debug(\"Bokeh: BokehJS loaded, going straight to plotting\");\n    run_inline_js();\n  } else {\n    load_libs(css_urls, js_urls, function() {\n      console.debug(\"Bokeh: BokehJS plotting callback run at\", now());\n      run_inline_js();\n    });\n  }\n}(window));"
     },
     "metadata": {},
     "output_type": "display_data"
    }
   ],
   "source": [
    "output_notebook()"
   ]
  },
  {
   "cell_type": "code",
   "execution_count": 21,
   "metadata": {},
   "outputs": [],
   "source": [
    "source = ColumnDataSource(data=data)"
   ]
  },
  {
   "cell_type": "code",
   "execution_count": 22,
   "metadata": {},
   "outputs": [],
   "source": [
    "p = figure(plot_width=1000, plot_height=600, x_axis_type='datetime')"
   ]
  },
  {
   "cell_type": "code",
   "execution_count": 23,
   "metadata": {},
   "outputs": [],
   "source": [
    "# p.xaxis.ticker = x\n",
    "# p.xaxis.major_label_overrides = x_translation"
   ]
  },
  {
   "cell_type": "code",
   "execution_count": 24,
   "metadata": {},
   "outputs": [],
   "source": [
    "from bokeh.palettes import Category10\n",
    "colors = Category10[10]"
   ]
  },
  {
   "cell_type": "code",
   "execution_count": 25,
   "metadata": {},
   "outputs": [
    {
     "name": "stdout",
     "output_type": "stream",
     "text": [
      "60bddeef82145624b8a06523\n",
      "5fae9ec12573bc71bec43bcc\n",
      "60bde65882145624b8a06525\n",
      "60bde68382145624b8a06526\n",
      "6149ad143f9819ee0c435b8f\n",
      "5fae9ebf2573bc71bec43bca\n"
     ]
    }
   ],
   "source": [
    "legend_it = []\n",
    "i = 0\n",
    "for current in scores.keys():\n",
    "    print(current)\n",
    "    el = p.line('x', current, source=source, line_width=2, color=colors[i])\n",
    "    legend_it.append((getRecsysName(current), [el]))\n",
    "    i += 1\n",
    "    if i == len(colors):\n",
    "        i = 0"
   ]
  },
  {
   "cell_type": "code",
   "execution_count": 26,
   "metadata": {},
   "outputs": [],
   "source": [
    "# from bokeh.models import SingleIntervalTicker, LinearAxis"
   ]
  },
  {
   "cell_type": "code",
   "execution_count": 27,
   "metadata": {},
   "outputs": [],
   "source": [
    "# ticker = SingleIntervalTicker(interval=200, num_minor_ticks=10)\n",
    "# xaxis = LinearAxis(ticker=ticker)\n",
    "# xaxis.major_label_overrides = x_translation\n",
    "# p.add_layout(xaxis, 'below')\n",
    "# p.xaxis.major_label_orientation = math.pi/2"
   ]
  },
  {
   "cell_type": "code",
   "execution_count": 28,
   "metadata": {},
   "outputs": [],
   "source": [
    "# x_translation"
   ]
  },
  {
   "cell_type": "code",
   "execution_count": 29,
   "metadata": {},
   "outputs": [],
   "source": [
    "from bokeh.models import DatetimeTickFormatter\n",
    "from bokeh.models import Legend"
   ]
  },
  {
   "cell_type": "code",
   "execution_count": 30,
   "metadata": {},
   "outputs": [],
   "source": [
    "# p.xaxis.formatter=DatetimeTickFormatter(\n",
    "#         hours=[\"%d %B %Y\"],\n",
    "#         days=[\"%d %B %Y\"],\n",
    "#         months=[\"%d %B %Y\"],\n",
    "#         years=[\"%d %B %Y\"],\n",
    "#     )"
   ]
  },
  {
   "cell_type": "code",
   "execution_count": 31,
   "metadata": {},
   "outputs": [],
   "source": [
    "p.xaxis.major_label_orientation = math.pi/4"
   ]
  },
  {
   "cell_type": "code",
   "execution_count": 32,
   "metadata": {},
   "outputs": [],
   "source": [
    "legend = Legend(items=legend_it)\n",
    "legend.click_policy = \"mute\"\n",
    "p.add_layout(legend, 'below')"
   ]
  },
  {
   "cell_type": "code",
   "execution_count": 33,
   "metadata": {},
   "outputs": [
    {
     "data": {
      "text/html": [
       "\n",
       "\n",
       "\n",
       "\n",
       "\n",
       "\n",
       "  <div class=\"bk-root\" id=\"fd0c42bd-9bf1-4e4f-a722-e1d78791f856\" data-root-id=\"1003\"></div>\n"
      ]
     },
     "metadata": {},
     "output_type": "display_data"
    },
    {
     "data": {
      "application/javascript": [
       "(function(root) {\n",
       "  function embed_document(root) {\n",
       "    \n",
       "  var docs_json = {\"779e1838-7c35-4261-9f9f-360e2cfc3f66\":{\"roots\":{\"references\":[{\"attributes\":{\"below\":[{\"id\":\"1012\"},{\"id\":\"1064\"}],\"center\":[{\"id\":\"1015\"},{\"id\":\"1019\"}],\"left\":[{\"id\":\"1016\"}],\"plot_width\":1000,\"renderers\":[{\"id\":\"1037\"},{\"id\":\"1042\"},{\"id\":\"1047\"},{\"id\":\"1052\"},{\"id\":\"1057\"},{\"id\":\"1062\"}],\"title\":{\"id\":\"1072\"},\"toolbar\":{\"id\":\"1027\"},\"x_range\":{\"id\":\"1004\"},\"x_scale\":{\"id\":\"1008\"},\"y_range\":{\"id\":\"1006\"},\"y_scale\":{\"id\":\"1010\"}},\"id\":\"1003\",\"subtype\":\"Figure\",\"type\":\"Plot\"},{\"attributes\":{},\"id\":\"1023\",\"type\":\"SaveTool\"},{\"attributes\":{\"source\":{\"id\":\"1002\"}},\"id\":\"1038\",\"type\":\"CDSView\"},{\"attributes\":{\"months\":[0,2,4,6,8,10]},\"id\":\"1087\",\"type\":\"MonthsTicker\"},{\"attributes\":{\"line_alpha\":0.1,\"line_color\":\"#8c564b\",\"line_width\":2,\"x\":{\"field\":\"x\"},\"y\":{\"field\":\"5fae9ebf2573bc71bec43bca\"}},\"id\":\"1061\",\"type\":\"Line\"},{\"attributes\":{},\"id\":\"1024\",\"type\":\"ResetTool\"},{\"attributes\":{\"base\":60,\"mantissas\":[1,2,5,10,15,20,30],\"max_interval\":1800000.0,\"min_interval\":1000.0,\"num_minor_ticks\":0},\"id\":\"1080\",\"type\":\"AdaptiveTicker\"},{\"attributes\":{\"label\":{\"value\":\"baseline-popular\"},\"renderers\":[{\"id\":\"1042\"}]},\"id\":\"1066\",\"type\":\"LegendItem\"},{\"attributes\":{},\"id\":\"1021\",\"type\":\"WheelZoomTool\"},{\"attributes\":{},\"id\":\"1008\",\"type\":\"LinearScale\"},{\"attributes\":{\"source\":{\"id\":\"1002\"}},\"id\":\"1048\",\"type\":\"CDSView\"},{\"attributes\":{\"line_alpha\":0.1,\"line_color\":\"#9467bd\",\"line_width\":2,\"x\":{\"field\":\"x\"},\"y\":{\"field\":\"6149ad143f9819ee0c435b8f\"}},\"id\":\"1056\",\"type\":\"Line\"},{\"attributes\":{},\"id\":\"1006\",\"type\":\"DataRange1d\"},{\"attributes\":{},\"id\":\"1025\",\"type\":\"HelpTool\"},{\"attributes\":{\"days\":[1,15]},\"id\":\"1085\",\"type\":\"DaysTicker\"},{\"attributes\":{\"months\":[0,6]},\"id\":\"1089\",\"type\":\"MonthsTicker\"},{\"attributes\":{\"text\":\"\"},\"id\":\"1072\",\"type\":\"Title\"},{\"attributes\":{\"data_source\":{\"id\":\"1002\"},\"glyph\":{\"id\":\"1060\"},\"hover_glyph\":null,\"muted_glyph\":null,\"nonselection_glyph\":{\"id\":\"1061\"},\"selection_glyph\":null,\"view\":{\"id\":\"1063\"}},\"id\":\"1062\",\"type\":\"GlyphRenderer\"},{\"attributes\":{\"axis\":{\"id\":\"1016\"},\"dimension\":1,\"ticker\":null},\"id\":\"1019\",\"type\":\"Grid\"},{\"attributes\":{\"line_color\":\"#2ca02c\",\"line_width\":2,\"x\":{\"field\":\"x\"},\"y\":{\"field\":\"60bde65882145624b8a06525\"}},\"id\":\"1045\",\"type\":\"Line\"},{\"attributes\":{\"mantissas\":[1,2,5],\"max_interval\":500.0,\"num_minor_ticks\":0},\"id\":\"1079\",\"type\":\"AdaptiveTicker\"},{\"attributes\":{\"data_source\":{\"id\":\"1002\"},\"glyph\":{\"id\":\"1055\"},\"hover_glyph\":null,\"muted_glyph\":null,\"nonselection_glyph\":{\"id\":\"1056\"},\"selection_glyph\":null,\"view\":{\"id\":\"1058\"}},\"id\":\"1057\",\"type\":\"GlyphRenderer\"},{\"attributes\":{},\"id\":\"1010\",\"type\":\"LinearScale\"},{\"attributes\":{\"days\":[1,2,3,4,5,6,7,8,9,10,11,12,13,14,15,16,17,18,19,20,21,22,23,24,25,26,27,28,29,30,31]},\"id\":\"1082\",\"type\":\"DaysTicker\"},{\"attributes\":{},\"id\":\"1090\",\"type\":\"YearsTicker\"},{\"attributes\":{\"formatter\":{\"id\":\"1073\"},\"major_label_orientation\":0.7853981633974483,\"ticker\":{\"id\":\"1013\"}},\"id\":\"1012\",\"type\":\"DatetimeAxis\"},{\"attributes\":{\"num_minor_ticks\":5,\"tickers\":[{\"id\":\"1079\"},{\"id\":\"1080\"},{\"id\":\"1081\"},{\"id\":\"1082\"},{\"id\":\"1083\"},{\"id\":\"1084\"},{\"id\":\"1085\"},{\"id\":\"1086\"},{\"id\":\"1087\"},{\"id\":\"1088\"},{\"id\":\"1089\"},{\"id\":\"1090\"}]},\"id\":\"1013\",\"type\":\"DatetimeTicker\"},{\"attributes\":{},\"id\":\"1017\",\"type\":\"BasicTicker\"},{\"attributes\":{\"click_policy\":\"mute\",\"items\":[{\"id\":\"1065\"},{\"id\":\"1066\"},{\"id\":\"1067\"},{\"id\":\"1068\"},{\"id\":\"1069\"},{\"id\":\"1070\"}]},\"id\":\"1064\",\"type\":\"Legend\"},{\"attributes\":{\"axis\":{\"id\":\"1012\"},\"ticker\":null},\"id\":\"1015\",\"type\":\"Grid\"},{\"attributes\":{\"months\":[0,1,2,3,4,5,6,7,8,9,10,11]},\"id\":\"1086\",\"type\":\"MonthsTicker\"},{\"attributes\":{\"formatter\":{\"id\":\"1075\"},\"ticker\":{\"id\":\"1017\"}},\"id\":\"1016\",\"type\":\"LinearAxis\"},{\"attributes\":{},\"id\":\"1078\",\"type\":\"UnionRenderers\"},{\"attributes\":{\"days\":[1,8,15,22]},\"id\":\"1084\",\"type\":\"DaysTicker\"},{\"attributes\":{\"data\":{\"5fae9ebf2573bc71bec43bca\":[25.0,20.6,25.0,23.6,23.6,27.2,27.2,28.6,28.6,28.6,28.6,28.6,27.5,27.5,27.5,27.5,27.5,24.2,25.3,25.3,25.3,25.3,25.0,25.0,25.0,25.0,25.0,25.0,25.0,25.0,25.0,25.7,26.9,26.9,27.4,27.4,27.4,27.4,27.4,27.4,26.3,25.1,24.9,24.4,24.4,24.4,23.6,24.1,25.0,24.2,24.2,23.7,23.7,24.2,23.6,23.6,24.0,24.0,24.4,24.4,24.4,24.6,24.3,24.3,24.3,24.1,24.1,24.1,24.1,24.1,24.1,24.1,23.7,23.7,23.3,23.3,23.3,23.6,23.6,23.6,23.5,23.5,23.3,23.3,23.3,23.3,23.3,23.4,23.5,23.5,23.3,23.7,23.7,23.7,23.7,23.7,23.7,23.7,23.7,23.6,23.8,23.8,23.8,23.8,23.8,23.6,23.6,23.6,23.6,23.6,23.7,23.7,23.7,23.9,23.9,24.2,24.2,24.2,24.2,24.4,24.4,24.4,24.6,24.8,24.8,24.5,24.5,24.5,24.8,24.5,24.7,24.5,24.5,24.5,24.5,24.5,24.5,24.5,24.6,24.6,24.6],\"5fae9ec12573bc71bec43bcc\":[25.0,29.3,29.3,29.3,30.9,25.2,24.3,24.3,24.3,24.3,21.2,21.2,21.2,21.2,20.9,20.9,22.2,22.2,22.2,22.2,22.0,22.0,22.0,22.0,22.0,23.0,23.0,23.8,23.8,24.4,25.6,25.6,24.9,23.9,23.9,23.9,23.1,23.6,23.6,23.0,23.0,23.7,23.8,23.8,23.6,23.6,23.6,23.6,23.6,23.6,24.2,24.2,23.8,23.4,23.4,23.4,23.4,23.2,22.9,23.4,23.4,23.4,23.4,23.4,23.4,23.4,23.4,23.4,23.4,23.4,23.7,23.4,23.4,23.4,23.8,24.1,24.1,24.1,23.7,23.7,23.7,23.5,23.5,23.5,23.2,23.1,23.1,23.1,23.1,23.1,23.1,23.1,23.1,23.1,22.9,22.9,22.9,22.6,22.4,22.5,22.3,22.3,22.1,22.1,22.1,22.1,22.1,22.1,22.4,22.7,22.7,22.7,22.7,22.6,22.8,22.8,22.9,22.9,23.1,22.9,22.9,22.9,22.9,22.9,22.9,22.9,22.9,22.9,22.9,23.1,23.1,23.1,23.1,23.2,23.2,23.2,23.2,23.4,23.2,23.2,23.1],\"60bddeef82145624b8a06523\":[29.3,29.3,29.3,29.3,29.3,29.3,29.3,29.3,29.3,31.1,31.1,32.6,34.7,34.7,34.7,34.7,34.7,34.7,34.7,34.7,35.2,35.6,36.2,36.5,36.7,36.7,36.7,36.7,30.7,30.7,28.0,28.0,28.0,28.0,28.0,25.6,25.6,25.6,26.3,26.3,27.4,27.4,27.4,28.0,28.5,28.9,28.9,28.9,27.7,27.7,26.7,26.7,26.7,26.7,26.7,26.7,26.7,27.1,27.1,26.2,26.5,26.5,26.5,26.1,26.1,26.1,26.3,26.6,26.1,26.1,26.1,26.4,26.4,26.7,26.7,26.7,27.0,27.0,27.0,27.0,27.0,27.0,27.0,26.7,26.7,26.7,26.7,26.7,26.7,26.9,27.1,27.1,26.7,26.4,26.4,26.0,26.2,26.2,26.2,26.2,26.2,26.4,26.4,26.0,26.0,26.3,25.9,26.1,25.7,25.7,25.7,25.7,25.7,25.7,25.4,25.4,25.4,25.6,25.6,25.6,25.3,25.0,25.0,25.0,25.0,25.0,25.2,25.2,25.0,25.0,25.0,25.2,25.0,25.0,25.0,25.1,25.1,25.1,25.1,24.9,24.9],\"60bde65882145624b8a06525\":[25.0,25.0,25.0,25.0,25.0,25.0,25.0,25.0,25.0,25.0,25.0,25.0,25.0,25.0,25.0,25.0,25.0,25.0,25.0,25.0,25.0,25.0,25.0,25.0,25.0,25.0,25.0,25.0,25.0,25.0,25.0,25.0,25.0,25.0,25.0,25.0,25.0,25.0,25.0,25.0,25.0,25.0,25.0,25.0,25.0,25.0,25.0,25.0,25.0,25.0,25.0,25.0,25.0,25.0,25.0,29.7,29.7,29.7,29.7,29.7,29.7,29.7,29.7,29.7,31.4,31.4,31.4,31.4,31.4,31.4,31.4,31.4,31.4,31.4,31.4,31.4,31.4,31.4,31.4,28.0,29.2,29.2,30.1,30.1,30.1,30.1,27.1,27.1,27.1,27.1,27.1,25.2,26.6,27.5,27.5,27.5,27.5,27.5,27.5,27.5,27.5,27.5,27.5,27.5,27.5,27.5,27.5,27.5,27.5,27.5,27.5,27.5,27.5,27.5,27.5,26.3,26.3,26.3,26.3,26.3,26.3,26.3,26.3,26.3,26.8,26.8,26.8,26.8,26.8,26.8,26.8,26.8,26.8,26.8,26.4,26.4,26.4,26.4,26.4,26.4,26.4],\"60bde68382145624b8a06526\":[25.0,25.0,19.0,19.0,17.5,17.5,17.5,17.5,22.4,22.4,22.4,21.4,21.4,23.9,23.9,21.1,19.5,21.9,21.9,22.0,22.0,21.9,21.9,21.8,21.7,20.8,21.7,21.0,21.0,20.4,20.4,20.1,20.1,21.1,20.9,21.9,22.6,22.1,21.8,21.8,21.8,21.8,21.8,21.8,21.8,21.8,21.8,21.4,21.4,22.1,22.1,22.1,22.1,22.1,22.6,22.4,22.1,22.1,22.1,22.1,21.9,21.6,21.6,21.9,21.8,21.9,21.8,21.6,21.6,22.1,21.8,21.8,22.2,22.2,22.2,22.2,22.2,22.0,22.3,22.3,22.3,22.3,22.3,22.5,22.8,22.8,23.2,23.2,23.2,23.1,23.1,23.1,23.1,23.1,23.3,23.6,23.4,23.6,23.8,23.8,23.8,23.7,23.8,24.1,24.1,24.1,24.4,24.2,24.2,24.0,24.0,23.8,23.8,23.8,23.8,23.8,23.8,23.8,23.6,23.6,23.8,24.0,24.0,23.8,23.7,23.9,23.8,23.9,23.9,23.9,23.8,23.8,23.8,23.8,23.9,23.7,23.7,23.6,23.6,23.7,23.9],\"6149ad143f9819ee0c435b8f\":[20.6,20.6,20.6,22.4,22.4,22.4,23.3,21.9,19.8,19.3,21.5,21.5,21.5,20.2,20.4,21.7,21.7,21.7,21.0,21.0,21.0,21.0,21.0,21.0,21.0,21.0,20.1,20.1,22.3,22.3,22.3,22.3,22.3,22.3,22.3,22.3,22.3,22.3,22.3,23.2,23.2,23.2,23.2,23.2,23.2,22.9,23.6,23.6,23.6,23.6,23.6,24.3,24.9,24.9,24.9,24.9,24.9,24.9,24.9,24.9,24.9,24.9,25.4,25.4,25.4,25.4,25.4,25.4,26.0,25.2,25.2,25.2,25.2,24.8,24.8,24.3,24.0,24.0,24.0,24.3,24.3,24.7,24.7,24.7,24.7,24.7,24.7,24.6,24.5,24.5,24.5,24.5,24.5,24.5,24.5,24.5,24.5,24.5,24.5,24.5,24.5,24.5,24.5,24.5,24.5,24.5,24.5,24.5,24.5,24.5,24.5,24.7,24.7,24.7,24.7,24.7,24.7,24.5,24.5,24.5,24.5,24.5,24.2,24.2,24.2,24.2,24.2,23.9,23.9,23.9,23.9,23.9,24.2,24.2,24.2,24.2,24.2,24.2,24.2,24.2,24.2],\"x\":[1636613874739.0,1636614031750.0,1636614131070.0,1636623181250.0,1636637542903.0,1636640308199.0,1636642483387.0,1636642487147.0,1636646184889.0,1636646552463.0,1636647154300.0,1636654836654.0,1636715268586.0,1636722988803.0,1636736271895.0,1636742020465.0,1636748776447.0,1636748863221.0,1636748953041.0,1636748965694.0,1636817071565.0,1636834322154.0,1636838161070.0,1636843657335.0,1636843920321.0,1636844418929.0,1636879210363.0,1636880314545.0,1636887024300.0,1636897946607.0,1636898346472.0,1636898454286.0,1636898468422.0,1636898514278.0,1636898542585.0,1636905595150.0,1636905758056.0,1636906257416.0,1636920963859.0,1636923000556.0,1636979440559.0,1636979597585.0,1637050261382.0,1637057013628.0,1637069603322.0,1637071702862.0,1637085914556.0,1637090293122.0,1637090572193.0,1637096122846.0,1637110080835.0,1637127093631.0,1637135993787.0,1637137640519.0,1637142867170.0,1637142976234.0,1637143070979.0,1637143143826.0,1637143177027.0,1637146692284.0,1637150248726.0,1637167424104.0,1637171399175.0,1637175417306.0,1637179350953.0,1637220408791.0,1637222102605.0,1637222339990.0,1637223179100.0,1637223430674.0,1637223557687.0,1637223892896.0,1637226314079.0,1637233391621.0,1637233463918.0,1637251474214.0,1637252905521.0,1637253980767.0,1637308215332.0,1637320446707.0,1637320594958.0,1637340048622.0,1637340227527.0,1637341527588.0,1637360566582.0,1637397943416.0,1637398207440.0,1637420415984.0,1637432205802.0,1637432506870.0,1637432624920.0,1637432853185.0,1637439856395.0,1637440058337.0,1637440123381.0,1637475336347.0,1637478573770.0,1637487299111.0,1637498178475.0,1637532561589.0,1637564840104.0,1637566871052.0,1637567001594.0,1637567351757.0,1637583009154.0,1637595411714.0,1637617822802.0,1637619302665.0,1637653507875.0,1637661292045.0,1637690758455.0,1637692307836.0,1637692574592.0,1637692682848.0,1637692807381.0,1637740112832.0,1637742465817.0,1637744109058.0,1637762473780.0,1637771055355.0,1637774124295.0,1637787973743.0,1637824976181.0,1637826445746.0,1637826668353.0,1637843632965.0,1637858951594.0,1637863768882.0,1637868265109.0,1637868610074.0,1637868956809.0,1637870800328.0,1637871086171.0,1637871170083.0,1637871533612.0,1637878851902.0,1637879320938.0,1637913843599.0,1637915062599.0,1637915455721.0,1637915563249.0]},\"selected\":{\"id\":\"1077\"},\"selection_policy\":{\"id\":\"1078\"}},\"id\":\"1002\",\"type\":\"ColumnDataSource\"},{\"attributes\":{\"line_color\":\"#ff7f0e\",\"line_width\":2,\"x\":{\"field\":\"x\"},\"y\":{\"field\":\"5fae9ec12573bc71bec43bcc\"}},\"id\":\"1040\",\"type\":\"Line\"},{\"attributes\":{},\"id\":\"1073\",\"type\":\"DatetimeTickFormatter\"},{\"attributes\":{\"data_source\":{\"id\":\"1002\"},\"glyph\":{\"id\":\"1040\"},\"hover_glyph\":null,\"muted_glyph\":null,\"nonselection_glyph\":{\"id\":\"1041\"},\"selection_glyph\":null,\"view\":{\"id\":\"1043\"}},\"id\":\"1042\",\"type\":\"GlyphRenderer\"},{\"attributes\":{\"line_color\":\"#8c564b\",\"line_width\":2,\"x\":{\"field\":\"x\"},\"y\":{\"field\":\"5fae9ebf2573bc71bec43bca\"}},\"id\":\"1060\",\"type\":\"Line\"},{\"attributes\":{},\"id\":\"1077\",\"type\":\"Selection\"},{\"attributes\":{\"base\":24,\"mantissas\":[1,2,4,6,8,12],\"max_interval\":43200000.0,\"min_interval\":3600000.0,\"num_minor_ticks\":0},\"id\":\"1081\",\"type\":\"AdaptiveTicker\"},{\"attributes\":{\"source\":{\"id\":\"1002\"}},\"id\":\"1063\",\"type\":\"CDSView\"},{\"attributes\":{\"line_color\":\"#d62728\",\"line_width\":2,\"x\":{\"field\":\"x\"},\"y\":{\"field\":\"60bde68382145624b8a06526\"}},\"id\":\"1050\",\"type\":\"Line\"},{\"attributes\":{\"label\":{\"value\":\"team-3\"},\"renderers\":[{\"id\":\"1037\"}]},\"id\":\"1065\",\"type\":\"LegendItem\"},{\"attributes\":{\"overlay\":{\"id\":\"1026\"}},\"id\":\"1022\",\"type\":\"BoxZoomTool\"},{\"attributes\":{\"source\":{\"id\":\"1002\"}},\"id\":\"1058\",\"type\":\"CDSView\"},{\"attributes\":{\"active_drag\":\"auto\",\"active_inspect\":\"auto\",\"active_multi\":null,\"active_scroll\":\"auto\",\"active_tap\":\"auto\",\"tools\":[{\"id\":\"1020\"},{\"id\":\"1021\"},{\"id\":\"1022\"},{\"id\":\"1023\"},{\"id\":\"1024\"},{\"id\":\"1025\"}]},\"id\":\"1027\",\"type\":\"Toolbar\"},{\"attributes\":{\"source\":{\"id\":\"1002\"}},\"id\":\"1043\",\"type\":\"CDSView\"},{\"attributes\":{\"source\":{\"id\":\"1002\"}},\"id\":\"1053\",\"type\":\"CDSView\"},{\"attributes\":{\"line_color\":\"#9467bd\",\"line_width\":2,\"x\":{\"field\":\"x\"},\"y\":{\"field\":\"6149ad143f9819ee0c435b8f\"}},\"id\":\"1055\",\"type\":\"Line\"},{\"attributes\":{\"line_alpha\":0.1,\"line_color\":\"#1f77b4\",\"line_width\":2,\"x\":{\"field\":\"x\"},\"y\":{\"field\":\"60bddeef82145624b8a06523\"}},\"id\":\"1036\",\"type\":\"Line\"},{\"attributes\":{\"line_alpha\":0.1,\"line_color\":\"#d62728\",\"line_width\":2,\"x\":{\"field\":\"x\"},\"y\":{\"field\":\"60bde68382145624b8a06526\"}},\"id\":\"1051\",\"type\":\"Line\"},{\"attributes\":{},\"id\":\"1004\",\"type\":\"DataRange1d\"},{\"attributes\":{\"days\":[1,4,7,10,13,16,19,22,25,28]},\"id\":\"1083\",\"type\":\"DaysTicker\"},{\"attributes\":{\"data_source\":{\"id\":\"1002\"},\"glyph\":{\"id\":\"1045\"},\"hover_glyph\":null,\"muted_glyph\":null,\"nonselection_glyph\":{\"id\":\"1046\"},\"selection_glyph\":null,\"view\":{\"id\":\"1048\"}},\"id\":\"1047\",\"type\":\"GlyphRenderer\"},{\"attributes\":{\"line_alpha\":0.1,\"line_color\":\"#2ca02c\",\"line_width\":2,\"x\":{\"field\":\"x\"},\"y\":{\"field\":\"60bde65882145624b8a06525\"}},\"id\":\"1046\",\"type\":\"Line\"},{\"attributes\":{},\"id\":\"1075\",\"type\":\"BasicTickFormatter\"},{\"attributes\":{\"data_source\":{\"id\":\"1002\"},\"glyph\":{\"id\":\"1035\"},\"hover_glyph\":null,\"muted_glyph\":null,\"nonselection_glyph\":{\"id\":\"1036\"},\"selection_glyph\":null,\"view\":{\"id\":\"1038\"}},\"id\":\"1037\",\"type\":\"GlyphRenderer\"},{\"attributes\":{\"line_alpha\":0.1,\"line_color\":\"#ff7f0e\",\"line_width\":2,\"x\":{\"field\":\"x\"},\"y\":{\"field\":\"5fae9ec12573bc71bec43bcc\"}},\"id\":\"1041\",\"type\":\"Line\"},{\"attributes\":{\"label\":{\"value\":\"team-1\"},\"renderers\":[{\"id\":\"1047\"}]},\"id\":\"1067\",\"type\":\"LegendItem\"},{\"attributes\":{\"label\":{\"value\":\"baseline-keywords\"},\"renderers\":[{\"id\":\"1057\"}]},\"id\":\"1069\",\"type\":\"LegendItem\"},{\"attributes\":{\"label\":{\"value\":\"baseline-random\"},\"renderers\":[{\"id\":\"1062\"}]},\"id\":\"1070\",\"type\":\"LegendItem\"},{\"attributes\":{},\"id\":\"1020\",\"type\":\"PanTool\"},{\"attributes\":{\"months\":[0,4,8]},\"id\":\"1088\",\"type\":\"MonthsTicker\"},{\"attributes\":{\"bottom_units\":\"screen\",\"fill_alpha\":0.5,\"fill_color\":\"lightgrey\",\"left_units\":\"screen\",\"level\":\"overlay\",\"line_alpha\":1.0,\"line_color\":\"black\",\"line_dash\":[4,4],\"line_width\":2,\"right_units\":\"screen\",\"top_units\":\"screen\"},\"id\":\"1026\",\"type\":\"BoxAnnotation\"},{\"attributes\":{\"label\":{\"value\":\"team-2\"},\"renderers\":[{\"id\":\"1052\"}]},\"id\":\"1068\",\"type\":\"LegendItem\"},{\"attributes\":{\"data_source\":{\"id\":\"1002\"},\"glyph\":{\"id\":\"1050\"},\"hover_glyph\":null,\"muted_glyph\":null,\"nonselection_glyph\":{\"id\":\"1051\"},\"selection_glyph\":null,\"view\":{\"id\":\"1053\"}},\"id\":\"1052\",\"type\":\"GlyphRenderer\"},{\"attributes\":{\"line_color\":\"#1f77b4\",\"line_width\":2,\"x\":{\"field\":\"x\"},\"y\":{\"field\":\"60bddeef82145624b8a06523\"}},\"id\":\"1035\",\"type\":\"Line\"}],\"root_ids\":[\"1003\"]},\"title\":\"Bokeh Application\",\"version\":\"2.2.3\"}};\n",
       "  var render_items = [{\"docid\":\"779e1838-7c35-4261-9f9f-360e2cfc3f66\",\"root_ids\":[\"1003\"],\"roots\":{\"1003\":\"fd0c42bd-9bf1-4e4f-a722-e1d78791f856\"}}];\n",
       "  root.Bokeh.embed.embed_items_notebook(docs_json, render_items);\n",
       "\n",
       "  }\n",
       "  if (root.Bokeh !== undefined) {\n",
       "    embed_document(root);\n",
       "  } else {\n",
       "    var attempts = 0;\n",
       "    var timer = setInterval(function(root) {\n",
       "      if (root.Bokeh !== undefined) {\n",
       "        clearInterval(timer);\n",
       "        embed_document(root);\n",
       "      } else {\n",
       "        attempts++;\n",
       "        if (attempts > 100) {\n",
       "          clearInterval(timer);\n",
       "          console.log(\"Bokeh: ERROR: Unable to run BokehJS code because BokehJS library is missing\");\n",
       "        }\n",
       "      }\n",
       "    }, 10, root)\n",
       "  }\n",
       "})(window);"
      ],
      "application/vnd.bokehjs_exec.v0+json": ""
     },
     "metadata": {
      "application/vnd.bokehjs_exec.v0+json": {
       "id": "1003"
      }
     },
     "output_type": "display_data"
    }
   ],
   "source": [
    "show(p)"
   ]
  },
  {
   "cell_type": "code",
   "execution_count": 34,
   "metadata": {},
   "outputs": [
    {
     "name": "stdout",
     "output_type": "stream",
     "text": [
      "60bddeef82145624b8a06523\n",
      "5fae9ec12573bc71bec43bcc\n",
      "60bde65882145624b8a06525\n",
      "60bde68382145624b8a06526\n",
      "6149ad143f9819ee0c435b8f\n",
      "5fae9ebf2573bc71bec43bca\n"
     ]
    },
    {
     "data": {
      "text/html": [
       "\n",
       "\n",
       "\n",
       "\n",
       "\n",
       "\n",
       "  <div class=\"bk-root\" id=\"d89a99cf-f83a-42b9-92ba-0e83f0e61795\" data-root-id=\"1197\"></div>\n"
      ]
     },
     "metadata": {},
     "output_type": "display_data"
    },
    {
     "data": {
      "application/javascript": [
       "(function(root) {\n",
       "  function embed_document(root) {\n",
       "    \n",
       "  var docs_json = {\"b172ac4f-7815-4f03-b872-c68b7411395d\":{\"roots\":{\"references\":[{\"attributes\":{\"below\":[{\"id\":\"1206\"},{\"id\":\"1259\"}],\"center\":[{\"id\":\"1209\"},{\"id\":\"1213\"}],\"left\":[{\"id\":\"1210\"}],\"plot_width\":1000,\"renderers\":[{\"id\":\"1232\"},{\"id\":\"1237\"},{\"id\":\"1242\"},{\"id\":\"1247\"},{\"id\":\"1252\"},{\"id\":\"1257\"}],\"title\":{\"id\":\"1288\"},\"toolbar\":{\"id\":\"1221\"},\"x_range\":{\"id\":\"1198\"},\"x_scale\":{\"id\":\"1202\"},\"y_range\":{\"id\":\"1200\"},\"y_scale\":{\"id\":\"1204\"}},\"id\":\"1197\",\"subtype\":\"Figure\",\"type\":\"Plot\"},{\"attributes\":{\"active_drag\":\"auto\",\"active_inspect\":\"auto\",\"active_multi\":null,\"active_scroll\":\"auto\",\"active_tap\":\"auto\",\"tools\":[{\"id\":\"1214\"},{\"id\":\"1215\"},{\"id\":\"1216\"},{\"id\":\"1217\"},{\"id\":\"1218\"},{\"id\":\"1219\"}]},\"id\":\"1221\",\"type\":\"Toolbar\"},{\"attributes\":{\"text\":\"\"},\"id\":\"1288\",\"type\":\"Title\"},{\"attributes\":{\"line_color\":\"#9467bd\",\"line_width\":2,\"x\":{\"field\":\"x\"},\"y\":{\"field\":\"6149ad143f9819ee0c435b8f\"}},\"id\":\"1250\",\"type\":\"Line\"},{\"attributes\":{},\"id\":\"1294\",\"type\":\"UnionRenderers\"},{\"attributes\":{\"formatter\":{\"id\":\"1289\"},\"ticker\":{\"id\":\"1207\"}},\"id\":\"1206\",\"type\":\"LinearAxis\"},{\"attributes\":{\"label\":{\"value\":\"team-3\"},\"renderers\":[{\"id\":\"1232\"}]},\"id\":\"1260\",\"type\":\"LegendItem\"},{\"attributes\":{},\"id\":\"1204\",\"type\":\"LinearScale\"},{\"attributes\":{\"line_color\":\"#1f77b4\",\"line_width\":2,\"x\":{\"field\":\"x\"},\"y\":{\"field\":\"60bddeef82145624b8a06523\"}},\"id\":\"1230\",\"type\":\"Line\"},{\"attributes\":{\"line_color\":\"#2ca02c\",\"line_width\":2,\"x\":{\"field\":\"x\"},\"y\":{\"field\":\"60bde65882145624b8a06525\"}},\"id\":\"1240\",\"type\":\"Line\"},{\"attributes\":{\"line_alpha\":0.1,\"line_color\":\"#9467bd\",\"line_width\":2,\"x\":{\"field\":\"x\"},\"y\":{\"field\":\"6149ad143f9819ee0c435b8f\"}},\"id\":\"1251\",\"type\":\"Line\"},{\"attributes\":{\"label\":{\"value\":\"baseline-popular\"},\"renderers\":[{\"id\":\"1237\"}]},\"id\":\"1261\",\"type\":\"LegendItem\"},{\"attributes\":{\"data_source\":{\"id\":\"1228\"},\"glyph\":{\"id\":\"1250\"},\"hover_glyph\":null,\"muted_glyph\":null,\"nonselection_glyph\":{\"id\":\"1251\"},\"selection_glyph\":null,\"view\":{\"id\":\"1253\"}},\"id\":\"1252\",\"type\":\"GlyphRenderer\"},{\"attributes\":{\"data\":{\"5fae9ebf2573bc71bec43bca\":[25.0,20.6,25.0,23.6,23.6,27.2,27.2,28.6,28.6,28.6,28.6,28.6,27.5,27.5,27.5,27.5,27.5,24.2,25.3,25.3,25.3,25.3,25.0,25.0,25.0,25.0,25.0,25.0,25.0,25.0,25.0,25.7,26.9,26.9,27.4,27.4,27.4,27.4,27.4,27.4,26.3,25.1,24.9,24.4,24.4,24.4,23.6,24.1,25.0,24.2,24.2,23.7,23.7,24.2,23.6,23.6,24.0,24.0,24.4,24.4,24.4,24.6,24.3,24.3,24.3,24.1,24.1,24.1,24.1,24.1,24.1,24.1,23.7,23.7,23.3,23.3,23.3,23.6,23.6,23.6,23.5,23.5,23.3,23.3,23.3,23.3,23.3,23.4,23.5,23.5,23.3,23.7,23.7,23.7,23.7,23.7,23.7,23.7,23.7,23.6,23.8,23.8,23.8,23.8,23.8,23.6,23.6,23.6,23.6,23.6,23.7,23.7,23.7,23.9,23.9,24.2,24.2,24.2,24.2,24.4,24.4,24.4,24.6,24.8,24.8,24.5,24.5,24.5,24.8,24.5,24.7,24.5,24.5,24.5,24.5,24.5,24.5,24.5,24.6,24.6,24.6],\"5fae9ec12573bc71bec43bcc\":[25.0,29.3,29.3,29.3,30.9,25.2,24.3,24.3,24.3,24.3,21.2,21.2,21.2,21.2,20.9,20.9,22.2,22.2,22.2,22.2,22.0,22.0,22.0,22.0,22.0,23.0,23.0,23.8,23.8,24.4,25.6,25.6,24.9,23.9,23.9,23.9,23.1,23.6,23.6,23.0,23.0,23.7,23.8,23.8,23.6,23.6,23.6,23.6,23.6,23.6,24.2,24.2,23.8,23.4,23.4,23.4,23.4,23.2,22.9,23.4,23.4,23.4,23.4,23.4,23.4,23.4,23.4,23.4,23.4,23.4,23.7,23.4,23.4,23.4,23.8,24.1,24.1,24.1,23.7,23.7,23.7,23.5,23.5,23.5,23.2,23.1,23.1,23.1,23.1,23.1,23.1,23.1,23.1,23.1,22.9,22.9,22.9,22.6,22.4,22.5,22.3,22.3,22.1,22.1,22.1,22.1,22.1,22.1,22.4,22.7,22.7,22.7,22.7,22.6,22.8,22.8,22.9,22.9,23.1,22.9,22.9,22.9,22.9,22.9,22.9,22.9,22.9,22.9,22.9,23.1,23.1,23.1,23.1,23.2,23.2,23.2,23.2,23.4,23.2,23.2,23.1],\"60bddeef82145624b8a06523\":[29.3,29.3,29.3,29.3,29.3,29.3,29.3,29.3,29.3,31.1,31.1,32.6,34.7,34.7,34.7,34.7,34.7,34.7,34.7,34.7,35.2,35.6,36.2,36.5,36.7,36.7,36.7,36.7,30.7,30.7,28.0,28.0,28.0,28.0,28.0,25.6,25.6,25.6,26.3,26.3,27.4,27.4,27.4,28.0,28.5,28.9,28.9,28.9,27.7,27.7,26.7,26.7,26.7,26.7,26.7,26.7,26.7,27.1,27.1,26.2,26.5,26.5,26.5,26.1,26.1,26.1,26.3,26.6,26.1,26.1,26.1,26.4,26.4,26.7,26.7,26.7,27.0,27.0,27.0,27.0,27.0,27.0,27.0,26.7,26.7,26.7,26.7,26.7,26.7,26.9,27.1,27.1,26.7,26.4,26.4,26.0,26.2,26.2,26.2,26.2,26.2,26.4,26.4,26.0,26.0,26.3,25.9,26.1,25.7,25.7,25.7,25.7,25.7,25.7,25.4,25.4,25.4,25.6,25.6,25.6,25.3,25.0,25.0,25.0,25.0,25.0,25.2,25.2,25.0,25.0,25.0,25.2,25.0,25.0,25.0,25.1,25.1,25.1,25.1,24.9,24.9],\"60bde65882145624b8a06525\":[25.0,25.0,25.0,25.0,25.0,25.0,25.0,25.0,25.0,25.0,25.0,25.0,25.0,25.0,25.0,25.0,25.0,25.0,25.0,25.0,25.0,25.0,25.0,25.0,25.0,25.0,25.0,25.0,25.0,25.0,25.0,25.0,25.0,25.0,25.0,25.0,25.0,25.0,25.0,25.0,25.0,25.0,25.0,25.0,25.0,25.0,25.0,25.0,25.0,25.0,25.0,25.0,25.0,25.0,25.0,29.7,29.7,29.7,29.7,29.7,29.7,29.7,29.7,29.7,31.4,31.4,31.4,31.4,31.4,31.4,31.4,31.4,31.4,31.4,31.4,31.4,31.4,31.4,31.4,28.0,29.2,29.2,30.1,30.1,30.1,30.1,27.1,27.1,27.1,27.1,27.1,25.2,26.6,27.5,27.5,27.5,27.5,27.5,27.5,27.5,27.5,27.5,27.5,27.5,27.5,27.5,27.5,27.5,27.5,27.5,27.5,27.5,27.5,27.5,27.5,26.3,26.3,26.3,26.3,26.3,26.3,26.3,26.3,26.3,26.8,26.8,26.8,26.8,26.8,26.8,26.8,26.8,26.8,26.8,26.4,26.4,26.4,26.4,26.4,26.4,26.4],\"60bde68382145624b8a06526\":[25.0,25.0,19.0,19.0,17.5,17.5,17.5,17.5,22.4,22.4,22.4,21.4,21.4,23.9,23.9,21.1,19.5,21.9,21.9,22.0,22.0,21.9,21.9,21.8,21.7,20.8,21.7,21.0,21.0,20.4,20.4,20.1,20.1,21.1,20.9,21.9,22.6,22.1,21.8,21.8,21.8,21.8,21.8,21.8,21.8,21.8,21.8,21.4,21.4,22.1,22.1,22.1,22.1,22.1,22.6,22.4,22.1,22.1,22.1,22.1,21.9,21.6,21.6,21.9,21.8,21.9,21.8,21.6,21.6,22.1,21.8,21.8,22.2,22.2,22.2,22.2,22.2,22.0,22.3,22.3,22.3,22.3,22.3,22.5,22.8,22.8,23.2,23.2,23.2,23.1,23.1,23.1,23.1,23.1,23.3,23.6,23.4,23.6,23.8,23.8,23.8,23.7,23.8,24.1,24.1,24.1,24.4,24.2,24.2,24.0,24.0,23.8,23.8,23.8,23.8,23.8,23.8,23.8,23.6,23.6,23.8,24.0,24.0,23.8,23.7,23.9,23.8,23.9,23.9,23.9,23.8,23.8,23.8,23.8,23.9,23.7,23.7,23.6,23.6,23.7,23.9],\"6149ad143f9819ee0c435b8f\":[20.6,20.6,20.6,22.4,22.4,22.4,23.3,21.9,19.8,19.3,21.5,21.5,21.5,20.2,20.4,21.7,21.7,21.7,21.0,21.0,21.0,21.0,21.0,21.0,21.0,21.0,20.1,20.1,22.3,22.3,22.3,22.3,22.3,22.3,22.3,22.3,22.3,22.3,22.3,23.2,23.2,23.2,23.2,23.2,23.2,22.9,23.6,23.6,23.6,23.6,23.6,24.3,24.9,24.9,24.9,24.9,24.9,24.9,24.9,24.9,24.9,24.9,25.4,25.4,25.4,25.4,25.4,25.4,26.0,25.2,25.2,25.2,25.2,24.8,24.8,24.3,24.0,24.0,24.0,24.3,24.3,24.7,24.7,24.7,24.7,24.7,24.7,24.6,24.5,24.5,24.5,24.5,24.5,24.5,24.5,24.5,24.5,24.5,24.5,24.5,24.5,24.5,24.5,24.5,24.5,24.5,24.5,24.5,24.5,24.5,24.5,24.7,24.7,24.7,24.7,24.7,24.7,24.5,24.5,24.5,24.5,24.5,24.2,24.2,24.2,24.2,24.2,23.9,23.9,23.9,23.9,23.9,24.2,24.2,24.2,24.2,24.2,24.2,24.2,24.2,24.2],\"x\":[0,1,2,3,4,5,6,7,8,9,10,11,12,13,14,15,16,17,18,19,20,21,22,23,24,25,26,27,28,29,30,31,32,33,34,35,36,37,38,39,40,41,42,43,44,45,46,47,48,49,50,51,52,53,54,55,56,57,58,59,60,61,62,63,64,65,66,67,68,69,70,71,72,73,74,75,76,77,78,79,80,81,82,83,84,85,86,87,88,89,90,91,92,93,94,95,96,97,98,99,100,101,102,103,104,105,106,107,108,109,110,111,112,113,114,115,116,117,118,119,120,121,122,123,124,125,126,127,128,129,130,131,132,133,134,135,136,137,138,139,140]},\"selected\":{\"id\":\"1293\"},\"selection_policy\":{\"id\":\"1294\"}},\"id\":\"1228\",\"type\":\"ColumnDataSource\"},{\"attributes\":{\"line_color\":\"#8c564b\",\"line_width\":2,\"x\":{\"field\":\"x\"},\"y\":{\"field\":\"5fae9ebf2573bc71bec43bca\"}},\"id\":\"1255\",\"type\":\"Line\"},{\"attributes\":{\"line_alpha\":0.1,\"line_color\":\"#2ca02c\",\"line_width\":2,\"x\":{\"field\":\"x\"},\"y\":{\"field\":\"60bde65882145624b8a06525\"}},\"id\":\"1241\",\"type\":\"Line\"},{\"attributes\":{},\"id\":\"1207\",\"type\":\"BasicTicker\"},{\"attributes\":{\"label\":{\"value\":\"team-1\"},\"renderers\":[{\"id\":\"1242\"}]},\"id\":\"1262\",\"type\":\"LegendItem\"},{\"attributes\":{},\"id\":\"1214\",\"type\":\"PanTool\"},{\"attributes\":{\"data_source\":{\"id\":\"1228\"},\"glyph\":{\"id\":\"1240\"},\"hover_glyph\":null,\"muted_glyph\":null,\"nonselection_glyph\":{\"id\":\"1241\"},\"selection_glyph\":null,\"view\":{\"id\":\"1243\"}},\"id\":\"1242\",\"type\":\"GlyphRenderer\"},{\"attributes\":{\"axis\":{\"id\":\"1206\"},\"ticker\":null},\"id\":\"1209\",\"type\":\"Grid\"},{\"attributes\":{\"label\":{\"value\":\"baseline-random\"},\"renderers\":[{\"id\":\"1257\"}]},\"id\":\"1265\",\"type\":\"LegendItem\"},{\"attributes\":{\"line_alpha\":0.1,\"line_color\":\"#1f77b4\",\"line_width\":2,\"x\":{\"field\":\"x\"},\"y\":{\"field\":\"60bddeef82145624b8a06523\"}},\"id\":\"1231\",\"type\":\"Line\"},{\"attributes\":{\"source\":{\"id\":\"1228\"}},\"id\":\"1248\",\"type\":\"CDSView\"},{\"attributes\":{\"source\":{\"id\":\"1228\"}},\"id\":\"1253\",\"type\":\"CDSView\"},{\"attributes\":{\"label\":{\"value\":\"team-2\"},\"renderers\":[{\"id\":\"1247\"}]},\"id\":\"1263\",\"type\":\"LegendItem\"},{\"attributes\":{},\"id\":\"1289\",\"type\":\"BasicTickFormatter\"},{\"attributes\":{\"overlay\":{\"id\":\"1220\"}},\"id\":\"1216\",\"type\":\"BoxZoomTool\"},{\"attributes\":{\"data_source\":{\"id\":\"1228\"},\"glyph\":{\"id\":\"1230\"},\"hover_glyph\":null,\"muted_glyph\":null,\"nonselection_glyph\":{\"id\":\"1231\"},\"selection_glyph\":null,\"view\":{\"id\":\"1233\"}},\"id\":\"1232\",\"type\":\"GlyphRenderer\"},{\"attributes\":{\"label\":{\"value\":\"baseline-keywords\"},\"renderers\":[{\"id\":\"1252\"}]},\"id\":\"1264\",\"type\":\"LegendItem\"},{\"attributes\":{},\"id\":\"1215\",\"type\":\"WheelZoomTool\"},{\"attributes\":{\"click_policy\":\"mute\",\"items\":[{\"id\":\"1260\"},{\"id\":\"1261\"},{\"id\":\"1262\"},{\"id\":\"1263\"},{\"id\":\"1264\"},{\"id\":\"1265\"}]},\"id\":\"1259\",\"type\":\"Legend\"},{\"attributes\":{\"source\":{\"id\":\"1228\"}},\"id\":\"1243\",\"type\":\"CDSView\"},{\"attributes\":{},\"id\":\"1217\",\"type\":\"SaveTool\"},{\"attributes\":{},\"id\":\"1291\",\"type\":\"BasicTickFormatter\"},{\"attributes\":{},\"id\":\"1293\",\"type\":\"Selection\"},{\"attributes\":{\"source\":{\"id\":\"1228\"}},\"id\":\"1233\",\"type\":\"CDSView\"},{\"attributes\":{\"line_color\":\"#d62728\",\"line_width\":2,\"x\":{\"field\":\"x\"},\"y\":{\"field\":\"60bde68382145624b8a06526\"}},\"id\":\"1245\",\"type\":\"Line\"},{\"attributes\":{},\"id\":\"1218\",\"type\":\"ResetTool\"},{\"attributes\":{},\"id\":\"1211\",\"type\":\"BasicTicker\"},{\"attributes\":{\"line_alpha\":0.1,\"line_color\":\"#8c564b\",\"line_width\":2,\"x\":{\"field\":\"x\"},\"y\":{\"field\":\"5fae9ebf2573bc71bec43bca\"}},\"id\":\"1256\",\"type\":\"Line\"},{\"attributes\":{\"line_color\":\"#ff7f0e\",\"line_width\":2,\"x\":{\"field\":\"x\"},\"y\":{\"field\":\"5fae9ec12573bc71bec43bcc\"}},\"id\":\"1235\",\"type\":\"Line\"},{\"attributes\":{},\"id\":\"1219\",\"type\":\"HelpTool\"},{\"attributes\":{\"bottom_units\":\"screen\",\"fill_alpha\":0.5,\"fill_color\":\"lightgrey\",\"left_units\":\"screen\",\"level\":\"overlay\",\"line_alpha\":1.0,\"line_color\":\"black\",\"line_dash\":[4,4],\"line_width\":2,\"right_units\":\"screen\",\"top_units\":\"screen\"},\"id\":\"1220\",\"type\":\"BoxAnnotation\"},{\"attributes\":{\"data_source\":{\"id\":\"1228\"},\"glyph\":{\"id\":\"1255\"},\"hover_glyph\":null,\"muted_glyph\":null,\"nonselection_glyph\":{\"id\":\"1256\"},\"selection_glyph\":null,\"view\":{\"id\":\"1258\"}},\"id\":\"1257\",\"type\":\"GlyphRenderer\"},{\"attributes\":{\"line_alpha\":0.1,\"line_color\":\"#d62728\",\"line_width\":2,\"x\":{\"field\":\"x\"},\"y\":{\"field\":\"60bde68382145624b8a06526\"}},\"id\":\"1246\",\"type\":\"Line\"},{\"attributes\":{\"axis\":{\"id\":\"1210\"},\"dimension\":1,\"ticker\":null},\"id\":\"1213\",\"type\":\"Grid\"},{\"attributes\":{},\"id\":\"1202\",\"type\":\"LinearScale\"},{\"attributes\":{\"data_source\":{\"id\":\"1228\"},\"glyph\":{\"id\":\"1245\"},\"hover_glyph\":null,\"muted_glyph\":null,\"nonselection_glyph\":{\"id\":\"1246\"},\"selection_glyph\":null,\"view\":{\"id\":\"1248\"}},\"id\":\"1247\",\"type\":\"GlyphRenderer\"},{\"attributes\":{},\"id\":\"1200\",\"type\":\"DataRange1d\"},{\"attributes\":{\"formatter\":{\"id\":\"1291\"},\"ticker\":{\"id\":\"1211\"}},\"id\":\"1210\",\"type\":\"LinearAxis\"},{\"attributes\":{\"source\":{\"id\":\"1228\"}},\"id\":\"1238\",\"type\":\"CDSView\"},{\"attributes\":{\"source\":{\"id\":\"1228\"}},\"id\":\"1258\",\"type\":\"CDSView\"},{\"attributes\":{\"data_source\":{\"id\":\"1228\"},\"glyph\":{\"id\":\"1235\"},\"hover_glyph\":null,\"muted_glyph\":null,\"nonselection_glyph\":{\"id\":\"1236\"},\"selection_glyph\":null,\"view\":{\"id\":\"1238\"}},\"id\":\"1237\",\"type\":\"GlyphRenderer\"},{\"attributes\":{},\"id\":\"1198\",\"type\":\"DataRange1d\"},{\"attributes\":{\"line_alpha\":0.1,\"line_color\":\"#ff7f0e\",\"line_width\":2,\"x\":{\"field\":\"x\"},\"y\":{\"field\":\"5fae9ec12573bc71bec43bcc\"}},\"id\":\"1236\",\"type\":\"Line\"}],\"root_ids\":[\"1197\"]},\"title\":\"Bokeh Application\",\"version\":\"2.2.3\"}};\n",
       "  var render_items = [{\"docid\":\"b172ac4f-7815-4f03-b872-c68b7411395d\",\"root_ids\":[\"1197\"],\"roots\":{\"1197\":\"d89a99cf-f83a-42b9-92ba-0e83f0e61795\"}}];\n",
       "  root.Bokeh.embed.embed_items_notebook(docs_json, render_items);\n",
       "\n",
       "  }\n",
       "  if (root.Bokeh !== undefined) {\n",
       "    embed_document(root);\n",
       "  } else {\n",
       "    var attempts = 0;\n",
       "    var timer = setInterval(function(root) {\n",
       "      if (root.Bokeh !== undefined) {\n",
       "        clearInterval(timer);\n",
       "        embed_document(root);\n",
       "      } else {\n",
       "        attempts++;\n",
       "        if (attempts > 100) {\n",
       "          clearInterval(timer);\n",
       "          console.log(\"Bokeh: ERROR: Unable to run BokehJS code because BokehJS library is missing\");\n",
       "        }\n",
       "      }\n",
       "    }, 10, root)\n",
       "  }\n",
       "})(window);"
      ],
      "application/vnd.bokehjs_exec.v0+json": ""
     },
     "metadata": {
      "application/vnd.bokehjs_exec.v0+json": {
       "id": "1197"
      }
     },
     "output_type": "display_data"
    }
   ],
   "source": [
    "new_data = copy.deepcopy(data)\n",
    "new_data['x'] = list(range(len(data['x'])))\n",
    "p = figure(plot_width=1000, plot_height=600)\n",
    "source = ColumnDataSource(data=new_data)\n",
    "legend_it = []\n",
    "i = 0\n",
    "for current in scores.keys():\n",
    "    print(current)\n",
    "    el = p.line('x', current, source=source, line_width=2, color=colors[i])\n",
    "    legend_it.append((getRecsysName(current), [el]))\n",
    "    i += 1\n",
    "    if i == len(colors):\n",
    "        i = 0\n",
    "legend = Legend(items=legend_it)\n",
    "legend.click_policy = \"mute\"\n",
    "p.add_layout(legend, 'below')\n",
    "show(p)"
   ]
  },
  {
   "cell_type": "code",
   "execution_count": 35,
   "metadata": {},
   "outputs": [],
   "source": [
    "# TODO faire des points qui indique le 1vs1 en overlay\n",
    "# TODO ajouter la date à interval regulier, ou tracer une ligne vertical avec date en abcsisse\n",
    "# En overlay donner le Elo score et le score de confidence\n",
    "# Print un tableau du ranking aussi"
   ]
  },
  {
   "cell_type": "code",
   "execution_count": 36,
   "metadata": {},
   "outputs": [
    {
     "name": "stdout",
     "output_type": "stream",
     "text": [
      "{\n",
      "  5fae9ebf2573bc71bec43bca: [ 25.0, 20.6, ..., 24.6, 24.6 ],\n",
      "  5fae9ec12573bc71bec43bcc: [ 25.0, 29.3, ..., 23.2, 23.1 ],\n",
      "  60bddeef82145624b8a06523: [ 29.3, 29.3, ..., 24.9, 24.9 ],\n",
      "  60bde65882145624b8a06525: [ 25.0, 25.0, ..., 26.4, 26.4 ],\n",
      "  60bde68382145624b8a06526: [ 25.0, 25.0, ..., 23.7, 23.9 ],\n",
      "  6149ad143f9819ee0c435b8f: [ 20.6, 20.6, ..., 24.2, 24.2 ],\n",
      "  x: [ 0, 1, ..., 139, 140 ]\n",
      "}\n"
     ]
    }
   ],
   "source": [
    "bp(new_data)"
   ]
  },
  {
   "cell_type": "code",
   "execution_count": 37,
   "metadata": {},
   "outputs": [],
   "source": [
    "windows_length = 21 # 9, 51\n",
    "polyorder = 3 # 2, 3\n",
    "new_data2 = copy.deepcopy(new_data)\n",
    "for key in new_data2:\n",
    "    if key != 'x':\n",
    "        # scipy.signal.savgol_filter(x, window_length, polyorder, ...)\n",
    "        y = savgol_filter(new_data2[key], windows_length, polyorder) # 51, 3\n",
    "        new_data2[key] = y"
   ]
  },
  {
   "cell_type": "code",
   "execution_count": 38,
   "metadata": {},
   "outputs": [
    {
     "name": "stdout",
     "output_type": "stream",
     "text": [
      "{ 5fae9ebf2573bc71bec43bca: #1f77b4, 5fae9ec12573bc71bec43bcc: #ff7f0e, 60bddeef82145624b8a06523: #2ca02c, 60bde65882145624b8a06525: #d62728, 60bde68382145624b8a06526: #9467bd, 6149ad143f9819ee0c435b8f: #8c564b }\n"
     ]
    }
   ],
   "source": [
    "assigned_colors = dict()\n",
    "color_index = 0\n",
    "for recsys_id in sorted(new_data2):\n",
    "    if len(recsys_id) > 2:\n",
    "        assigned_colors[recsys_id] = colors[color_index]\n",
    "        color_index += 1\n",
    "bp(assigned_colors)"
   ]
  },
  {
   "cell_type": "code",
   "execution_count": 39,
   "metadata": {},
   "outputs": [
    {
     "data": {
      "text/html": [
       "\n",
       "\n",
       "\n",
       "\n",
       "\n",
       "\n",
       "  <div class=\"bk-root\" id=\"8fb8508a-9afe-42dd-9e01-e706fc976b1d\" data-root-id=\"1341\"></div>\n"
      ]
     },
     "metadata": {},
     "output_type": "display_data"
    },
    {
     "data": {
      "application/javascript": [
       "(function(root) {\n",
       "  function embed_document(root) {\n",
       "    \n",
       "  var docs_json = {\"1c4e6ef1-900e-4331-9009-d8fbf04c9ab8\":{\"roots\":{\"references\":[{\"attributes\":{\"above\":[{\"id\":\"1403\"}],\"below\":[{\"id\":\"1350\"}],\"center\":[{\"id\":\"1353\"},{\"id\":\"1357\"}],\"left\":[{\"id\":\"1354\"}],\"plot_width\":1000,\"renderers\":[{\"id\":\"1376\"},{\"id\":\"1381\"},{\"id\":\"1386\"},{\"id\":\"1391\"},{\"id\":\"1396\"},{\"id\":\"1401\"}],\"title\":{\"id\":\"1441\"},\"toolbar\":{\"id\":\"1365\"},\"x_range\":{\"id\":\"1342\"},\"x_scale\":{\"id\":\"1346\"},\"y_range\":{\"id\":\"1344\"},\"y_scale\":{\"id\":\"1348\"}},\"id\":\"1341\",\"subtype\":\"Figure\",\"type\":\"Plot\"},{\"attributes\":{\"source\":{\"id\":\"1372\"}},\"id\":\"1387\",\"type\":\"CDSView\"},{\"attributes\":{},\"id\":\"1446\",\"type\":\"Selection\"},{\"attributes\":{\"data\":{\"5fae9ebf2573bc71bec43bca\":{\"__ndarray__\":\"Nq4Hh3Q0NkCinKfD/Uc3QIX+C2C4PjhA42ZCUhMZOUDAaFiQfdc5QB+XWxBmejpABYVZyDsCO0B1xV+ubW87QHPre7hqwjtABIq73KH7O0CyMywRghs8QBktInpBSDxA/KMhWsn+O0D4oanXFdk7QMR4i03ZdztAiZmxs/DtOkDaoxn8Vo06QAqPPd5eJDpAZ2FW6TXVOUAO7ml51o45QOxeAdJDVDlAhjLkwnweOUD+EUyB7e44QJtG049RyThA1w7Pk7+2OEBAd6182cI4QKtr+ba07ThA7Nc9r2Y3OUAWA5HYy1M5QFvFKITYiDlARsafysrUOUDsXIlPkC46QBDHz/54fTpA4VYhyHW9OkBkTubAxec6QJM0YHTp/DpAwS9AO9QIO0DSYLTZD/M6QMOfZHwIuzpALS0mqfqAOkCRZktZFzM6QCtukbEx2TlAEn7Hz/54OUCnFSibth45QJZ9Ke+RzzhAJnxTfASMOEC0fyc4W0o4QBZbm8KrFjhA5pBqHxXuN0CqRF88V9w3QFIZwdH04zdAYuhUkSvrN0BdcBGSV/A3QCtekunD+TdA6P+RU0H/N0DO7Fyw6Qo4QBSo0qpeGDhAEfSOHWYVOECo9S06lBg4QJOKr/iKLzhA5WjTl687OEDIG5RRikg4QAI+UXZdUDhAkhLukBNROEDbiQWL8ls4QFPpTW96UzhA+Kt7nYFAOEAbOqiDOig4QNdTaVUvDDhADylt+vL1N0CtPAHK5eE3QAU5p0d5zjdAt5BekunDN0D/NPb247Q3QOw35b+JpjdA0M+YKrGZN0Cy8rzZkYo3QCPzVotFezdALfDlKkNtN0DyEAyRWmM3QEbEZvzoYDdA21jUz0FcN0CY/gLz9143QDrkm+IjYDdAb9lWBX9lN0ChXbElzGU3QCORN/huZjdAqcS9yhFnN0BJKTrTTG43QFvrxfEteTdA5oKkJYmCN0BluCDjgow3QEO8Rz5JmDdAt4q3Vv2gN0BxcBXBEKk3QBq6BhL1sjdA62Mpacu5N0BmqtyAU703QDJq4GCcvzdA3nfRI1zBN0DC/8ipoL83QA+KUMzvtzdA2s8awg22N0ClGRRxZLE3QBLQ55pnrjdAtz92WaGoN0DXrSp2lKY3QE9/TtLVpzdA9xgrT/qrN0DQ960auq83QC1Ja4rOtDdAm+J6LpnAN0B2beMU4Mw3QIrjssC52jdA1E49j+7tN0C/VB9Q8wk4QMVhqYilIjhAOxNVGyE6OEDqQjYqWks4QAWf9ZOIYDhAzhQz7CBvOEBiSnQkAoA4QOSs8uNzjDhAst1WxsqTOEBvvgoC+pk4QEbgcFikmzhArJxpJjefOEBiVEoZJ6A4QP9PxJHFnDhAVYAMKwyXOEBcdrjNQ5M4QFX3lrAIjThAbmE71CmHOEA8IP4wM4I4QOieN7+wfjhAnUhAdy59OECGiHBROH44QMvJIEZagjhAmHepTSCKOEAW/WJgFpY4QHDFpXbIpjhA\",\"dtype\":\"float64\",\"order\":\"little\",\"shape\":[141]},\"5fae9ec12573bc71bec43bcc\":{\"__ndarray__\":\"S7GtuNQOPECRP//1tSY8QPlE2XVBBzxAMugrKEO4O0DsT+f8hkE7QNai++PYqjpAoAdZzQT8OUD4pO+o1jw5QI+hr2YadThAFCSJ9pusN0DNUmxIJ+s2QOfKs3a0HjZAL8GuiaKvNUD5fMJkhGY1QPM9jPt1STVA9b7nljh1NUA5IRfm82w1QJ+38K7UYzVArrFNoqF5NUAV89DEL6Y1QN3hC0YZ5jVAeaHE5GQMNkAg3uxIxUs2QDSolyVGnzZA1d5XAoztNkAewmSEZi03QDIq8M0QbDdA7y+HTRisN0CCq54IQ+U3QMRusSn7HjhAMVokfLlKOEBwIx2NL1k4QE52tJ6KWjhA+F2GXJhPOEBMLSrYszk4QLLmL67nEjhATw6vG/bwN0ADlpoUD8U3QPD3tXgsoTdAcmynUwZ6N0CS1LQ0DVU3QBSTq0tpUzdASO60utNqN0A5aSY3H4k3QMG+nFU7mTdALhGateKpN0Cs+9R1gLs3QA8AW/3hvjdAAo48op3KN0DDsFjzC8o3QNKfZHwIuzdAXWNIpdOlN0ATrXzZQpo3QC41QTjhkDdAGbcTGpaIN0DdoV6WGH03QPa0kzlwcTdAD8jI3MdlN0DSshNZSlo3QOhMiociTzdAPJI4NDBAN0AEFAO4ckY3QPqYC3URUzdAMv8mmnpdN0Bpdf6jxlw3QMzAlm9LWzdA+U5F7WBfN0AarT0lcWg3QMD3qesAdzdAlBqLt1Z9N0Bns3a0noo3QP0iwo9NmjdANj0hQq+nN0BAFglfrrI3QAKe+IaAvzdAo7+RBNHIN0B8nhTQkMw3QAf+IS8AyzdAyqFaZ1/EN0BBTV++7rg3QOfD0HnuqDdAralxx4ybN0BgyVc9EYY3QD7CLS4HbTdAnD/wkotTN0DpHBclqD43QGi17jZSMDdAEhf63oopN0DFGpdEgic3QNy0DXNaHDdA8UpV6PkTN0BggkX57Qo3QFnoEa6gADdABwruDnz0NkANzXILrOc2QKI2F6tu1DZAhaR8V6u9NkDtQL6npqU2QHBmP8zriDZAjozkl7NqNkAIQ/ukQVI2QDA5r6XrPzZAXB4sTAc0NkDIlUukWDA2QKSyB8weMDZAbDgBCZozNkDhBnEhTjw2QCi+t2KKTDZA/JVXMYRaNkDKtv8u+Gw2QBrN9KIIhDZAYvWb5lKZNkB9kA8iM682QCTXTC+KwDZAg1JYXYnPNkDzo9pHhds2QNFsfIrS4zZAdE7mwMXnNkA36sCGs+Y2QAvaeqwB5DZAG/AgsFvmNkBToX3SIOk2QF8+ZWH76zZAAiT+UCftNkAUt5GCOew2QM6kTV++7jZABVaqgYPxNkC304DRpfM2QPG2iSTH+jZANDwkNacGN0B4Q1aiIxE3QNfs+131GzdA7DzhNCMmN0DoovpQLC83QJ2NPNyPNjdA22ubAM07N0ByrAvoYj43QDK+gbzQPTdA7g/yp5U5N0B0EFHUMDE3QJUuk2shJDdA\",\"dtype\":\"float64\",\"order\":\"little\",\"shape\":[141]},\"60bddeef82145624b8a06523\":{\"__ndarray__\":\"Ef1iYBbWPUAyJ2wVHT49QFeo50Wi5TxANT/t0cjFPEB/qpSZs9c8QOio9XyFFD1AJfknXGF1PUDoWUMXavM9QOaJX47Chz5A0UeUoY0rP0DeUfkw7tc/QMo/ciroL0BApDbQmCpxQEDkt3qko7FAQOWVS6RY8EBACluPNYAsQUCT8TGoAWNBQLtDH0zEkEFAN9Gl853dQUDjYqaVrQNCQBWEZq14KkJAAneZkTsnQkAfNP0YlQxCQLLX6g/36UFA+LztfCizQUBGL1tII3xBQDKXXJz+LEFAE9+iQ4nJQECFG/7Oj1BAQOhbFjhXmz9AhROwGAN5PkDen3AJNGU9QMqYyJGGaDxAK8KvxWOJO0BlzJFHtNM6QJQfu6xQVDpATy+miSAYOkBt1qbwqiU6QMJeOCijlDpAuqYElkPGOkBeA+R3OyE7QJQolJRtUztA6cl75JOEO0Ao4ajqxLU7QCBoKSoX6DtAolgLJqEcPEABqU0gCh08QGtFj3AFBTxA+twu8I7cO0B2ksqHcb87QD8pvGqpijtAsos2+2FeO0A3iaIvnis7QPU7mj/Y+DpABN7sSMXLOkBoWbnC8qg6QECfxpubkTpAEDgwAYeCOkDw9/hbt4s6QLoH6GdAiDpAtJPTIaWKOkD8O5o/2Hg6QKcrym9XaDpAcUr66hdVOkDPeEyZB0Y6QL22wHomOzpAfihNgikwOkAA63JSvis6QFi7E9vhNjpAtbUCIvBLOkCaJGXbNFY6QBMdI7LTaDpAMyh8ehZ/OkCVhsMi3Zw6QIr/PrTRsTpAwdtkCi3DOkA8lPOZbtA6QEnianK03TpALA9lFrruOkDGSg7WtfA6QHhS2vTl6zpAPzAd0BLkOkDfXUN5DeU6QEeXKXVY5TpAd9zPw/PkOkDb5IQEjuU6QNi6Nkaj2zpAUBp/KivTOkAqhqsIhsg6QA9dE0VfvDpAo/0NRGKvOkC73pa2XZ86QJrHsMJwkTpA5w5VWtWLOkDwiUydNn86QImrY4MqbDpAG9OfDa5fOkDj9nm3Uk46QNWtrA3xQjpAqq0iGCI1OkD+bAqvWio6QD9STNBdJTpAO1sluHokOkAE7asgoB86QOII7dK6GjpAeOA9Mf4TOkB8KYlDAwM6QBKTLePF7zlApvzRgojcOUA57bety8k5QIPHKvxavDlAUdH0Y1SyOUB6eDiuaao5QMy6MhfqojlAVP35WMSTOUAORrMXiIM5QOTDkcUcdzlA8XzCZIRmOUDQ2+ahiV85QPNZV6NfUjlA1DmYx1VFOUBxBhpTJTY5QBODsLK0LDlAP+JmQ/skOUDGlgn9jh85QCI/lZWpFDlAtxoVrSULOUAB7SmJQwM5QMm5NQriATlAOBzvTmwHOUDVRmG02Q85QI5kIe5fEjlAD9Z1E2sUOUCtlVslohU5QFSdzySsFTlA8ubOEjAUOUBxbFbw1BA5QMAnY75BCzlAyRLyfR0DOUB5JwAwD/g4QL1fitW96ThA\",\"dtype\":\"float64\",\"order\":\"little\",\"shape\":[141]},\"60bde65882145624b8a06525\":{\"__ndarray__\":\"/f//////OED///////84QAAAAAAAADlAAQAAAAAAOUACAAAAAAA5QAMAAAAAADlAAwAAAAAAOUADAAAAAAA5QAMAAAAAADlAAwAAAAAAOUCX//////84QJf//////zhAl///////OECX//////84QJf//////zhAl///////OECX//////84QJf//////zhAl///////OECX//////84QJf//////zhAl///////OECX//////84QJf//////zhAl///////OECX//////84QJf//////zhAl///////OECX//////84QJf//////zhAl///////OECX//////84QJf//////zhAl///////OECX//////84QJf//////zhAl///////OECX//////84QJf//////zhAl///////OECX//////84QJf//////zhAl///////OECX//////84QJf//////zhAkzcQib28OEA8wmzi2J44QIFTlB5jojhAT58FUG3DOECUWT+JCP44QD02wNxFTjlAOekGXTawOUB1JpIc6x86QN+h4C11mTpA1dzjrpEAO0CXhEugKXc7QO+jXN/h9ztAqUVcSV99PECRdI+7RgI9QHQ7OxM9gT1AHKWkLef0PUBUvBDo6Vc+QOyLxB/qpD5Aqh4FsozWPkBefxd8duc+QNK4QFtM0j5AnDyDYUL+PkCQmbXiqSY/QI8mnqkWSj9Ak58dasSXP0Dg+XDearE/QFFS1sUssz9A27DmF5SQP0ByB9zaFF4/QL+milxZGz9A6oExDlDvPkCh9bMAqu0+QFTaFF611D5AwsypYQuoPkCoachGRWs+QMdNxkj8IT5AQDDiSvrqPUAT9RHxg4s9QO0CjakSGz1AhujitbOxPEBJkz2fqlI8QKPwxu46ATxAAO6oLajAO0DLeA3lNZQ7QHB+Hp4nfztAc6cwmzg2O0DXdZyEMwY7QMIjdFtY3zpApPtWDd3XOkDcXUN5DeU6QAc+VaUWCTtAw4+olyVGO0BVggZFHFk7QOX7pX2TbDtAIU1bjzWAO0CxxvrHrJM7QEO5WHWjpjtAyZIdJ+GMO0CL/////387QIv/////fztAh24nNCyRO0C+2HESzpg7QCpMYrHmlztAxdZ7J3ePO0CIhkGLgIA7QG1pNvMDbDtAbo3ddQJTO0CFALopfTY7QKvQTiV1FztARki5vsPvOkDi+qhwi8s6QFBb6jJiqzpAYNxJ/d2POkDm8JPHlHk6QLILlYkcaTpAlp8ZOwtfOkBlH+7T9ls6QPD93kt1YDpACa64mhxtOkAqcv8ePIg6QOXrKE2CqTpAo7ulLiO2OkCNZBKLNb86QM364/WjxDpAj5KPAlnGOkD/P4pEP8Q6QBbmZ9HlujpAbRt6jXuvOkBEkJxMqaI6QGr0quIXlTpAq/eAI3CHOkDWSfriWno6QLqa8vSAbjpAIppFLYtkOkDf985fIl06QLxjamDvWDpA\",\"dtype\":\"float64\",\"order\":\"little\",\"shape\":[141]},\"60bde68382145624b8a06526\":{\"__ndarray__\":\"g38DkdhLOECI9SX5Gl02QFIw3jg66DRAGvL8uargM0AX/VLm4DkzQIITsSdR5zJAk/fn52/cMkCCa8iQsQwzQIgxI4yKazNA3gvJQ2/sM0BcvIoh1II0QD+DNnnKATVAhVWKCbqrNUAzLWEuE/o1QLW9mxl6PzZAhrimqZhhNkBtzUdCeFE2QDKY20BjKjZAu3m/sEDZNUCAkoek5tQ1QGjefpwGyzVA0KWJIJjBNUD69joDgZw1QLPLoMfXXDVAWrTt+pBWNUCNut93elU1QOhcxNSoJzVA3pl+jErmNED1egf/RdY0QJgteUhqzjRAxD2/IhzRNEA3j0ENGN00QHRZtZM58DRAPHxTfAQMNUA+Q0bmPi41QD8C290HVjVACiDPl+5vNUCAavAcgaI1QE0wmzi2xzVAHsKjODjfNUDynXLAauo1QCbS4bR38DVAKdWV+ATpNUAbFr4dsdY1QDem4O7AxzVAIfWLKm62NUAe9gagGbs1QO/K8iqG0DVAmkJh843hNUBIQJbRau41QArEVkAE/jVAgX1gRfEPNkDoY6fRbh02QCxzN7FcIjZAz5NVuQEnNkDEMfNCoCc2QEH1k4jgJzZA+iUz8E8oNkC62qKCPRs2QO1HHw0Q/zVAOVhtRTTzNUBKQ0oV+OY1QPH8nlvi1DVA8Blj4RrGNUBurgs6jLo1QFLv8HutvTVAEYgX/g3ENUCOPysYpMw1QFfB9Zvm0jVALhaDmJjdNUBsZr00j+w1QBuazfwA+zVATwnCCYcENkAhNXy9+Qk2QA8Y87zZETZAKMz7xLkbNkCB33/YxyQ2QNFE5QJtMTZAFMp/E009NkC9japOXEs2QOg+xI2WYzZAQAPY6g93NkC3vOHv/Ig2QBLyVU+EoTZAWaE+Hk+3NkDuDFtAxck2QHYXkGGF4TZA1Io9HRP2NkCTmW7QZQM3QEe3nQ9lFjdAvTadcYQpN0BjOvfz8Dw3QIdIBADBSzdAGVT3ebdSN0DY6O5C31s3QBJCAsfyaTdAeq4PaUVzN0CbuWgxiIk3QDAdJ+GMoTdAv4o57lm9N0A0wyYMVtU3QNBXFncL7TdAepV6nEX/N0BdCYeEbgs4QKlAbzfwEDhA2QgoWNMTOEBZv8D8vRc4QHxwWKSbEzhA33w8nm4ROECt/BA3Wg44QOf3M+HPBDhABccKhJH2N0B+MuCTw+U3QLjyfSXA2DdA2qdEhtbRN0B+nZla5cc3QIDfAXAkwTdAwn0xTQTBN0CEl3S2VcE3QBrYx6Q1xTdApra4HLTJN0B+Ulhdic83QAFD+6RB0jdACXD9prnUN0Cm5bAJg9U3QP8/R2G02TdAoCqKf8TcN0BFhbIqN+A3QHaHde7n4TdAqNR5r/TbN0ApIZVOl9A3QIcwe6PzyzdATdJGEW/HN0ArLTyVO8M3QGdnnyyLvzdAR6e01I+8N0ARE8CKe7o3QArRBUyAuTdAegfKFdC5N0Cl3FDlnLs3QNJ23rcYvzdA\",\"dtype\":\"float64\",\"order\":\"little\",\"shape\":[141]},\"6149ad143f9819ee0c435b8f\":{\"__ndarray__\":\"owk4tQ+6NEBtRSy2CBg1QNwla5esXTVAXVEFipKNNUBabgu/Uao1QEIjjmeBtjVAfxaetLi0NUB/7kvXjqc1QK1RqACbkTVAdubDYXR1NUDpUq8rslU1QLymPxtcPzVAl+8AOJIgNUAqfsfP/vg0QLjlMqHf8TRAbOWgTZ7yNEAj9sfrRwk1QAFIIzzJNzVANgq3uBw0NUBmhDvkRBQ1QEiQgf2q6DRArRH1ssToNEDMs0vravQ0QP4XLkLyCjVAub1cZagNNUC87wiWBBI1QEZnbwCaMTVAczp5i01ZNUBH4uSrnog1QITjrpEAojVAlUYOFWrCNUAyxxLiA+g1QA4hzKT2EDZA4g9KCWs7NkBhT5y7iWU2QAJ33HTGkTZAJHrXypetNkDbJLAcMrI2QFDMhbqIqTZAlvWnc37DNkC5sBUQgd82QIRY/5h18jZA2ykbl0QCN0D88ZDUnBo3QEu9REtROTdAKpga9TRcN0D+jvbLGoE3QCeuvMnVpTdACwJR6DjIN0AJl5chF+Y3QNIa2icNEjhACFHBns09OED0zK2QxGA4QAZrkiynhDhA8eZ+Hp6nOEBu/IIS0sc4QMSGjMx93DhA7Lq43f/3OEAGoW0WPAY5QFB9WOd+HjlAXJHFHPcsOUDSHwbuTTA5QHDMD7BXNzlA0zE6VeRKOUDDA3r6NVk5QKbxv8yJaTlAgT104R51OUBeUVchyHU5QLp3S11GbDlAUh8pWQ9VOUCRr1OIkTc5QMrfVA+UDjlAPQjF/H7jOEBGIZ2sCcI4QCjaQ1aiozhAtaWF8d6IOEC99i52VXI4QPwzujUKYjhA3Q/MoMdXOECW9SkL2184QPn93kt1YDhAKjsnKJ9lOED7H8+X7m84QD4fo5L5fzhAMSvt2hiNOED81gUdRp04QGTFqhs1pThA5gEK1vSkOEAYzXY6ZaA4QNGLOioblzhAWYPAbpmPOEBGAOkhaoU4QISrIKCfgThAEo3FW6t+OECafO0tuHw4QMVRru/wezhAPeQdeoB8OECtC1KmkX44QJf/////fzhAl/////9/OECX/////384QMIXpEwjfThAubCXp917OEDS8sQ3BHw4QGMGFiRsfThAwxN1k+p/OEBIQ8ysVIM4QB2lYUpcijhA+Phz0WKQOEDYPgNCaJU4QL92D5xsmThArKCY32+cOEBemKgZvaI4QOVAvqempThAv116z2ylOEBssn3WT6I4QGoCaQKQnDhA9uzmpbiYOECdGBdkXJA4QF0MO8j7gzhAMU+UXRd0OEAZaGSvL2E4QJtCpNYYTDhAenLQJk85OEDdkp++PSk4QO0+yLxPHDhA0xEBQPASOEC2pgBnig04QHFYvLXqBzhAW9IwJS4FOEDy1/76lAU4QJ2TIsxNCzhAsachE1gSOED/deV6IRo4QPNfV64XIjhA+cZgWKgpOEB6DOsjQTA4QOKR37tPNThAnbgny0E4OEAV4qz8hDg4QLdvWPuGNThA\",\"dtype\":\"float64\",\"order\":\"little\",\"shape\":[141]},\"x\":[0,1,2,3,4,5,6,7,8,9,10,11,12,13,14,15,16,17,18,19,20,21,22,23,24,25,26,27,28,29,30,31,32,33,34,35,36,37,38,39,40,41,42,43,44,45,46,47,48,49,50,51,52,53,54,55,56,57,58,59,60,61,62,63,64,65,66,67,68,69,70,71,72,73,74,75,76,77,78,79,80,81,82,83,84,85,86,87,88,89,90,91,92,93,94,95,96,97,98,99,100,101,102,103,104,105,106,107,108,109,110,111,112,113,114,115,116,117,118,119,120,121,122,123,124,125,126,127,128,129,130,131,132,133,134,135,136,137,138,139,140]},\"selected\":{\"id\":\"1446\"},\"selection_policy\":{\"id\":\"1447\"}},\"id\":\"1372\",\"type\":\"ColumnDataSource\"},{\"attributes\":{\"line_color\":\"#8c564b\",\"line_width\":2,\"x\":{\"field\":\"x\"},\"y\":{\"field\":\"6149ad143f9819ee0c435b8f\"}},\"id\":\"1394\",\"type\":\"Line\"},{\"attributes\":{},\"id\":\"1358\",\"type\":\"PanTool\"},{\"attributes\":{},\"id\":\"1362\",\"type\":\"ResetTool\"},{\"attributes\":{},\"id\":\"1444\",\"type\":\"BasicTickFormatter\"},{\"attributes\":{\"label\":{\"value\":\"team-1\"},\"renderers\":[{\"id\":\"1386\"}]},\"id\":\"1406\",\"type\":\"LegendItem\"},{\"attributes\":{},\"id\":\"1346\",\"type\":\"LinearScale\"},{\"attributes\":{},\"id\":\"1359\",\"type\":\"WheelZoomTool\"},{\"attributes\":{\"source\":{\"id\":\"1372\"}},\"id\":\"1397\",\"type\":\"CDSView\"},{\"attributes\":{\"line_alpha\":0.1,\"line_color\":\"#1f77b4\",\"line_width\":2,\"x\":{\"field\":\"x\"},\"y\":{\"field\":\"5fae9ebf2573bc71bec43bca\"}},\"id\":\"1400\",\"type\":\"Line\"},{\"attributes\":{},\"id\":\"1342\",\"type\":\"DataRange1d\"},{\"attributes\":{\"source\":{\"id\":\"1372\"}},\"id\":\"1377\",\"type\":\"CDSView\"},{\"attributes\":{\"overlay\":{\"id\":\"1364\"}},\"id\":\"1360\",\"type\":\"BoxZoomTool\"},{\"attributes\":{\"label\":{\"value\":\"baseline-random\"},\"renderers\":[{\"id\":\"1401\"}]},\"id\":\"1409\",\"type\":\"LegendItem\"},{\"attributes\":{\"line_alpha\":0.1,\"line_color\":\"#2ca02c\",\"line_width\":2,\"x\":{\"field\":\"x\"},\"y\":{\"field\":\"60bddeef82145624b8a06523\"}},\"id\":\"1375\",\"type\":\"Line\"},{\"attributes\":{\"click_policy\":\"mute\",\"items\":[{\"id\":\"1404\"},{\"id\":\"1405\"},{\"id\":\"1406\"},{\"id\":\"1407\"},{\"id\":\"1408\"},{\"id\":\"1409\"}]},\"id\":\"1403\",\"type\":\"Legend\"},{\"attributes\":{\"data_source\":{\"id\":\"1372\"},\"glyph\":{\"id\":\"1384\"},\"hover_glyph\":null,\"muted_glyph\":null,\"nonselection_glyph\":{\"id\":\"1385\"},\"selection_glyph\":null,\"view\":{\"id\":\"1387\"}},\"id\":\"1386\",\"type\":\"GlyphRenderer\"},{\"attributes\":{\"source\":{\"id\":\"1372\"}},\"id\":\"1392\",\"type\":\"CDSView\"},{\"attributes\":{},\"id\":\"1355\",\"type\":\"BasicTicker\"},{\"attributes\":{},\"id\":\"1447\",\"type\":\"UnionRenderers\"},{\"attributes\":{\"source\":{\"id\":\"1372\"}},\"id\":\"1382\",\"type\":\"CDSView\"},{\"attributes\":{\"bottom_units\":\"screen\",\"fill_alpha\":0.5,\"fill_color\":\"lightgrey\",\"left_units\":\"screen\",\"level\":\"overlay\",\"line_alpha\":1.0,\"line_color\":\"black\",\"line_dash\":[4,4],\"line_width\":2,\"right_units\":\"screen\",\"top_units\":\"screen\"},\"id\":\"1364\",\"type\":\"BoxAnnotation\"},{\"attributes\":{\"data_source\":{\"id\":\"1372\"},\"glyph\":{\"id\":\"1374\"},\"hover_glyph\":null,\"muted_glyph\":null,\"nonselection_glyph\":{\"id\":\"1375\"},\"selection_glyph\":null,\"view\":{\"id\":\"1377\"}},\"id\":\"1376\",\"type\":\"GlyphRenderer\"},{\"attributes\":{\"line_color\":\"#d62728\",\"line_width\":2,\"x\":{\"field\":\"x\"},\"y\":{\"field\":\"60bde65882145624b8a06525\"}},\"id\":\"1384\",\"type\":\"Line\"},{\"attributes\":{\"line_color\":\"#1f77b4\",\"line_width\":2,\"x\":{\"field\":\"x\"},\"y\":{\"field\":\"5fae9ebf2573bc71bec43bca\"}},\"id\":\"1399\",\"type\":\"Line\"},{\"attributes\":{},\"id\":\"1442\",\"type\":\"BasicTickFormatter\"},{\"attributes\":{},\"id\":\"1344\",\"type\":\"DataRange1d\"},{\"attributes\":{\"data_source\":{\"id\":\"1372\"},\"glyph\":{\"id\":\"1389\"},\"hover_glyph\":null,\"muted_glyph\":null,\"nonselection_glyph\":{\"id\":\"1390\"},\"selection_glyph\":null,\"view\":{\"id\":\"1392\"}},\"id\":\"1391\",\"type\":\"GlyphRenderer\"},{\"attributes\":{\"axis_label\":\"Interleaved versus (chronologically ordered)\",\"formatter\":{\"id\":\"1442\"},\"ticker\":{\"id\":\"1351\"}},\"id\":\"1350\",\"type\":\"LinearAxis\"},{\"attributes\":{},\"id\":\"1348\",\"type\":\"LinearScale\"},{\"attributes\":{\"line_alpha\":0.1,\"line_color\":\"#d62728\",\"line_width\":2,\"x\":{\"field\":\"x\"},\"y\":{\"field\":\"60bde65882145624b8a06525\"}},\"id\":\"1385\",\"type\":\"Line\"},{\"attributes\":{\"line_alpha\":0.1,\"line_color\":\"#ff7f0e\",\"line_width\":2,\"x\":{\"field\":\"x\"},\"y\":{\"field\":\"5fae9ec12573bc71bec43bcc\"}},\"id\":\"1380\",\"type\":\"Line\"},{\"attributes\":{\"data_source\":{\"id\":\"1372\"},\"glyph\":{\"id\":\"1399\"},\"hover_glyph\":null,\"muted_glyph\":null,\"nonselection_glyph\":{\"id\":\"1400\"},\"selection_glyph\":null,\"view\":{\"id\":\"1402\"}},\"id\":\"1401\",\"type\":\"GlyphRenderer\"},{\"attributes\":{\"label\":{\"value\":\"baseline-keywords\"},\"renderers\":[{\"id\":\"1396\"}]},\"id\":\"1408\",\"type\":\"LegendItem\"},{\"attributes\":{\"line_color\":\"#ff7f0e\",\"line_width\":2,\"x\":{\"field\":\"x\"},\"y\":{\"field\":\"5fae9ec12573bc71bec43bcc\"}},\"id\":\"1379\",\"type\":\"Line\"},{\"attributes\":{},\"id\":\"1351\",\"type\":\"BasicTicker\"},{\"attributes\":{\"line_alpha\":0.1,\"line_color\":\"#9467bd\",\"line_width\":2,\"x\":{\"field\":\"x\"},\"y\":{\"field\":\"60bde68382145624b8a06526\"}},\"id\":\"1390\",\"type\":\"Line\"},{\"attributes\":{},\"id\":\"1363\",\"type\":\"HelpTool\"},{\"attributes\":{\"axis\":{\"id\":\"1350\"},\"ticker\":null},\"id\":\"1353\",\"type\":\"Grid\"},{\"attributes\":{\"source\":{\"id\":\"1372\"}},\"id\":\"1402\",\"type\":\"CDSView\"},{\"attributes\":{\"data_source\":{\"id\":\"1372\"},\"glyph\":{\"id\":\"1394\"},\"hover_glyph\":null,\"muted_glyph\":null,\"nonselection_glyph\":{\"id\":\"1395\"},\"selection_glyph\":null,\"view\":{\"id\":\"1397\"}},\"id\":\"1396\",\"type\":\"GlyphRenderer\"},{\"attributes\":{\"label\":{\"value\":\"team-2\"},\"renderers\":[{\"id\":\"1391\"}]},\"id\":\"1407\",\"type\":\"LegendItem\"},{\"attributes\":{\"axis\":{\"id\":\"1354\"},\"dimension\":1,\"ticker\":null},\"id\":\"1357\",\"type\":\"Grid\"},{\"attributes\":{\"axis_label\":\"Elo score\",\"formatter\":{\"id\":\"1444\"},\"ticker\":{\"id\":\"1355\"}},\"id\":\"1354\",\"type\":\"LinearAxis\"},{\"attributes\":{\"line_color\":\"#9467bd\",\"line_width\":2,\"x\":{\"field\":\"x\"},\"y\":{\"field\":\"60bde68382145624b8a06526\"}},\"id\":\"1389\",\"type\":\"Line\"},{\"attributes\":{\"active_drag\":\"auto\",\"active_inspect\":\"auto\",\"active_multi\":null,\"active_scroll\":\"auto\",\"active_tap\":\"auto\",\"tools\":[{\"id\":\"1358\"},{\"id\":\"1359\"},{\"id\":\"1360\"},{\"id\":\"1361\"},{\"id\":\"1362\"},{\"id\":\"1363\"}]},\"id\":\"1365\",\"type\":\"Toolbar\"},{\"attributes\":{\"text\":\"\"},\"id\":\"1441\",\"type\":\"Title\"},{\"attributes\":{\"data_source\":{\"id\":\"1372\"},\"glyph\":{\"id\":\"1379\"},\"hover_glyph\":null,\"muted_glyph\":null,\"nonselection_glyph\":{\"id\":\"1380\"},\"selection_glyph\":null,\"view\":{\"id\":\"1382\"}},\"id\":\"1381\",\"type\":\"GlyphRenderer\"},{\"attributes\":{\"line_alpha\":0.1,\"line_color\":\"#8c564b\",\"line_width\":2,\"x\":{\"field\":\"x\"},\"y\":{\"field\":\"6149ad143f9819ee0c435b8f\"}},\"id\":\"1395\",\"type\":\"Line\"},{\"attributes\":{},\"id\":\"1361\",\"type\":\"SaveTool\"},{\"attributes\":{\"label\":{\"value\":\"team-3\"},\"renderers\":[{\"id\":\"1376\"}]},\"id\":\"1404\",\"type\":\"LegendItem\"},{\"attributes\":{\"line_color\":\"#2ca02c\",\"line_width\":2,\"x\":{\"field\":\"x\"},\"y\":{\"field\":\"60bddeef82145624b8a06523\"}},\"id\":\"1374\",\"type\":\"Line\"},{\"attributes\":{\"label\":{\"value\":\"baseline-popular\"},\"renderers\":[{\"id\":\"1381\"}]},\"id\":\"1405\",\"type\":\"LegendItem\"}],\"root_ids\":[\"1341\"]},\"title\":\"Bokeh Application\",\"version\":\"2.2.3\"}};\n",
       "  var render_items = [{\"docid\":\"1c4e6ef1-900e-4331-9009-d8fbf04c9ab8\",\"root_ids\":[\"1341\"],\"roots\":{\"1341\":\"8fb8508a-9afe-42dd-9e01-e706fc976b1d\"}}];\n",
       "  root.Bokeh.embed.embed_items_notebook(docs_json, render_items);\n",
       "\n",
       "  }\n",
       "  if (root.Bokeh !== undefined) {\n",
       "    embed_document(root);\n",
       "  } else {\n",
       "    var attempts = 0;\n",
       "    var timer = setInterval(function(root) {\n",
       "      if (root.Bokeh !== undefined) {\n",
       "        clearInterval(timer);\n",
       "        embed_document(root);\n",
       "      } else {\n",
       "        attempts++;\n",
       "        if (attempts > 100) {\n",
       "          clearInterval(timer);\n",
       "          console.log(\"Bokeh: ERROR: Unable to run BokehJS code because BokehJS library is missing\");\n",
       "        }\n",
       "      }\n",
       "    }, 10, root)\n",
       "  }\n",
       "})(window);"
      ],
      "application/vnd.bokehjs_exec.v0+json": ""
     },
     "metadata": {
      "application/vnd.bokehjs_exec.v0+json": {
       "id": "1341"
      }
     },
     "output_type": "display_data"
    }
   ],
   "source": [
    "p = figure(plot_width=1000, plot_height=600)\n",
    "source = ColumnDataSource(data=new_data2)\n",
    "legend_it = []\n",
    "i = 0\n",
    "for current in scores.keys():\n",
    "    el = p.line('x', current, source=source, line_width=2, color=assigned_colors[current])\n",
    "    legend_it.append((getRecsysName(current), [el]))\n",
    "    i += 1\n",
    "    if i == len(colors):\n",
    "        i = 0\n",
    "legend = Legend(items=legend_it)\n",
    "legend.click_policy = \"mute\"\n",
    "p.xaxis.axis_label = 'Interleaved versus (chronologically ordered)'\n",
    "p.yaxis.axis_label = 'Elo score'\n",
    "p.add_layout(legend, 'above')\n",
    "show(p)"
   ]
  },
  {
   "cell_type": "code",
   "execution_count": null,
   "metadata": {},
   "outputs": [],
   "source": []
  },
  {
   "cell_type": "code",
   "execution_count": null,
   "metadata": {},
   "outputs": [],
   "source": []
  },
  {
   "cell_type": "markdown",
   "metadata": {},
   "source": [
    "## Creating the final plot"
   ]
  },
  {
   "cell_type": "code",
   "execution_count": 40,
   "metadata": {},
   "outputs": [
    {
     "name": "stdout",
     "output_type": "stream",
     "text": [
      "[ 2021-11-11, 2021-11-11, ..., 2021-11-26, 2021-11-26 ]\n",
      "[ 2021-11-11 06:57:54.739000, 2021-11-11 07:00:31.750000, ..., 2021-11-26 08:30:55.721000, 2021-11-26 08:32:43.249000 ]\n",
      "[1, 0, 0, 0, 0, 0, 0, 0, 0, 0, 0, 0, 1, 0, 0, 0, 0, 0, 0, 0, 1, 0, 0, 0, 0, 0, 1, 0, 0, 0, 0, 0, 0, 0, 0, 0, 0, 0, 0, 0, 1, 0, 1, 0, 0, 0, 0, 0, 0, 0, 1, 0, 0, 0, 0, 0, 0, 0, 0, 0, 0, 0, 0, 0, 0, 1, 0, 0, 0, 0, 0, 0, 0, 0, 0, 0, 0, 0, 1, 0, 0, 0, 0, 0, 0, 1, 0, 0, 0, 0, 0, 0, 0, 0, 0, 1, 0, 0, 0, 0, 1, 0, 0, 0, 0, 0, 0, 0, 1, 0, 0, 0, 0, 0, 0, 1, 0, 0, 0, 0, 0, 0, 1, 0, 0, 0, 0, 0, 0, 0, 0, 0, 0, 0, 0, 0, 0, 1, 0, 0, 0]\n"
     ]
    }
   ],
   "source": [
    "# We calculate corresponding days for buckets:\n",
    "all_days_str = []\n",
    "all_days_datetime = copy.deepcopy(original_data['x'])\n",
    "all_days_to_keep = [0] * len(all_days_datetime)\n",
    "current_day = None\n",
    "index = 0\n",
    "for current in original_data['x']:\n",
    "    current = current.strftime('%Y-%m-%d')\n",
    "    all_days_str.append(current)\n",
    "    if current_day is None or current_day != current:\n",
    "        all_days_to_keep[index] = 1\n",
    "        current_day = current\n",
    "    index += 1\n",
    "bp(all_days_str)\n",
    "bp(all_days_datetime)\n",
    "print(all_days_to_keep)"
   ]
  },
  {
   "cell_type": "code",
   "execution_count": 41,
   "metadata": {},
   "outputs": [
    {
     "name": "stdout",
     "output_type": "stream",
     "text": [
      "{\n",
      "  5fae9ebf2573bc71bec43bca: [22.20490307 23.28121589 24.24500084 25.09795107 25.8417597  26.47811987\n",
      "   27.00872471 27.43526735 27.75944093 27.98293857 28.10745342 28.2822491\n",
      "   27.99525989 27.84798954 27.46815953 26.92945407 26.55210853 26.14207257\n",
      "   25.83285387 25.55796012 25.32915986 25.11909121 24.93331154 24.78640078\n",
      "   24.71386074 24.76113109 24.92853874 25.21641059 25.32732919 25.53455378\n",
      "   25.83121935 26.18188951 26.49012749 26.74007846 26.90536123 26.98793723\n",
      "   27.03448839 26.94946061 26.73059823 26.50382478 26.19957502 25.84841451\n",
      "   25.47263812 25.11997385 24.81082053 24.54694345 24.2904544  24.08855835\n",
      "   23.93000981 23.86070611 23.8904544  23.91863354 23.93883622 23.97564564\n",
      "   23.99709055 24.04262831 24.09519451 24.08358941 24.09601177 24.18571429\n",
      "   24.23314809 24.28336058 24.31392612 24.31670481 24.35916966 24.32608696\n",
      "   24.25197777 24.15714286 24.04759725 23.9607388  23.88241255 23.80653808\n",
      "   23.76528277 23.70660347 23.65053939 23.60035959 23.541288   23.48152991\n",
      "   23.42680615 23.38810069 23.37855508 23.36037921 23.37097091 23.37554756\n",
      "   23.39646943 23.39764629 23.40013076 23.40261523 23.43085976 23.47335731\n",
      "   23.5099052  23.54887218 23.5948676  23.62886564 23.6604119  23.69905198\n",
      "   23.72576005 23.73955541 23.7484799  23.75531219 23.74854528 23.71850278\n",
      "   23.71114743 23.69293887 23.68126839 23.658712   23.65070284 23.65560641\n",
      "   23.67178817 23.68643347 23.70627656 23.75233737 23.80029421 23.85439686\n",
      "   23.92942138 24.03886891 24.13533835 24.22706767 24.29434456 24.37708401\n",
      "   24.43409611 24.50003269 24.54864335 24.57731285 24.60147107 24.60797646\n",
      "   24.62193527 24.6255966  24.61238967 24.59002942 24.57525335 24.55091385\n",
      "   24.52798201 24.50859362 24.49488444 24.48899026 24.49304685 24.50918997\n",
      "   24.53955541 24.58627894 24.65149633],\n",
      "  5fae9ec12573bc71bec43bcc: [28.05793337 28.151214   28.0283426  27.71977473 27.255966   26.66737199\n",
      "   25.98444827 25.23765045 24.4574341  23.67425481 22.91856816 22.11994116\n",
      "   21.68607388 21.40045767 21.28695652 21.45789474 21.4255966  21.38996404\n",
      "   21.47512259 21.64916639 21.89882314 22.04841451 22.29597908 22.62216411\n",
      "   22.92791762 23.17734554 23.42213142 23.67224583 23.8955541  24.12101994\n",
      "   24.29189278 24.34838182 24.35367767 24.3109186  24.22540046 24.07384766\n",
      "   23.94125531 23.76976136 23.62958483 23.47665904 23.33223276 23.32582543\n",
      "   23.41729323 23.53563256 23.59856162 23.66361556 23.7324289  23.74563583\n",
      "   23.7914678  23.78924485 23.73059823 23.64776071 23.60258254 23.56593658\n",
      "   23.53354037 23.48865642 23.44311867 23.39758091 23.35269696 23.30912063\n",
      "   23.25073553 23.27518797 23.32448513 23.36515201 23.36240602 23.35661981\n",
      "   23.37257274 23.40797646 23.4648578  23.48960445 23.54148415 23.602746\n",
      "   23.65501798 23.69797319 23.74805492 23.78443936 23.79908467 23.79297156\n",
      "   23.76708075 23.72239294 23.65988885 23.60761687 23.52370056 23.42589081\n",
      "   23.32634848 23.24475319 23.18875449 23.16227525 23.15433148 23.11075515\n",
      "   23.07803204 23.04269369 23.00245178 22.95501798 22.90496894 22.82981366\n",
      "   22.74089572 22.64707421 22.53484799 22.41680288 22.32131415 22.24968944\n",
      "   22.20323635 22.18885257 22.18796992 22.20156914 22.23556718 22.2989866\n",
      "   22.3535796  22.42566198 22.51575678 22.59892122 22.68437398 22.75210853\n",
      "   22.81068977 22.85750245 22.88993135 22.90536123 22.90117686 22.89065054\n",
      "   22.89983655 22.91065708 22.92180451 22.92638117 22.92275253 22.93259235\n",
      "   22.94341288 22.95174894 22.97960118 23.02598889 23.06694998 23.10921276\n",
      "   23.14897471 23.18426996 23.21313263 23.23359684 23.24369669 23.24146631\n",
      "   23.22493982 23.19215133 23.14113495],\n",
      "  60bddeef82145624b8a06523: [29.83627894 29.24263128 28.89700734 28.77259552 28.84258423 29.08016187\n",
      "   29.45851685 29.95083757 30.53031244 31.17012987 31.84347826 32.37427264\n",
      "   32.88411246 33.38780647 33.87770513 34.34766263 34.77348807 35.13099052\n",
      "   35.7313828  36.02873488 36.33180778 36.30650539 36.0983001  35.82785224\n",
      "   35.3996731  34.96982674 34.3515201  33.57450147 32.62938869 31.60679961\n",
      "   30.4727035  29.39532527 28.40830337 27.53667865 26.8269696  26.329356\n",
      "   26.09424649 26.14713959 26.58061458 26.77446878 27.12981366 27.32589081\n",
      "   27.51788166 27.71003596 27.90660347 28.11183393 28.11343576 28.01961425\n",
      "   27.86155606 27.74782609 27.5416476  27.36868258 27.17038248 26.97204969\n",
      "   26.79597908 26.65995423 26.56878065 26.50987251 26.54576659 26.53223276\n",
      "   26.54158222 26.47204969 26.40758418 26.33239621 26.27355345 26.2310559\n",
      "   26.18813338 26.17087283 26.21438379 26.29663289 26.33674403 26.40948022\n",
      "   26.49643674 26.61274926 26.69460608 26.76240602 26.81418764 26.86603465\n",
      "   26.93252697 26.9402746  26.92147761 26.89091206 26.89473684 26.89588101\n",
      "   26.89434456 26.89669827 26.85796012 26.82487741 26.78329519 26.7358287\n",
      "   26.68509317 26.6225237  26.56812684 26.54622426 26.4969271  26.4225237\n",
      "   26.37374959 26.30594966 26.26149068 26.20755149 26.16544622 26.14596273\n",
      "   26.14249755 26.1235371  26.10441321 26.07809742 26.01176855 25.93661327\n",
      "   25.86145799 25.78826414 25.73576332 25.6966002  25.66567506 25.63638444\n",
      "   25.57721478 25.51379536 25.46528277 25.40045767 25.37319385 25.32177182\n",
      "   25.27084014 25.21150703 25.17463223 25.14445897 25.12327558 25.08071265\n",
      "   25.04354364 25.01274926 25.00735534 25.0289964  25.06191566 25.07177628\n",
      "   25.07975885 25.0845054  25.08465796 25.07885854 25.06574919 25.04397192\n",
      "   25.01216876 24.96898174 24.91305289],\n",
      "  60bde65882145624b8a06525: [25.         25.         25.         25.         25.         25.\n",
      "   25.         25.         25.         25.         25.         25.\n",
      "   25.         25.         25.         25.         25.         25.\n",
      "   25.         25.         25.         25.         25.         25.\n",
      "   25.         25.         25.         25.         25.         25.\n",
      "   25.         25.         25.         25.         25.         25.\n",
      "   25.         25.         25.         25.         25.         25.\n",
      "   25.         25.         25.         24.73726708 24.62049689 24.63432494\n",
      "   24.76338673 24.99231775 25.30575351 25.68832952 26.12468127 26.59944426\n",
      "   27.00222295 27.46547891 27.96829029 28.48973521 29.00889179 29.50483818\n",
      "   29.9566525  30.34341288 30.64419745 30.83808434 30.90415168 30.82147761\n",
      "   30.99320039 31.15102975 31.2894083  31.5928408  31.69303694 31.69990193\n",
      "   31.56475973 31.36750572 31.1068323  30.9348153  30.92837529 30.83089245\n",
      "   30.65642367 30.41902583 30.1327558  29.91788166 29.54498202 29.10575351\n",
      "   28.69414841 28.32291599 28.00480549 27.7525662  27.57894737 27.49669827\n",
      "   27.21180124 27.0242236  26.87244197 26.84321674 26.89473684 27.0355018\n",
      "   27.27401111 27.34808761 27.42412553 27.50081726 27.57685518 27.65093168\n",
      "   27.55031056 27.5        27.5        27.56708075 27.59689441 27.59336384\n",
      "   27.5604119  27.50196143 27.42193527 27.32425629 27.21284734 27.09163125\n",
      "   26.93658058 26.79509644 26.66946715 26.56198104 26.47492645 26.4105917\n",
      "   26.37126512 26.35923504 26.3767898  26.42621772 26.53216737 26.66214449\n",
      "   26.71147434 26.74691076 26.76812684 26.77479568 26.76659039 26.73006924\n",
      "   26.68547901 26.6353958  26.58239571 26.52905485 26.47794932 26.43165523\n",
      "   26.39274867 26.36380576 26.3474026 ],\n",
      "  60bde68382145624b8a06526: [24.29627329 22.36369283 20.9071384  19.87760508 19.22608795 18.90358208\n",
      "   18.86108255 19.04958444 19.42008282 19.92357277 20.51104936 21.00699575\n",
      "   21.67080745 21.97685518 22.24795685 22.3812357  22.31824126 22.16557699\n",
      "   21.84864335 21.83164433 21.79306963 21.75622753 21.61134358 21.36266754\n",
      "   21.33814972 21.33389997 21.15491991 20.89957502 20.83700556 20.80630925\n",
      "   20.81683557 20.86364825 20.93837856 21.04694345 21.18064727 21.33605754\n",
      "   21.43723439 21.63478261 21.78012422 21.87195162 21.9156914  21.93932658\n",
      "   21.9102321  21.83864008 21.78028768 21.7126185  21.73085976 21.81454724\n",
      "   21.88107225 21.93131742 21.99225237 22.06227525 22.11497221 22.13422687\n",
      "   22.15237006 22.15478915 22.15576986 22.15746976 22.10640732 21.99633867\n",
      "   21.95001635 21.90222295 21.83157895 21.77384766 21.72870219 21.74092841\n",
      "   21.76583851 21.79937888 21.82383132 21.86560968 21.92406015 21.98048382\n",
      "   22.01768552 22.03896698 22.06972867 22.10830337 22.1436744  22.19306963\n",
      "   22.23945734 22.29437725 22.38901602 22.46508663 22.53510951 22.63092514\n",
      "   22.716051   22.78816607 22.88094148 22.96122916 23.01327231 23.08747957\n",
      "   23.16217718 23.23805165 23.2959137  23.32311213 23.35887545 23.41386074\n",
      "   23.45027787 23.53723439 23.6310559  23.73965348 23.83334423 23.92595619\n",
      "   23.99715593 24.04465512 24.06616541 24.07744361 24.09274273 24.07659366\n",
      "   24.06809415 24.05606407 24.01879699 23.96315789 23.89751553 23.84668192\n",
      "   23.81967963 23.78084341 23.75446224 23.75397189 23.75521412 23.77034979\n",
      "   23.78790454 23.81068977 23.82131415 23.83095783 23.83403073 23.85040863\n",
      "   23.86237332 23.87584178 23.88244524 23.85920235 23.81480876 23.79668638\n",
      "   23.77903851 23.76262791 23.74821738 23.73656969 23.7284476  23.72461391\n",
      "   23.72583138 23.73286279 23.74647092],\n",
      "  6149ad143f9819ee0c435b8f: [20.72680218 21.09388293 21.36591479 21.55301726 21.66530985 21.71291206\n",
      "   21.70594338 21.65452333 21.5687714  21.4588071  21.33474992 21.24749918\n",
      "   21.12723112 20.97263812 20.94481857 20.94772802 21.03625368 21.21791435\n",
      "   21.20356326 21.0791762  20.9088591  20.90925139 20.95475646 21.04275907\n",
      "   21.05335077 21.07038248 21.19375613 21.34883949 21.53367113 21.63282118\n",
      "   21.75943119 21.90630925 22.06626348 22.23210199 22.39663289 22.56943446\n",
      "   22.67809742 22.69607715 22.66224256 22.76364825 22.87306309 22.9471069\n",
      "   23.0088591  23.10395554 23.2238967  23.36018307 23.50431514 23.6477934\n",
      "   23.78211834 23.89879045 24.07051324 24.24141876 24.37799935 24.51817587\n",
      "   24.65475646 24.7805492  24.86129454 24.96874796 25.02435436 25.1191239\n",
      "   25.17564564 25.18868911 25.21618176 25.29254658 25.3484799  25.41225891\n",
      "   25.45750245 25.460085   25.42294868 25.33226545 25.2170644  25.05694671\n",
      "   24.88865642 24.75796012 24.63919582 24.53465185 24.44661654 24.38296829\n",
      "   24.34288983 24.37443609 24.3767898  24.39695979 24.43723439 24.49990193\n",
      "   24.55116051 24.6143511  24.64534161 24.6443609  24.62654462 24.59025825\n",
      "   24.56093495 24.5211507  24.50634194 24.49480222 24.48718535 24.48414515\n",
      "   24.4863354  24.49440994 24.5        24.5        24.5        24.48881988\n",
      "   24.48385093 24.48443936 24.48993135 24.4996731  24.51301079 24.54047074\n",
      "   24.56400785 24.5836221  24.5993135  24.61108205 24.63569794 24.64707421\n",
      "   24.64619157 24.63403073 24.61157241 24.59656751 24.56390977 24.51556064\n",
      "   24.45348153 24.37963387 24.297254   24.22386401 24.1610984  24.1105917\n",
      "   24.07397842 24.0528931  24.03092514 24.02023537 24.02180451 24.04415584\n",
      "   24.07165641 24.10207337 24.13317384 24.16272499 24.18849396 24.20824789\n",
      "   24.21975393 24.22077922 24.20909091],\n",
      "  x: [ 0, 1, ..., 139, 140 ]\n",
      "}\n"
     ]
    }
   ],
   "source": [
    "bp(new_data2)"
   ]
  },
  {
   "cell_type": "code",
   "execution_count": 42,
   "metadata": {},
   "outputs": [
    {
     "name": "stdout",
     "output_type": "stream",
     "text": [
      "18.861082548267927\n",
      "36.3318077803198\n"
     ]
    }
   ],
   "source": [
    "all_scores = set()\n",
    "for key in new_data2:\n",
    "    if key != 'x':\n",
    "        for score in new_data2[key]:\n",
    "            all_scores.add(score)\n",
    "y_min = min(all_scores)\n",
    "print(y_min)\n",
    "y_max = max(all_scores)\n",
    "print(y_max)"
   ]
  },
  {
   "cell_type": "code",
   "execution_count": 43,
   "metadata": {},
   "outputs": [],
   "source": [
    "from bokeh.models import Label"
   ]
  },
  {
   "cell_type": "code",
   "execution_count": 44,
   "metadata": {},
   "outputs": [
    {
     "data": {
      "text/html": [
       "\n",
       "\n",
       "\n",
       "\n",
       "\n",
       "\n",
       "  <div class=\"bk-root\" id=\"cbf1b46f-c16c-4b0d-a1f7-041870ca0dc6\" data-root-id=\"1494\"></div>\n"
      ]
     },
     "metadata": {},
     "output_type": "display_data"
    },
    {
     "data": {
      "application/javascript": [
       "(function(root) {\n",
       "  function embed_document(root) {\n",
       "    \n",
       "  var docs_json = {\"1612168a-c66f-4764-91cf-98ae9dc8457d\":{\"roots\":{\"references\":[{\"attributes\":{\"above\":[{\"id\":\"1592\"}],\"below\":[{\"id\":\"1503\"}],\"center\":[{\"id\":\"1506\"},{\"id\":\"1510\"},{\"id\":\"1561\"},{\"id\":\"1567\"},{\"id\":\"1573\"},{\"id\":\"1579\"},{\"id\":\"1585\"},{\"id\":\"1591\"}],\"left\":[{\"id\":\"1507\"}],\"plot_width\":1000,\"renderers\":[{\"id\":\"1529\"},{\"id\":\"1534\"},{\"id\":\"1539\"},{\"id\":\"1544\"},{\"id\":\"1549\"},{\"id\":\"1554\"},{\"id\":\"1559\"},{\"id\":\"1565\"},{\"id\":\"1571\"},{\"id\":\"1577\"},{\"id\":\"1583\"},{\"id\":\"1589\"}],\"title\":{\"id\":\"1639\"},\"toolbar\":{\"id\":\"1518\"},\"x_range\":{\"id\":\"1495\"},\"x_scale\":{\"id\":\"1499\"},\"y_range\":{\"id\":\"1497\"},\"y_scale\":{\"id\":\"1501\"}},\"id\":\"1494\",\"subtype\":\"Figure\",\"type\":\"Plot\"},{\"attributes\":{},\"id\":\"1657\",\"type\":\"UnionRenderers\"},{\"attributes\":{\"line_color\":\"#cccccc\",\"line_width\":2,\"x\":{\"field\":\"x\"},\"y\":{\"field\":\"y\"}},\"id\":\"1557\",\"type\":\"Line\"},{\"attributes\":{\"source\":{\"id\":\"1574\"}},\"id\":\"1578\",\"type\":\"CDSView\"},{\"attributes\":{},\"id\":\"1642\",\"type\":\"BasicTickFormatter\"},{\"attributes\":{},\"id\":\"1640\",\"type\":\"BasicTickFormatter\"},{\"attributes\":{\"angle\":1.5707963267948966,\"text\":\"2021-11-17\",\"text_color\":\"#aaaaaa\",\"x\":50,\"x_offset\":-2,\"y\":36.3318077803198,\"y_offset\":-80},\"id\":\"1573\",\"type\":\"Label\"},{\"attributes\":{\"line_alpha\":0.1,\"line_color\":\"#cccccc\",\"line_width\":2,\"x\":{\"field\":\"x\"},\"y\":{\"field\":\"y\"}},\"id\":\"1576\",\"type\":\"Line\"},{\"attributes\":{\"text\":\"\"},\"id\":\"1639\",\"type\":\"Title\"},{\"attributes\":{\"line_color\":\"#8c564b\",\"line_width\":2,\"x\":{\"field\":\"x\"},\"y\":{\"field\":\"6149ad143f9819ee0c435b8f\"}},\"id\":\"1547\",\"type\":\"Line\"},{\"attributes\":{\"line_alpha\":0.1,\"line_color\":\"#cccccc\",\"line_width\":2,\"x\":{\"field\":\"x\"},\"y\":{\"field\":\"y\"}},\"id\":\"1582\",\"type\":\"Line\"},{\"attributes\":{\"line_color\":\"#ff7f0e\",\"line_width\":2,\"x\":{\"field\":\"x\"},\"y\":{\"field\":\"5fae9ec12573bc71bec43bcc\"}},\"id\":\"1532\",\"type\":\"Line\"},{\"attributes\":{\"line_alpha\":0.1,\"line_color\":\"#8c564b\",\"line_width\":2,\"x\":{\"field\":\"x\"},\"y\":{\"field\":\"6149ad143f9819ee0c435b8f\"}},\"id\":\"1548\",\"type\":\"Line\"},{\"attributes\":{\"line_color\":\"#cccccc\",\"line_width\":2,\"x\":{\"field\":\"x\"},\"y\":{\"field\":\"y\"}},\"id\":\"1581\",\"type\":\"Line\"},{\"attributes\":{},\"id\":\"1645\",\"type\":\"UnionRenderers\"},{\"attributes\":{\"active_drag\":\"auto\",\"active_inspect\":\"auto\",\"active_multi\":null,\"active_scroll\":\"auto\",\"active_tap\":\"auto\",\"tools\":[{\"id\":\"1511\"},{\"id\":\"1512\"},{\"id\":\"1513\"},{\"id\":\"1514\"},{\"id\":\"1515\"},{\"id\":\"1516\"}]},\"id\":\"1518\",\"type\":\"Toolbar\"},{\"attributes\":{\"data_source\":{\"id\":\"1525\"},\"glyph\":{\"id\":\"1547\"},\"hover_glyph\":null,\"muted_glyph\":null,\"nonselection_glyph\":{\"id\":\"1548\"},\"selection_glyph\":null,\"view\":{\"id\":\"1550\"}},\"id\":\"1549\",\"type\":\"GlyphRenderer\"},{\"attributes\":{},\"id\":\"1511\",\"type\":\"PanTool\"},{\"attributes\":{\"angle\":1.5707963267948966,\"text\":\"2021-11-20\",\"text_color\":\"#aaaaaa\",\"x\":85,\"x_offset\":-2,\"y\":36.3318077803198,\"y_offset\":-80},\"id\":\"1579\",\"type\":\"Label\"},{\"attributes\":{\"line_alpha\":0.1,\"line_color\":\"#1f77b4\",\"line_width\":2,\"x\":{\"field\":\"x\"},\"y\":{\"field\":\"5fae9ebf2573bc71bec43bca\"}},\"id\":\"1553\",\"type\":\"Line\"},{\"attributes\":{},\"id\":\"1512\",\"type\":\"WheelZoomTool\"},{\"attributes\":{\"data\":{\"x\":[108,108],\"y\":[18.861082548267927,36.3318077803198]},\"selected\":{\"id\":\"1654\"},\"selection_policy\":{\"id\":\"1655\"}},\"id\":\"1580\",\"type\":\"ColumnDataSource\"},{\"attributes\":{\"angle\":1.5707963267948966,\"text\":\"2021-11-23\",\"text_color\":\"#aaaaaa\",\"x\":108,\"x_offset\":-2,\"y\":36.3318077803198,\"y_offset\":-80},\"id\":\"1585\",\"type\":\"Label\"},{\"attributes\":{\"overlay\":{\"id\":\"1517\"}},\"id\":\"1513\",\"type\":\"BoxZoomTool\"},{\"attributes\":{\"data_source\":{\"id\":\"1580\"},\"glyph\":{\"id\":\"1581\"},\"hover_glyph\":null,\"muted_glyph\":null,\"nonselection_glyph\":{\"id\":\"1582\"},\"selection_glyph\":null,\"view\":{\"id\":\"1584\"}},\"id\":\"1583\",\"type\":\"GlyphRenderer\"},{\"attributes\":{\"source\":{\"id\":\"1525\"}},\"id\":\"1550\",\"type\":\"CDSView\"},{\"attributes\":{},\"id\":\"1514\",\"type\":\"SaveTool\"},{\"attributes\":{\"line_color\":\"#1f77b4\",\"line_width\":2,\"x\":{\"field\":\"x\"},\"y\":{\"field\":\"5fae9ebf2573bc71bec43bca\"}},\"id\":\"1552\",\"type\":\"Line\"},{\"attributes\":{\"source\":{\"id\":\"1580\"}},\"id\":\"1584\",\"type\":\"CDSView\"},{\"attributes\":{},\"id\":\"1515\",\"type\":\"ResetTool\"},{\"attributes\":{\"line_alpha\":0.1,\"line_color\":\"#cccccc\",\"line_width\":2,\"x\":{\"field\":\"x\"},\"y\":{\"field\":\"y\"}},\"id\":\"1558\",\"type\":\"Line\"},{\"attributes\":{\"data\":{\"x\":[137,137],\"y\":[18.861082548267927,36.3318077803198]},\"selected\":{\"id\":\"1656\"},\"selection_policy\":{\"id\":\"1657\"}},\"id\":\"1586\",\"type\":\"ColumnDataSource\"},{\"attributes\":{},\"id\":\"1516\",\"type\":\"HelpTool\"},{\"attributes\":{\"data_source\":{\"id\":\"1525\"},\"glyph\":{\"id\":\"1552\"},\"hover_glyph\":null,\"muted_glyph\":null,\"nonselection_glyph\":{\"id\":\"1553\"},\"selection_glyph\":null,\"view\":{\"id\":\"1555\"}},\"id\":\"1554\",\"type\":\"GlyphRenderer\"},{\"attributes\":{\"line_alpha\":0.1,\"line_color\":\"#2ca02c\",\"line_width\":2,\"x\":{\"field\":\"x\"},\"y\":{\"field\":\"60bddeef82145624b8a06523\"}},\"id\":\"1528\",\"type\":\"Line\"},{\"attributes\":{\"data_source\":{\"id\":\"1525\"},\"glyph\":{\"id\":\"1532\"},\"hover_glyph\":null,\"muted_glyph\":null,\"nonselection_glyph\":{\"id\":\"1533\"},\"selection_glyph\":null,\"view\":{\"id\":\"1535\"}},\"id\":\"1534\",\"type\":\"GlyphRenderer\"},{\"attributes\":{\"angle\":1.5707963267948966,\"text\":\"2021-11-26\",\"text_color\":\"#aaaaaa\",\"x\":137,\"x_offset\":-2,\"y\":36.3318077803198,\"y_offset\":-80},\"id\":\"1591\",\"type\":\"Label\"},{\"attributes\":{\"line_alpha\":0.1,\"line_color\":\"#cccccc\",\"line_width\":2,\"x\":{\"field\":\"x\"},\"y\":{\"field\":\"y\"}},\"id\":\"1588\",\"type\":\"Line\"},{\"attributes\":{\"line_color\":\"#cccccc\",\"line_width\":2,\"x\":{\"field\":\"x\"},\"y\":{\"field\":\"y\"}},\"id\":\"1587\",\"type\":\"Line\"},{\"attributes\":{\"data_source\":{\"id\":\"1586\"},\"glyph\":{\"id\":\"1587\"},\"hover_glyph\":null,\"muted_glyph\":null,\"nonselection_glyph\":{\"id\":\"1588\"},\"selection_glyph\":null,\"view\":{\"id\":\"1590\"}},\"id\":\"1589\",\"type\":\"GlyphRenderer\"},{\"attributes\":{\"source\":{\"id\":\"1525\"}},\"id\":\"1555\",\"type\":\"CDSView\"},{\"attributes\":{},\"id\":\"1654\",\"type\":\"Selection\"},{\"attributes\":{\"click_policy\":\"mute\",\"items\":[{\"id\":\"1593\"},{\"id\":\"1594\"},{\"id\":\"1595\"},{\"id\":\"1596\"},{\"id\":\"1597\"},{\"id\":\"1598\"}]},\"id\":\"1592\",\"type\":\"Legend\"},{\"attributes\":{\"source\":{\"id\":\"1586\"}},\"id\":\"1590\",\"type\":\"CDSView\"},{\"attributes\":{\"data\":{\"x\":[0,0],\"y\":[18.861082548267927,36.3318077803198]},\"selected\":{\"id\":\"1646\"},\"selection_policy\":{\"id\":\"1647\"}},\"id\":\"1556\",\"type\":\"ColumnDataSource\"},{\"attributes\":{\"angle\":1.5707963267948966,\"text\":\"2021-11-11\",\"text_color\":\"#aaaaaa\",\"x\":0,\"x_offset\":-2,\"y\":36.3318077803198,\"y_offset\":-80},\"id\":\"1561\",\"type\":\"Label\"},{\"attributes\":{\"data_source\":{\"id\":\"1556\"},\"glyph\":{\"id\":\"1557\"},\"hover_glyph\":null,\"muted_glyph\":null,\"nonselection_glyph\":{\"id\":\"1558\"},\"selection_glyph\":null,\"view\":{\"id\":\"1560\"}},\"id\":\"1559\",\"type\":\"GlyphRenderer\"},{\"attributes\":{},\"id\":\"1647\",\"type\":\"UnionRenderers\"},{\"attributes\":{\"source\":{\"id\":\"1556\"}},\"id\":\"1560\",\"type\":\"CDSView\"},{\"attributes\":{},\"id\":\"1648\",\"type\":\"Selection\"},{\"attributes\":{\"bottom_units\":\"screen\",\"fill_alpha\":0.5,\"fill_color\":\"lightgrey\",\"left_units\":\"screen\",\"level\":\"overlay\",\"line_alpha\":1.0,\"line_color\":\"black\",\"line_dash\":[4,4],\"line_width\":2,\"right_units\":\"screen\",\"top_units\":\"screen\"},\"id\":\"1517\",\"type\":\"BoxAnnotation\"},{\"attributes\":{\"data\":{\"5fae9ebf2573bc71bec43bca\":{\"__ndarray__\":\"Nq4Hh3Q0NkCinKfD/Uc3QIX+C2C4PjhA42ZCUhMZOUDAaFiQfdc5QB+XWxBmejpABYVZyDsCO0B1xV+ubW87QHPre7hqwjtABIq73KH7O0CyMywRghs8QBktInpBSDxA/KMhWsn+O0D4oanXFdk7QMR4i03ZdztAiZmxs/DtOkDaoxn8Vo06QAqPPd5eJDpAZ2FW6TXVOUAO7ml51o45QOxeAdJDVDlAhjLkwnweOUD+EUyB7e44QJtG049RyThA1w7Pk7+2OEBAd6182cI4QKtr+ba07ThA7Nc9r2Y3OUAWA5HYy1M5QFvFKITYiDlARsafysrUOUDsXIlPkC46QBDHz/54fTpA4VYhyHW9OkBkTubAxec6QJM0YHTp/DpAwS9AO9QIO0DSYLTZD/M6QMOfZHwIuzpALS0mqfqAOkCRZktZFzM6QCtukbEx2TlAEn7Hz/54OUCnFSibth45QJZ9Ke+RzzhAJnxTfASMOEC0fyc4W0o4QBZbm8KrFjhA5pBqHxXuN0CqRF88V9w3QFIZwdH04zdAYuhUkSvrN0BdcBGSV/A3QCtekunD+TdA6P+RU0H/N0DO7Fyw6Qo4QBSo0qpeGDhAEfSOHWYVOECo9S06lBg4QJOKr/iKLzhA5WjTl687OEDIG5RRikg4QAI+UXZdUDhAkhLukBNROEDbiQWL8ls4QFPpTW96UzhA+Kt7nYFAOEAbOqiDOig4QNdTaVUvDDhADylt+vL1N0CtPAHK5eE3QAU5p0d5zjdAt5BekunDN0D/NPb247Q3QOw35b+JpjdA0M+YKrGZN0Cy8rzZkYo3QCPzVotFezdALfDlKkNtN0DyEAyRWmM3QEbEZvzoYDdA21jUz0FcN0CY/gLz9143QDrkm+IjYDdAb9lWBX9lN0ChXbElzGU3QCORN/huZjdAqcS9yhFnN0BJKTrTTG43QFvrxfEteTdA5oKkJYmCN0BluCDjgow3QEO8Rz5JmDdAt4q3Vv2gN0BxcBXBEKk3QBq6BhL1sjdA62Mpacu5N0BmqtyAU703QDJq4GCcvzdA3nfRI1zBN0DC/8ipoL83QA+KUMzvtzdA2s8awg22N0ClGRRxZLE3QBLQ55pnrjdAtz92WaGoN0DXrSp2lKY3QE9/TtLVpzdA9xgrT/qrN0DQ960auq83QC1Ja4rOtDdAm+J6LpnAN0B2beMU4Mw3QIrjssC52jdA1E49j+7tN0C/VB9Q8wk4QMVhqYilIjhAOxNVGyE6OEDqQjYqWks4QAWf9ZOIYDhAzhQz7CBvOEBiSnQkAoA4QOSs8uNzjDhAst1WxsqTOEBvvgoC+pk4QEbgcFikmzhArJxpJjefOEBiVEoZJ6A4QP9PxJHFnDhAVYAMKwyXOEBcdrjNQ5M4QFX3lrAIjThAbmE71CmHOEA8IP4wM4I4QOieN7+wfjhAnUhAdy59OECGiHBROH44QMvJIEZagjhAmHepTSCKOEAW/WJgFpY4QHDFpXbIpjhA\",\"dtype\":\"float64\",\"order\":\"little\",\"shape\":[141]},\"5fae9ec12573bc71bec43bcc\":{\"__ndarray__\":\"S7GtuNQOPECRP//1tSY8QPlE2XVBBzxAMugrKEO4O0DsT+f8hkE7QNai++PYqjpAoAdZzQT8OUD4pO+o1jw5QI+hr2YadThAFCSJ9pusN0DNUmxIJ+s2QOfKs3a0HjZAL8GuiaKvNUD5fMJkhGY1QPM9jPt1STVA9b7nljh1NUA5IRfm82w1QJ+38K7UYzVArrFNoqF5NUAV89DEL6Y1QN3hC0YZ5jVAeaHE5GQMNkAg3uxIxUs2QDSolyVGnzZA1d5XAoztNkAewmSEZi03QDIq8M0QbDdA7y+HTRisN0CCq54IQ+U3QMRusSn7HjhAMVokfLlKOEBwIx2NL1k4QE52tJ6KWjhA+F2GXJhPOEBMLSrYszk4QLLmL67nEjhATw6vG/bwN0ADlpoUD8U3QPD3tXgsoTdAcmynUwZ6N0CS1LQ0DVU3QBSTq0tpUzdASO60utNqN0A5aSY3H4k3QMG+nFU7mTdALhGateKpN0Cs+9R1gLs3QA8AW/3hvjdAAo48op3KN0DDsFjzC8o3QNKfZHwIuzdAXWNIpdOlN0ATrXzZQpo3QC41QTjhkDdAGbcTGpaIN0DdoV6WGH03QPa0kzlwcTdAD8jI3MdlN0DSshNZSlo3QOhMiociTzdAPJI4NDBAN0AEFAO4ckY3QPqYC3URUzdAMv8mmnpdN0Bpdf6jxlw3QMzAlm9LWzdA+U5F7WBfN0AarT0lcWg3QMD3qesAdzdAlBqLt1Z9N0Bns3a0noo3QP0iwo9NmjdANj0hQq+nN0BAFglfrrI3QAKe+IaAvzdAo7+RBNHIN0B8nhTQkMw3QAf+IS8AyzdAyqFaZ1/EN0BBTV++7rg3QOfD0HnuqDdAralxx4ybN0BgyVc9EYY3QD7CLS4HbTdAnD/wkotTN0DpHBclqD43QGi17jZSMDdAEhf63oopN0DFGpdEgic3QNy0DXNaHDdA8UpV6PkTN0BggkX57Qo3QFnoEa6gADdABwruDnz0NkANzXILrOc2QKI2F6tu1DZAhaR8V6u9NkDtQL6npqU2QHBmP8zriDZAjozkl7NqNkAIQ/ukQVI2QDA5r6XrPzZAXB4sTAc0NkDIlUukWDA2QKSyB8weMDZAbDgBCZozNkDhBnEhTjw2QCi+t2KKTDZA/JVXMYRaNkDKtv8u+Gw2QBrN9KIIhDZAYvWb5lKZNkB9kA8iM682QCTXTC+KwDZAg1JYXYnPNkDzo9pHhds2QNFsfIrS4zZAdE7mwMXnNkA36sCGs+Y2QAvaeqwB5DZAG/AgsFvmNkBToX3SIOk2QF8+ZWH76zZAAiT+UCftNkAUt5GCOew2QM6kTV++7jZABVaqgYPxNkC304DRpfM2QPG2iSTH+jZANDwkNacGN0B4Q1aiIxE3QNfs+131GzdA7DzhNCMmN0DoovpQLC83QJ2NPNyPNjdA22ubAM07N0ByrAvoYj43QDK+gbzQPTdA7g/yp5U5N0B0EFHUMDE3QJUuk2shJDdA\",\"dtype\":\"float64\",\"order\":\"little\",\"shape\":[141]},\"60bddeef82145624b8a06523\":{\"__ndarray__\":\"Ef1iYBbWPUAyJ2wVHT49QFeo50Wi5TxANT/t0cjFPEB/qpSZs9c8QOio9XyFFD1AJfknXGF1PUDoWUMXavM9QOaJX47Chz5A0UeUoY0rP0DeUfkw7tc/QMo/ciroL0BApDbQmCpxQEDkt3qko7FAQOWVS6RY8EBACluPNYAsQUCT8TGoAWNBQLtDH0zEkEFAN9Gl853dQUDjYqaVrQNCQBWEZq14KkJAAneZkTsnQkAfNP0YlQxCQLLX6g/36UFA+LztfCizQUBGL1tII3xBQDKXXJz+LEFAE9+iQ4nJQECFG/7Oj1BAQOhbFjhXmz9AhROwGAN5PkDen3AJNGU9QMqYyJGGaDxAK8KvxWOJO0BlzJFHtNM6QJQfu6xQVDpATy+miSAYOkBt1qbwqiU6QMJeOCijlDpAuqYElkPGOkBeA+R3OyE7QJQolJRtUztA6cl75JOEO0Ao4ajqxLU7QCBoKSoX6DtAolgLJqEcPEABqU0gCh08QGtFj3AFBTxA+twu8I7cO0B2ksqHcb87QD8pvGqpijtAsos2+2FeO0A3iaIvnis7QPU7mj/Y+DpABN7sSMXLOkBoWbnC8qg6QECfxpubkTpAEDgwAYeCOkDw9/hbt4s6QLoH6GdAiDpAtJPTIaWKOkD8O5o/2Hg6QKcrym9XaDpAcUr66hdVOkDPeEyZB0Y6QL22wHomOzpAfihNgikwOkAA63JSvis6QFi7E9vhNjpAtbUCIvBLOkCaJGXbNFY6QBMdI7LTaDpAMyh8ehZ/OkCVhsMi3Zw6QIr/PrTRsTpAwdtkCi3DOkA8lPOZbtA6QEnianK03TpALA9lFrruOkDGSg7WtfA6QHhS2vTl6zpAPzAd0BLkOkDfXUN5DeU6QEeXKXVY5TpAd9zPw/PkOkDb5IQEjuU6QNi6Nkaj2zpAUBp/KivTOkAqhqsIhsg6QA9dE0VfvDpAo/0NRGKvOkC73pa2XZ86QJrHsMJwkTpA5w5VWtWLOkDwiUydNn86QImrY4MqbDpAG9OfDa5fOkDj9nm3Uk46QNWtrA3xQjpAqq0iGCI1OkD+bAqvWio6QD9STNBdJTpAO1sluHokOkAE7asgoB86QOII7dK6GjpAeOA9Mf4TOkB8KYlDAwM6QBKTLePF7zlApvzRgojcOUA57bety8k5QIPHKvxavDlAUdH0Y1SyOUB6eDiuaao5QMy6MhfqojlAVP35WMSTOUAORrMXiIM5QOTDkcUcdzlA8XzCZIRmOUDQ2+ahiV85QPNZV6NfUjlA1DmYx1VFOUBxBhpTJTY5QBODsLK0LDlAP+JmQ/skOUDGlgn9jh85QCI/lZWpFDlAtxoVrSULOUAB7SmJQwM5QMm5NQriATlAOBzvTmwHOUDVRmG02Q85QI5kIe5fEjlAD9Z1E2sUOUCtlVslohU5QFSdzySsFTlA8ubOEjAUOUBxbFbw1BA5QMAnY75BCzlAyRLyfR0DOUB5JwAwD/g4QL1fitW96ThA\",\"dtype\":\"float64\",\"order\":\"little\",\"shape\":[141]},\"60bde65882145624b8a06525\":{\"__ndarray__\":\"/f//////OED///////84QAAAAAAAADlAAQAAAAAAOUACAAAAAAA5QAMAAAAAADlAAwAAAAAAOUADAAAAAAA5QAMAAAAAADlAAwAAAAAAOUCX//////84QJf//////zhAl///////OECX//////84QJf//////zhAl///////OECX//////84QJf//////zhAl///////OECX//////84QJf//////zhAl///////OECX//////84QJf//////zhAl///////OECX//////84QJf//////zhAl///////OECX//////84QJf//////zhAl///////OECX//////84QJf//////zhAl///////OECX//////84QJf//////zhAl///////OECX//////84QJf//////zhAl///////OECX//////84QJf//////zhAl///////OECX//////84QJf//////zhAkzcQib28OEA8wmzi2J44QIFTlB5jojhAT58FUG3DOECUWT+JCP44QD02wNxFTjlAOekGXTawOUB1JpIc6x86QN+h4C11mTpA1dzjrpEAO0CXhEugKXc7QO+jXN/h9ztAqUVcSV99PECRdI+7RgI9QHQ7OxM9gT1AHKWkLef0PUBUvBDo6Vc+QOyLxB/qpD5Aqh4FsozWPkBefxd8duc+QNK4QFtM0j5AnDyDYUL+PkCQmbXiqSY/QI8mnqkWSj9Ak58dasSXP0Dg+XDearE/QFFS1sUssz9A27DmF5SQP0ByB9zaFF4/QL+milxZGz9A6oExDlDvPkCh9bMAqu0+QFTaFF611D5AwsypYQuoPkCoachGRWs+QMdNxkj8IT5AQDDiSvrqPUAT9RHxg4s9QO0CjakSGz1AhujitbOxPEBJkz2fqlI8QKPwxu46ATxAAO6oLajAO0DLeA3lNZQ7QHB+Hp4nfztAc6cwmzg2O0DXdZyEMwY7QMIjdFtY3zpApPtWDd3XOkDcXUN5DeU6QAc+VaUWCTtAw4+olyVGO0BVggZFHFk7QOX7pX2TbDtAIU1bjzWAO0CxxvrHrJM7QEO5WHWjpjtAyZIdJ+GMO0CL/////387QIv/////fztAh24nNCyRO0C+2HESzpg7QCpMYrHmlztAxdZ7J3ePO0CIhkGLgIA7QG1pNvMDbDtAbo3ddQJTO0CFALopfTY7QKvQTiV1FztARki5vsPvOkDi+qhwi8s6QFBb6jJiqzpAYNxJ/d2POkDm8JPHlHk6QLILlYkcaTpAlp8ZOwtfOkBlH+7T9ls6QPD93kt1YDpACa64mhxtOkAqcv8ePIg6QOXrKE2CqTpAo7ulLiO2OkCNZBKLNb86QM364/WjxDpAj5KPAlnGOkD/P4pEP8Q6QBbmZ9HlujpAbRt6jXuvOkBEkJxMqaI6QGr0quIXlTpAq/eAI3CHOkDWSfriWno6QLqa8vSAbjpAIppFLYtkOkDf985fIl06QLxjamDvWDpA\",\"dtype\":\"float64\",\"order\":\"little\",\"shape\":[141]},\"60bde68382145624b8a06526\":{\"__ndarray__\":\"g38DkdhLOECI9SX5Gl02QFIw3jg66DRAGvL8uargM0AX/VLm4DkzQIITsSdR5zJAk/fn52/cMkCCa8iQsQwzQIgxI4yKazNA3gvJQ2/sM0BcvIoh1II0QD+DNnnKATVAhVWKCbqrNUAzLWEuE/o1QLW9mxl6PzZAhrimqZhhNkBtzUdCeFE2QDKY20BjKjZAu3m/sEDZNUCAkoek5tQ1QGjefpwGyzVA0KWJIJjBNUD69joDgZw1QLPLoMfXXDVAWrTt+pBWNUCNut93elU1QOhcxNSoJzVA3pl+jErmNED1egf/RdY0QJgteUhqzjRAxD2/IhzRNEA3j0ENGN00QHRZtZM58DRAPHxTfAQMNUA+Q0bmPi41QD8C290HVjVACiDPl+5vNUCAavAcgaI1QE0wmzi2xzVAHsKjODjfNUDynXLAauo1QCbS4bR38DVAKdWV+ATpNUAbFr4dsdY1QDem4O7AxzVAIfWLKm62NUAe9gagGbs1QO/K8iqG0DVAmkJh843hNUBIQJbRau41QArEVkAE/jVAgX1gRfEPNkDoY6fRbh02QCxzN7FcIjZAz5NVuQEnNkDEMfNCoCc2QEH1k4jgJzZA+iUz8E8oNkC62qKCPRs2QO1HHw0Q/zVAOVhtRTTzNUBKQ0oV+OY1QPH8nlvi1DVA8Blj4RrGNUBurgs6jLo1QFLv8HutvTVAEYgX/g3ENUCOPysYpMw1QFfB9Zvm0jVALhaDmJjdNUBsZr00j+w1QBuazfwA+zVATwnCCYcENkAhNXy9+Qk2QA8Y87zZETZAKMz7xLkbNkCB33/YxyQ2QNFE5QJtMTZAFMp/E009NkC9japOXEs2QOg+xI2WYzZAQAPY6g93NkC3vOHv/Ig2QBLyVU+EoTZAWaE+Hk+3NkDuDFtAxck2QHYXkGGF4TZA1Io9HRP2NkCTmW7QZQM3QEe3nQ9lFjdAvTadcYQpN0BjOvfz8Dw3QIdIBADBSzdAGVT3ebdSN0DY6O5C31s3QBJCAsfyaTdAeq4PaUVzN0CbuWgxiIk3QDAdJ+GMoTdAv4o57lm9N0A0wyYMVtU3QNBXFncL7TdAepV6nEX/N0BdCYeEbgs4QKlAbzfwEDhA2QgoWNMTOEBZv8D8vRc4QHxwWKSbEzhA33w8nm4ROECt/BA3Wg44QOf3M+HPBDhABccKhJH2N0B+MuCTw+U3QLjyfSXA2DdA2qdEhtbRN0B+nZla5cc3QIDfAXAkwTdAwn0xTQTBN0CEl3S2VcE3QBrYx6Q1xTdApra4HLTJN0B+Ulhdic83QAFD+6RB0jdACXD9prnUN0Cm5bAJg9U3QP8/R2G02TdAoCqKf8TcN0BFhbIqN+A3QHaHde7n4TdAqNR5r/TbN0ApIZVOl9A3QIcwe6PzyzdATdJGEW/HN0ArLTyVO8M3QGdnnyyLvzdAR6e01I+8N0ARE8CKe7o3QArRBUyAuTdAegfKFdC5N0Cl3FDlnLs3QNJ23rcYvzdA\",\"dtype\":\"float64\",\"order\":\"little\",\"shape\":[141]},\"6149ad143f9819ee0c435b8f\":{\"__ndarray__\":\"owk4tQ+6NEBtRSy2CBg1QNwla5esXTVAXVEFipKNNUBabgu/Uao1QEIjjmeBtjVAfxaetLi0NUB/7kvXjqc1QK1RqACbkTVAdubDYXR1NUDpUq8rslU1QLymPxtcPzVAl+8AOJIgNUAqfsfP/vg0QLjlMqHf8TRAbOWgTZ7yNEAj9sfrRwk1QAFIIzzJNzVANgq3uBw0NUBmhDvkRBQ1QEiQgf2q6DRArRH1ssToNEDMs0vravQ0QP4XLkLyCjVAub1cZagNNUC87wiWBBI1QEZnbwCaMTVAczp5i01ZNUBH4uSrnog1QITjrpEAojVAlUYOFWrCNUAyxxLiA+g1QA4hzKT2EDZA4g9KCWs7NkBhT5y7iWU2QAJ33HTGkTZAJHrXypetNkDbJLAcMrI2QFDMhbqIqTZAlvWnc37DNkC5sBUQgd82QIRY/5h18jZA2ykbl0QCN0D88ZDUnBo3QEu9REtROTdAKpga9TRcN0D+jvbLGoE3QCeuvMnVpTdACwJR6DjIN0AJl5chF+Y3QNIa2icNEjhACFHBns09OED0zK2QxGA4QAZrkiynhDhA8eZ+Hp6nOEBu/IIS0sc4QMSGjMx93DhA7Lq43f/3OEAGoW0WPAY5QFB9WOd+HjlAXJHFHPcsOUDSHwbuTTA5QHDMD7BXNzlA0zE6VeRKOUDDA3r6NVk5QKbxv8yJaTlAgT104R51OUBeUVchyHU5QLp3S11GbDlAUh8pWQ9VOUCRr1OIkTc5QMrfVA+UDjlAPQjF/H7jOEBGIZ2sCcI4QCjaQ1aiozhAtaWF8d6IOEC99i52VXI4QPwzujUKYjhA3Q/MoMdXOECW9SkL2184QPn93kt1YDhAKjsnKJ9lOED7H8+X7m84QD4fo5L5fzhAMSvt2hiNOED81gUdRp04QGTFqhs1pThA5gEK1vSkOEAYzXY6ZaA4QNGLOioblzhAWYPAbpmPOEBGAOkhaoU4QISrIKCfgThAEo3FW6t+OECafO0tuHw4QMVRru/wezhAPeQdeoB8OECtC1KmkX44QJf/////fzhAl/////9/OECX/////384QMIXpEwjfThAubCXp917OEDS8sQ3BHw4QGMGFiRsfThAwxN1k+p/OEBIQ8ysVIM4QB2lYUpcijhA+Phz0WKQOEDYPgNCaJU4QL92D5xsmThArKCY32+cOEBemKgZvaI4QOVAvqempThAv116z2ylOEBssn3WT6I4QGoCaQKQnDhA9uzmpbiYOECdGBdkXJA4QF0MO8j7gzhAMU+UXRd0OEAZaGSvL2E4QJtCpNYYTDhAenLQJk85OEDdkp++PSk4QO0+yLxPHDhA0xEBQPASOEC2pgBnig04QHFYvLXqBzhAW9IwJS4FOEDy1/76lAU4QJ2TIsxNCzhAsachE1gSOED/deV6IRo4QPNfV64XIjhA+cZgWKgpOEB6DOsjQTA4QOKR37tPNThAnbgny0E4OEAV4qz8hDg4QLdvWPuGNThA\",\"dtype\":\"float64\",\"order\":\"little\",\"shape\":[141]},\"x\":[0,1,2,3,4,5,6,7,8,9,10,11,12,13,14,15,16,17,18,19,20,21,22,23,24,25,26,27,28,29,30,31,32,33,34,35,36,37,38,39,40,41,42,43,44,45,46,47,48,49,50,51,52,53,54,55,56,57,58,59,60,61,62,63,64,65,66,67,68,69,70,71,72,73,74,75,76,77,78,79,80,81,82,83,84,85,86,87,88,89,90,91,92,93,94,95,96,97,98,99,100,101,102,103,104,105,106,107,108,109,110,111,112,113,114,115,116,117,118,119,120,121,122,123,124,125,126,127,128,129,130,131,132,133,134,135,136,137,138,139,140]},\"selected\":{\"id\":\"1644\"},\"selection_policy\":{\"id\":\"1645\"}},\"id\":\"1525\",\"type\":\"ColumnDataSource\"},{\"attributes\":{\"data\":{\"x\":[26,26],\"y\":[18.861082548267927,36.3318077803198]},\"selected\":{\"id\":\"1648\"},\"selection_policy\":{\"id\":\"1649\"}},\"id\":\"1562\",\"type\":\"ColumnDataSource\"},{\"attributes\":{\"label\":{\"value\":\"team-3\"},\"renderers\":[{\"id\":\"1529\"}]},\"id\":\"1593\",\"type\":\"LegendItem\"},{\"attributes\":{},\"id\":\"1655\",\"type\":\"UnionRenderers\"},{\"attributes\":{\"angle\":1.5707963267948966,\"text\":\"2021-11-14\",\"text_color\":\"#aaaaaa\",\"x\":26,\"x_offset\":-2,\"y\":36.3318077803198,\"y_offset\":-80},\"id\":\"1567\",\"type\":\"Label\"},{\"attributes\":{\"label\":{\"value\":\"baseline-popular\"},\"renderers\":[{\"id\":\"1534\"}]},\"id\":\"1594\",\"type\":\"LegendItem\"},{\"attributes\":{\"data_source\":{\"id\":\"1525\"},\"glyph\":{\"id\":\"1527\"},\"hover_glyph\":null,\"muted_glyph\":null,\"nonselection_glyph\":{\"id\":\"1528\"},\"selection_glyph\":null,\"view\":{\"id\":\"1530\"}},\"id\":\"1529\",\"type\":\"GlyphRenderer\"},{\"attributes\":{\"line_color\":\"#d62728\",\"line_width\":2,\"x\":{\"field\":\"x\"},\"y\":{\"field\":\"60bde65882145624b8a06525\"}},\"id\":\"1537\",\"type\":\"Line\"},{\"attributes\":{\"line_alpha\":0.1,\"line_color\":\"#cccccc\",\"line_width\":2,\"x\":{\"field\":\"x\"},\"y\":{\"field\":\"y\"}},\"id\":\"1564\",\"type\":\"Line\"},{\"attributes\":{},\"id\":\"1499\",\"type\":\"LinearScale\"},{\"attributes\":{},\"id\":\"1495\",\"type\":\"DataRange1d\"},{\"attributes\":{\"line_alpha\":0.1,\"line_color\":\"#ff7f0e\",\"line_width\":2,\"x\":{\"field\":\"x\"},\"y\":{\"field\":\"5fae9ec12573bc71bec43bcc\"}},\"id\":\"1533\",\"type\":\"Line\"},{\"attributes\":{\"line_color\":\"#cccccc\",\"line_width\":2,\"x\":{\"field\":\"x\"},\"y\":{\"field\":\"y\"}},\"id\":\"1563\",\"type\":\"Line\"},{\"attributes\":{\"data_source\":{\"id\":\"1562\"},\"glyph\":{\"id\":\"1563\"},\"hover_glyph\":null,\"muted_glyph\":null,\"nonselection_glyph\":{\"id\":\"1564\"},\"selection_glyph\":null,\"view\":{\"id\":\"1566\"}},\"id\":\"1565\",\"type\":\"GlyphRenderer\"},{\"attributes\":{\"label\":{\"value\":\"team-1\"},\"renderers\":[{\"id\":\"1539\"}]},\"id\":\"1595\",\"type\":\"LegendItem\"},{\"attributes\":{\"label\":{\"value\":\"baseline-random\"},\"renderers\":[{\"id\":\"1554\"}]},\"id\":\"1598\",\"type\":\"LegendItem\"},{\"attributes\":{\"source\":{\"id\":\"1525\"}},\"id\":\"1535\",\"type\":\"CDSView\"},{\"attributes\":{\"source\":{\"id\":\"1562\"}},\"id\":\"1566\",\"type\":\"CDSView\"},{\"attributes\":{\"label\":{\"value\":\"team-2\"},\"renderers\":[{\"id\":\"1544\"}]},\"id\":\"1596\",\"type\":\"LegendItem\"},{\"attributes\":{},\"id\":\"1497\",\"type\":\"DataRange1d\"},{\"attributes\":{\"line_color\":\"#2ca02c\",\"line_width\":2,\"x\":{\"field\":\"x\"},\"y\":{\"field\":\"60bddeef82145624b8a06523\"}},\"id\":\"1527\",\"type\":\"Line\"},{\"attributes\":{},\"id\":\"1649\",\"type\":\"UnionRenderers\"},{\"attributes\":{\"axis_label\":\"Interleaved rec versus (chronologically ordered)\",\"formatter\":{\"id\":\"1640\"},\"ticker\":{\"id\":\"1504\"}},\"id\":\"1503\",\"type\":\"LinearAxis\"},{\"attributes\":{\"label\":{\"value\":\"baseline-keywords\"},\"renderers\":[{\"id\":\"1549\"}]},\"id\":\"1597\",\"type\":\"LegendItem\"},{\"attributes\":{},\"id\":\"1501\",\"type\":\"LinearScale\"},{\"attributes\":{\"line_alpha\":0.1,\"line_color\":\"#d62728\",\"line_width\":2,\"x\":{\"field\":\"x\"},\"y\":{\"field\":\"60bde65882145624b8a06525\"}},\"id\":\"1538\",\"type\":\"Line\"},{\"attributes\":{\"data\":{\"x\":[50,50],\"y\":[18.861082548267927,36.3318077803198]},\"selected\":{\"id\":\"1650\"},\"selection_policy\":{\"id\":\"1651\"}},\"id\":\"1568\",\"type\":\"ColumnDataSource\"},{\"attributes\":{},\"id\":\"1652\",\"type\":\"Selection\"},{\"attributes\":{\"line_color\":\"#9467bd\",\"line_width\":2,\"x\":{\"field\":\"x\"},\"y\":{\"field\":\"60bde68382145624b8a06526\"}},\"id\":\"1542\",\"type\":\"Line\"},{\"attributes\":{\"data_source\":{\"id\":\"1525\"},\"glyph\":{\"id\":\"1537\"},\"hover_glyph\":null,\"muted_glyph\":null,\"nonselection_glyph\":{\"id\":\"1538\"},\"selection_glyph\":null,\"view\":{\"id\":\"1540\"}},\"id\":\"1539\",\"type\":\"GlyphRenderer\"},{\"attributes\":{\"line_alpha\":0.1,\"line_color\":\"#cccccc\",\"line_width\":2,\"x\":{\"field\":\"x\"},\"y\":{\"field\":\"y\"}},\"id\":\"1570\",\"type\":\"Line\"},{\"attributes\":{},\"id\":\"1644\",\"type\":\"Selection\"},{\"attributes\":{\"axis\":{\"id\":\"1503\"},\"ticker\":null},\"id\":\"1506\",\"type\":\"Grid\"},{\"attributes\":{\"line_color\":\"#cccccc\",\"line_width\":2,\"x\":{\"field\":\"x\"},\"y\":{\"field\":\"y\"}},\"id\":\"1569\",\"type\":\"Line\"},{\"attributes\":{},\"id\":\"1504\",\"type\":\"BasicTicker\"},{\"attributes\":{\"data_source\":{\"id\":\"1568\"},\"glyph\":{\"id\":\"1569\"},\"hover_glyph\":null,\"muted_glyph\":null,\"nonselection_glyph\":{\"id\":\"1570\"},\"selection_glyph\":null,\"view\":{\"id\":\"1572\"}},\"id\":\"1571\",\"type\":\"GlyphRenderer\"},{\"attributes\":{},\"id\":\"1508\",\"type\":\"BasicTicker\"},{\"attributes\":{},\"id\":\"1650\",\"type\":\"Selection\"},{\"attributes\":{\"data_source\":{\"id\":\"1574\"},\"glyph\":{\"id\":\"1575\"},\"hover_glyph\":null,\"muted_glyph\":null,\"nonselection_glyph\":{\"id\":\"1576\"},\"selection_glyph\":null,\"view\":{\"id\":\"1578\"}},\"id\":\"1577\",\"type\":\"GlyphRenderer\"},{\"attributes\":{\"source\":{\"id\":\"1525\"}},\"id\":\"1540\",\"type\":\"CDSView\"},{\"attributes\":{},\"id\":\"1653\",\"type\":\"UnionRenderers\"},{\"attributes\":{},\"id\":\"1651\",\"type\":\"UnionRenderers\"},{\"attributes\":{\"source\":{\"id\":\"1568\"}},\"id\":\"1572\",\"type\":\"CDSView\"},{\"attributes\":{},\"id\":\"1646\",\"type\":\"Selection\"},{\"attributes\":{},\"id\":\"1656\",\"type\":\"Selection\"},{\"attributes\":{\"source\":{\"id\":\"1525\"}},\"id\":\"1530\",\"type\":\"CDSView\"},{\"attributes\":{\"source\":{\"id\":\"1525\"}},\"id\":\"1545\",\"type\":\"CDSView\"},{\"attributes\":{\"data\":{\"x\":[85,85],\"y\":[18.861082548267927,36.3318077803198]},\"selected\":{\"id\":\"1652\"},\"selection_policy\":{\"id\":\"1653\"}},\"id\":\"1574\",\"type\":\"ColumnDataSource\"},{\"attributes\":{\"data_source\":{\"id\":\"1525\"},\"glyph\":{\"id\":\"1542\"},\"hover_glyph\":null,\"muted_glyph\":null,\"nonselection_glyph\":{\"id\":\"1543\"},\"selection_glyph\":null,\"view\":{\"id\":\"1545\"}},\"id\":\"1544\",\"type\":\"GlyphRenderer\"},{\"attributes\":{\"axis_label\":\"Elo score\",\"formatter\":{\"id\":\"1642\"},\"ticker\":{\"id\":\"1508\"}},\"id\":\"1507\",\"type\":\"LinearAxis\"},{\"attributes\":{\"line_color\":\"#cccccc\",\"line_width\":2,\"x\":{\"field\":\"x\"},\"y\":{\"field\":\"y\"}},\"id\":\"1575\",\"type\":\"Line\"},{\"attributes\":{\"axis\":{\"id\":\"1507\"},\"dimension\":1,\"ticker\":null},\"id\":\"1510\",\"type\":\"Grid\"},{\"attributes\":{\"line_alpha\":0.1,\"line_color\":\"#9467bd\",\"line_width\":2,\"x\":{\"field\":\"x\"},\"y\":{\"field\":\"60bde68382145624b8a06526\"}},\"id\":\"1543\",\"type\":\"Line\"}],\"root_ids\":[\"1494\"]},\"title\":\"Bokeh Application\",\"version\":\"2.2.3\"}};\n",
       "  var render_items = [{\"docid\":\"1612168a-c66f-4764-91cf-98ae9dc8457d\",\"root_ids\":[\"1494\"],\"roots\":{\"1494\":\"cbf1b46f-c16c-4b0d-a1f7-041870ca0dc6\"}}];\n",
       "  root.Bokeh.embed.embed_items_notebook(docs_json, render_items);\n",
       "\n",
       "  }\n",
       "  if (root.Bokeh !== undefined) {\n",
       "    embed_document(root);\n",
       "  } else {\n",
       "    var attempts = 0;\n",
       "    var timer = setInterval(function(root) {\n",
       "      if (root.Bokeh !== undefined) {\n",
       "        clearInterval(timer);\n",
       "        embed_document(root);\n",
       "      } else {\n",
       "        attempts++;\n",
       "        if (attempts > 100) {\n",
       "          clearInterval(timer);\n",
       "          console.log(\"Bokeh: ERROR: Unable to run BokehJS code because BokehJS library is missing\");\n",
       "        }\n",
       "      }\n",
       "    }, 10, root)\n",
       "  }\n",
       "})(window);"
      ],
      "application/vnd.bokehjs_exec.v0+json": ""
     },
     "metadata": {
      "application/vnd.bokehjs_exec.v0+json": {
       "id": "1494"
      }
     },
     "output_type": "display_data"
    }
   ],
   "source": [
    "p = figure(plot_width=1000, plot_height=600)\n",
    "source = ColumnDataSource(data=new_data2)\n",
    "legend_it = []\n",
    "i = 0\n",
    "for current in scores.keys():\n",
    "    el = p.line('x', current, source=source, line_width=2, color=assigned_colors[current])\n",
    "    legend_it.append((getRecsysName(current), [el]))\n",
    "    i += 1\n",
    "    if i == len(colors):\n",
    "        i = 0\n",
    "day_skip = 3\n",
    "current_skip = 0\n",
    "for i in range(len(all_days_to_keep)):\n",
    "    to_keep = all_days_to_keep[i]\n",
    "    day_str = all_days_str[i]\n",
    "    if to_keep == 1:\n",
    "        if current_skip == 0:\n",
    "            p.line([i, i], [y_min, y_max], line_width=2, color=\"#cccccc\")\n",
    "            p.add_layout(Label(x=i, y=y_max, text=day_str, angle=math.pi/2, y_offset=-80, x_offset=-2, text_color=\"#aaaaaa\"))\n",
    "        current_skip += 1\n",
    "        if current_skip == day_skip:\n",
    "            current_skip = 0\n",
    "legend = Legend(items=legend_it)\n",
    "legend.click_policy = \"mute\"\n",
    "p.xaxis.axis_label = 'Interleaved rec versus (chronologically ordered)'\n",
    "p.yaxis.axis_label = 'Elo score'\n",
    "p.add_layout(legend, 'above')\n",
    "show(p)"
   ]
  },
  {
   "cell_type": "code",
   "execution_count": 45,
   "metadata": {},
   "outputs": [
    {
     "name": "stdout",
     "output_type": "stream",
     "text": [
      "Nombre d’utilisateurs actifs à ce jour : 13\n",
      "Nombre d’utilisateurs non actifs à ce jour : 14 (qui n'ont pas suffisamment d'interactions pour être pris en compte dans la compétition)\n"
     ]
    }
   ],
   "source": [
    "print(\"Nombre d’utilisateurs actifs à ce jour : \" + str(active_users_count))\n",
    "print(\"Nombre d’utilisateurs non actifs à ce jour : \" + str(users_count - active_users_count) + \" (qui n'ont pas suffisamment d'interactions pour être pris en compte dans la compétition)\")"
   ]
  },
  {
   "cell_type": "code",
   "execution_count": 46,
   "metadata": {},
   "outputs": [],
   "source": [
    "# TODO in order to be sure the top system is really the best, we can change the outcomes of its first 1vs1, so it will start with a very low score and we'll see if he anyway get the same rank at the end..."
   ]
  },
  {
   "cell_type": "code",
   "execution_count": null,
   "metadata": {},
   "outputs": [],
   "source": []
  },
  {
   "cell_type": "code",
   "execution_count": null,
   "metadata": {},
   "outputs": [],
   "source": []
  },
  {
   "cell_type": "markdown",
   "metadata": {},
   "source": [
    "## Creating the users activity plot\n",
    "\n",
    "abscisse nombre de jours et ordonné nombre de buckets par jour en moyenne sur une fenêtre glissante de 3"
   ]
  },
  {
   "cell_type": "code",
   "execution_count": 47,
   "metadata": {},
   "outputs": [],
   "source": [
    "# TODO use the previous data structure"
   ]
  },
  {
   "cell_type": "code",
   "execution_count": null,
   "metadata": {},
   "outputs": [],
   "source": []
  }
 ],
 "metadata": {
  "kernelspec": {
   "display_name": "Python 3",
   "language": "python",
   "name": "python3"
  },
  "language_info": {
   "codemirror_mode": {
    "name": "ipython",
    "version": 3
   },
   "file_extension": ".py",
   "mimetype": "text/x-python",
   "name": "python",
   "nbconvert_exporter": "python",
   "pygments_lexer": "ipython3",
   "version": "3.7.9"
  }
 },
 "nbformat": 4,
 "nbformat_minor": 4
}
